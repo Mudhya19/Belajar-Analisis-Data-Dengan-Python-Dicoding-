{
 "cells": [
  {
   "cell_type": "markdown",
   "metadata": {},
   "source": [
    "## Menentukan Pertanyaan Bisnis"
   ]
  },
  {
   "cell_type": "markdown",
   "metadata": {},
   "source": [
    "# Proyek Analisis Data: bike_sharing_dataset\n",
    "- Nama: Muhammad Dhiauddin \n",
    "- Email: muhammaddhiauddin40@gmail.com\n",
    "- Id Dicoding: mudhya19"
   ]
  },
  {
   "cell_type": "markdown",
   "metadata": {},
   "source": [
    "- specifict\n",
    "1. Berapakah total untuk sewa sepeda untuk tahun dari 2011 dan 2012 seluruh musim gugur dari musim 3 ?\n",
    "\n",
    "- Measurable\n",
    "2. Berapa banyak sepeda yang disewakan dalam waktu hari libur, (liburan = 1)  selama musim panas pada tahun 2012 ? \n",
    "\n",
    "- Action-Oriented\n",
    "3.  Bagaimana cara meningkatkan jumlah rental sewa sepeda yang digunakan oleh pengguna biasa (casual) pada hari kerja (hari kerja = 1) ?\n",
    "\n",
    "- Relevant \n",
    "4. Apa hubungan suhu (temp) dengan jumlah pengguna yang terdaftar (registered)?\n",
    "5. Apa pengaruh cuaca (weathersit) terhadap jumlah sewa sepeda (cnt) selama musim gugur ?\n",
    "\n",
    "- time-Bound\n",
    "6. Berapa distribusi per jam sewa sepeda (cnt) pada Hari libur dan hari kerja pada tahun 2012 (tahun = 1)?"
   ]
  },
  {
   "cell_type": "markdown",
   "metadata": {},
   "source": [
    "# menyiapkan semua library yang dibutukan"
   ]
  },
  {
   "cell_type": "code",
   "execution_count": 1,
   "metadata": {},
   "outputs": [],
   "source": [
    "import numpy as np\n",
    "import pandas as pd\n",
    "import matplotlib.pyplot as plt\n",
    "import seaborn as sns"
   ]
  },
  {
   "cell_type": "code",
   "execution_count": 2,
   "metadata": {},
   "outputs": [],
   "source": [
    "df_day = pd.read_csv(\"..\\proyek_tugas_akhir\\dataset\\day.csv\")\n",
    "df_hour = pd.read_csv(\"..\\proyek_tugas_akhir\\dataset\\hour.csv\")"
   ]
  },
  {
   "cell_type": "markdown",
   "metadata": {},
   "source": [
    "# Data Wrangling"
   ]
  },
  {
   "cell_type": "markdown",
   "metadata": {},
   "source": [
    "### gathering data"
   ]
  },
  {
   "cell_type": "code",
   "execution_count": 3,
   "metadata": {},
   "outputs": [
    {
     "data": {
      "text/html": [
       "<div>\n",
       "<style scoped>\n",
       "    .dataframe tbody tr th:only-of-type {\n",
       "        vertical-align: middle;\n",
       "    }\n",
       "\n",
       "    .dataframe tbody tr th {\n",
       "        vertical-align: top;\n",
       "    }\n",
       "\n",
       "    .dataframe thead th {\n",
       "        text-align: right;\n",
       "    }\n",
       "</style>\n",
       "<table border=\"1\" class=\"dataframe\">\n",
       "  <thead>\n",
       "    <tr style=\"text-align: right;\">\n",
       "      <th></th>\n",
       "      <th>instant</th>\n",
       "      <th>dteday</th>\n",
       "      <th>season</th>\n",
       "      <th>yr</th>\n",
       "      <th>mnth</th>\n",
       "      <th>holiday</th>\n",
       "      <th>weekday</th>\n",
       "      <th>workingday</th>\n",
       "      <th>weathersit</th>\n",
       "      <th>temp</th>\n",
       "      <th>atemp</th>\n",
       "      <th>hum</th>\n",
       "      <th>windspeed</th>\n",
       "      <th>casual</th>\n",
       "      <th>registered</th>\n",
       "      <th>cnt</th>\n",
       "    </tr>\n",
       "  </thead>\n",
       "  <tbody>\n",
       "    <tr>\n",
       "      <th>0</th>\n",
       "      <td>1</td>\n",
       "      <td>2011-01-01</td>\n",
       "      <td>1</td>\n",
       "      <td>0</td>\n",
       "      <td>1</td>\n",
       "      <td>0</td>\n",
       "      <td>6</td>\n",
       "      <td>0</td>\n",
       "      <td>2</td>\n",
       "      <td>0.344167</td>\n",
       "      <td>0.363625</td>\n",
       "      <td>0.805833</td>\n",
       "      <td>0.160446</td>\n",
       "      <td>331</td>\n",
       "      <td>654</td>\n",
       "      <td>985</td>\n",
       "    </tr>\n",
       "    <tr>\n",
       "      <th>1</th>\n",
       "      <td>2</td>\n",
       "      <td>2011-01-02</td>\n",
       "      <td>1</td>\n",
       "      <td>0</td>\n",
       "      <td>1</td>\n",
       "      <td>0</td>\n",
       "      <td>0</td>\n",
       "      <td>0</td>\n",
       "      <td>2</td>\n",
       "      <td>0.363478</td>\n",
       "      <td>0.353739</td>\n",
       "      <td>0.696087</td>\n",
       "      <td>0.248539</td>\n",
       "      <td>131</td>\n",
       "      <td>670</td>\n",
       "      <td>801</td>\n",
       "    </tr>\n",
       "    <tr>\n",
       "      <th>2</th>\n",
       "      <td>3</td>\n",
       "      <td>2011-01-03</td>\n",
       "      <td>1</td>\n",
       "      <td>0</td>\n",
       "      <td>1</td>\n",
       "      <td>0</td>\n",
       "      <td>1</td>\n",
       "      <td>1</td>\n",
       "      <td>1</td>\n",
       "      <td>0.196364</td>\n",
       "      <td>0.189405</td>\n",
       "      <td>0.437273</td>\n",
       "      <td>0.248309</td>\n",
       "      <td>120</td>\n",
       "      <td>1229</td>\n",
       "      <td>1349</td>\n",
       "    </tr>\n",
       "    <tr>\n",
       "      <th>3</th>\n",
       "      <td>4</td>\n",
       "      <td>2011-01-04</td>\n",
       "      <td>1</td>\n",
       "      <td>0</td>\n",
       "      <td>1</td>\n",
       "      <td>0</td>\n",
       "      <td>2</td>\n",
       "      <td>1</td>\n",
       "      <td>1</td>\n",
       "      <td>0.200000</td>\n",
       "      <td>0.212122</td>\n",
       "      <td>0.590435</td>\n",
       "      <td>0.160296</td>\n",
       "      <td>108</td>\n",
       "      <td>1454</td>\n",
       "      <td>1562</td>\n",
       "    </tr>\n",
       "    <tr>\n",
       "      <th>4</th>\n",
       "      <td>5</td>\n",
       "      <td>2011-01-05</td>\n",
       "      <td>1</td>\n",
       "      <td>0</td>\n",
       "      <td>1</td>\n",
       "      <td>0</td>\n",
       "      <td>3</td>\n",
       "      <td>1</td>\n",
       "      <td>1</td>\n",
       "      <td>0.226957</td>\n",
       "      <td>0.229270</td>\n",
       "      <td>0.436957</td>\n",
       "      <td>0.186900</td>\n",
       "      <td>82</td>\n",
       "      <td>1518</td>\n",
       "      <td>1600</td>\n",
       "    </tr>\n",
       "    <tr>\n",
       "      <th>5</th>\n",
       "      <td>6</td>\n",
       "      <td>2011-01-06</td>\n",
       "      <td>1</td>\n",
       "      <td>0</td>\n",
       "      <td>1</td>\n",
       "      <td>0</td>\n",
       "      <td>4</td>\n",
       "      <td>1</td>\n",
       "      <td>1</td>\n",
       "      <td>0.204348</td>\n",
       "      <td>0.233209</td>\n",
       "      <td>0.518261</td>\n",
       "      <td>0.089565</td>\n",
       "      <td>88</td>\n",
       "      <td>1518</td>\n",
       "      <td>1606</td>\n",
       "    </tr>\n",
       "    <tr>\n",
       "      <th>6</th>\n",
       "      <td>7</td>\n",
       "      <td>2011-01-07</td>\n",
       "      <td>1</td>\n",
       "      <td>0</td>\n",
       "      <td>1</td>\n",
       "      <td>0</td>\n",
       "      <td>5</td>\n",
       "      <td>1</td>\n",
       "      <td>2</td>\n",
       "      <td>0.196522</td>\n",
       "      <td>0.208839</td>\n",
       "      <td>0.498696</td>\n",
       "      <td>0.168726</td>\n",
       "      <td>148</td>\n",
       "      <td>1362</td>\n",
       "      <td>1510</td>\n",
       "    </tr>\n",
       "    <tr>\n",
       "      <th>7</th>\n",
       "      <td>8</td>\n",
       "      <td>2011-01-08</td>\n",
       "      <td>1</td>\n",
       "      <td>0</td>\n",
       "      <td>1</td>\n",
       "      <td>0</td>\n",
       "      <td>6</td>\n",
       "      <td>0</td>\n",
       "      <td>2</td>\n",
       "      <td>0.165000</td>\n",
       "      <td>0.162254</td>\n",
       "      <td>0.535833</td>\n",
       "      <td>0.266804</td>\n",
       "      <td>68</td>\n",
       "      <td>891</td>\n",
       "      <td>959</td>\n",
       "    </tr>\n",
       "    <tr>\n",
       "      <th>8</th>\n",
       "      <td>9</td>\n",
       "      <td>2011-01-09</td>\n",
       "      <td>1</td>\n",
       "      <td>0</td>\n",
       "      <td>1</td>\n",
       "      <td>0</td>\n",
       "      <td>0</td>\n",
       "      <td>0</td>\n",
       "      <td>1</td>\n",
       "      <td>0.138333</td>\n",
       "      <td>0.116175</td>\n",
       "      <td>0.434167</td>\n",
       "      <td>0.361950</td>\n",
       "      <td>54</td>\n",
       "      <td>768</td>\n",
       "      <td>822</td>\n",
       "    </tr>\n",
       "    <tr>\n",
       "      <th>9</th>\n",
       "      <td>10</td>\n",
       "      <td>2011-01-10</td>\n",
       "      <td>1</td>\n",
       "      <td>0</td>\n",
       "      <td>1</td>\n",
       "      <td>0</td>\n",
       "      <td>1</td>\n",
       "      <td>1</td>\n",
       "      <td>1</td>\n",
       "      <td>0.150833</td>\n",
       "      <td>0.150888</td>\n",
       "      <td>0.482917</td>\n",
       "      <td>0.223267</td>\n",
       "      <td>41</td>\n",
       "      <td>1280</td>\n",
       "      <td>1321</td>\n",
       "    </tr>\n",
       "  </tbody>\n",
       "</table>\n",
       "</div>"
      ],
      "text/plain": [
       "   instant      dteday  season  yr  mnth  holiday  weekday  workingday  \\\n",
       "0        1  2011-01-01       1   0     1        0        6           0   \n",
       "1        2  2011-01-02       1   0     1        0        0           0   \n",
       "2        3  2011-01-03       1   0     1        0        1           1   \n",
       "3        4  2011-01-04       1   0     1        0        2           1   \n",
       "4        5  2011-01-05       1   0     1        0        3           1   \n",
       "5        6  2011-01-06       1   0     1        0        4           1   \n",
       "6        7  2011-01-07       1   0     1        0        5           1   \n",
       "7        8  2011-01-08       1   0     1        0        6           0   \n",
       "8        9  2011-01-09       1   0     1        0        0           0   \n",
       "9       10  2011-01-10       1   0     1        0        1           1   \n",
       "\n",
       "   weathersit      temp     atemp       hum  windspeed  casual  registered  \\\n",
       "0           2  0.344167  0.363625  0.805833   0.160446     331         654   \n",
       "1           2  0.363478  0.353739  0.696087   0.248539     131         670   \n",
       "2           1  0.196364  0.189405  0.437273   0.248309     120        1229   \n",
       "3           1  0.200000  0.212122  0.590435   0.160296     108        1454   \n",
       "4           1  0.226957  0.229270  0.436957   0.186900      82        1518   \n",
       "5           1  0.204348  0.233209  0.518261   0.089565      88        1518   \n",
       "6           2  0.196522  0.208839  0.498696   0.168726     148        1362   \n",
       "7           2  0.165000  0.162254  0.535833   0.266804      68         891   \n",
       "8           1  0.138333  0.116175  0.434167   0.361950      54         768   \n",
       "9           1  0.150833  0.150888  0.482917   0.223267      41        1280   \n",
       "\n",
       "    cnt  \n",
       "0   985  \n",
       "1   801  \n",
       "2  1349  \n",
       "3  1562  \n",
       "4  1600  \n",
       "5  1606  \n",
       "6  1510  \n",
       "7   959  \n",
       "8   822  \n",
       "9  1321  "
      ]
     },
     "execution_count": 3,
     "metadata": {},
     "output_type": "execute_result"
    }
   ],
   "source": [
    "df_day.head(10)"
   ]
  },
  {
   "cell_type": "code",
   "execution_count": 4,
   "metadata": {},
   "outputs": [
    {
     "data": {
      "text/html": [
       "<div>\n",
       "<style scoped>\n",
       "    .dataframe tbody tr th:only-of-type {\n",
       "        vertical-align: middle;\n",
       "    }\n",
       "\n",
       "    .dataframe tbody tr th {\n",
       "        vertical-align: top;\n",
       "    }\n",
       "\n",
       "    .dataframe thead th {\n",
       "        text-align: right;\n",
       "    }\n",
       "</style>\n",
       "<table border=\"1\" class=\"dataframe\">\n",
       "  <thead>\n",
       "    <tr style=\"text-align: right;\">\n",
       "      <th></th>\n",
       "      <th>instant</th>\n",
       "      <th>dteday</th>\n",
       "      <th>season</th>\n",
       "      <th>yr</th>\n",
       "      <th>mnth</th>\n",
       "      <th>hr</th>\n",
       "      <th>holiday</th>\n",
       "      <th>weekday</th>\n",
       "      <th>workingday</th>\n",
       "      <th>weathersit</th>\n",
       "      <th>temp</th>\n",
       "      <th>atemp</th>\n",
       "      <th>hum</th>\n",
       "      <th>windspeed</th>\n",
       "      <th>casual</th>\n",
       "      <th>registered</th>\n",
       "      <th>cnt</th>\n",
       "    </tr>\n",
       "  </thead>\n",
       "  <tbody>\n",
       "    <tr>\n",
       "      <th>0</th>\n",
       "      <td>1</td>\n",
       "      <td>2011-01-01</td>\n",
       "      <td>1</td>\n",
       "      <td>0</td>\n",
       "      <td>1</td>\n",
       "      <td>0</td>\n",
       "      <td>0</td>\n",
       "      <td>6</td>\n",
       "      <td>0</td>\n",
       "      <td>1</td>\n",
       "      <td>0.24</td>\n",
       "      <td>0.2879</td>\n",
       "      <td>0.81</td>\n",
       "      <td>0.0000</td>\n",
       "      <td>3</td>\n",
       "      <td>13</td>\n",
       "      <td>16</td>\n",
       "    </tr>\n",
       "    <tr>\n",
       "      <th>1</th>\n",
       "      <td>2</td>\n",
       "      <td>2011-01-01</td>\n",
       "      <td>1</td>\n",
       "      <td>0</td>\n",
       "      <td>1</td>\n",
       "      <td>1</td>\n",
       "      <td>0</td>\n",
       "      <td>6</td>\n",
       "      <td>0</td>\n",
       "      <td>1</td>\n",
       "      <td>0.22</td>\n",
       "      <td>0.2727</td>\n",
       "      <td>0.80</td>\n",
       "      <td>0.0000</td>\n",
       "      <td>8</td>\n",
       "      <td>32</td>\n",
       "      <td>40</td>\n",
       "    </tr>\n",
       "    <tr>\n",
       "      <th>2</th>\n",
       "      <td>3</td>\n",
       "      <td>2011-01-01</td>\n",
       "      <td>1</td>\n",
       "      <td>0</td>\n",
       "      <td>1</td>\n",
       "      <td>2</td>\n",
       "      <td>0</td>\n",
       "      <td>6</td>\n",
       "      <td>0</td>\n",
       "      <td>1</td>\n",
       "      <td>0.22</td>\n",
       "      <td>0.2727</td>\n",
       "      <td>0.80</td>\n",
       "      <td>0.0000</td>\n",
       "      <td>5</td>\n",
       "      <td>27</td>\n",
       "      <td>32</td>\n",
       "    </tr>\n",
       "    <tr>\n",
       "      <th>3</th>\n",
       "      <td>4</td>\n",
       "      <td>2011-01-01</td>\n",
       "      <td>1</td>\n",
       "      <td>0</td>\n",
       "      <td>1</td>\n",
       "      <td>3</td>\n",
       "      <td>0</td>\n",
       "      <td>6</td>\n",
       "      <td>0</td>\n",
       "      <td>1</td>\n",
       "      <td>0.24</td>\n",
       "      <td>0.2879</td>\n",
       "      <td>0.75</td>\n",
       "      <td>0.0000</td>\n",
       "      <td>3</td>\n",
       "      <td>10</td>\n",
       "      <td>13</td>\n",
       "    </tr>\n",
       "    <tr>\n",
       "      <th>4</th>\n",
       "      <td>5</td>\n",
       "      <td>2011-01-01</td>\n",
       "      <td>1</td>\n",
       "      <td>0</td>\n",
       "      <td>1</td>\n",
       "      <td>4</td>\n",
       "      <td>0</td>\n",
       "      <td>6</td>\n",
       "      <td>0</td>\n",
       "      <td>1</td>\n",
       "      <td>0.24</td>\n",
       "      <td>0.2879</td>\n",
       "      <td>0.75</td>\n",
       "      <td>0.0000</td>\n",
       "      <td>0</td>\n",
       "      <td>1</td>\n",
       "      <td>1</td>\n",
       "    </tr>\n",
       "    <tr>\n",
       "      <th>5</th>\n",
       "      <td>6</td>\n",
       "      <td>2011-01-01</td>\n",
       "      <td>1</td>\n",
       "      <td>0</td>\n",
       "      <td>1</td>\n",
       "      <td>5</td>\n",
       "      <td>0</td>\n",
       "      <td>6</td>\n",
       "      <td>0</td>\n",
       "      <td>2</td>\n",
       "      <td>0.24</td>\n",
       "      <td>0.2576</td>\n",
       "      <td>0.75</td>\n",
       "      <td>0.0896</td>\n",
       "      <td>0</td>\n",
       "      <td>1</td>\n",
       "      <td>1</td>\n",
       "    </tr>\n",
       "    <tr>\n",
       "      <th>6</th>\n",
       "      <td>7</td>\n",
       "      <td>2011-01-01</td>\n",
       "      <td>1</td>\n",
       "      <td>0</td>\n",
       "      <td>1</td>\n",
       "      <td>6</td>\n",
       "      <td>0</td>\n",
       "      <td>6</td>\n",
       "      <td>0</td>\n",
       "      <td>1</td>\n",
       "      <td>0.22</td>\n",
       "      <td>0.2727</td>\n",
       "      <td>0.80</td>\n",
       "      <td>0.0000</td>\n",
       "      <td>2</td>\n",
       "      <td>0</td>\n",
       "      <td>2</td>\n",
       "    </tr>\n",
       "    <tr>\n",
       "      <th>7</th>\n",
       "      <td>8</td>\n",
       "      <td>2011-01-01</td>\n",
       "      <td>1</td>\n",
       "      <td>0</td>\n",
       "      <td>1</td>\n",
       "      <td>7</td>\n",
       "      <td>0</td>\n",
       "      <td>6</td>\n",
       "      <td>0</td>\n",
       "      <td>1</td>\n",
       "      <td>0.20</td>\n",
       "      <td>0.2576</td>\n",
       "      <td>0.86</td>\n",
       "      <td>0.0000</td>\n",
       "      <td>1</td>\n",
       "      <td>2</td>\n",
       "      <td>3</td>\n",
       "    </tr>\n",
       "    <tr>\n",
       "      <th>8</th>\n",
       "      <td>9</td>\n",
       "      <td>2011-01-01</td>\n",
       "      <td>1</td>\n",
       "      <td>0</td>\n",
       "      <td>1</td>\n",
       "      <td>8</td>\n",
       "      <td>0</td>\n",
       "      <td>6</td>\n",
       "      <td>0</td>\n",
       "      <td>1</td>\n",
       "      <td>0.24</td>\n",
       "      <td>0.2879</td>\n",
       "      <td>0.75</td>\n",
       "      <td>0.0000</td>\n",
       "      <td>1</td>\n",
       "      <td>7</td>\n",
       "      <td>8</td>\n",
       "    </tr>\n",
       "    <tr>\n",
       "      <th>9</th>\n",
       "      <td>10</td>\n",
       "      <td>2011-01-01</td>\n",
       "      <td>1</td>\n",
       "      <td>0</td>\n",
       "      <td>1</td>\n",
       "      <td>9</td>\n",
       "      <td>0</td>\n",
       "      <td>6</td>\n",
       "      <td>0</td>\n",
       "      <td>1</td>\n",
       "      <td>0.32</td>\n",
       "      <td>0.3485</td>\n",
       "      <td>0.76</td>\n",
       "      <td>0.0000</td>\n",
       "      <td>8</td>\n",
       "      <td>6</td>\n",
       "      <td>14</td>\n",
       "    </tr>\n",
       "  </tbody>\n",
       "</table>\n",
       "</div>"
      ],
      "text/plain": [
       "   instant      dteday  season  yr  mnth  hr  holiday  weekday  workingday  \\\n",
       "0        1  2011-01-01       1   0     1   0        0        6           0   \n",
       "1        2  2011-01-01       1   0     1   1        0        6           0   \n",
       "2        3  2011-01-01       1   0     1   2        0        6           0   \n",
       "3        4  2011-01-01       1   0     1   3        0        6           0   \n",
       "4        5  2011-01-01       1   0     1   4        0        6           0   \n",
       "5        6  2011-01-01       1   0     1   5        0        6           0   \n",
       "6        7  2011-01-01       1   0     1   6        0        6           0   \n",
       "7        8  2011-01-01       1   0     1   7        0        6           0   \n",
       "8        9  2011-01-01       1   0     1   8        0        6           0   \n",
       "9       10  2011-01-01       1   0     1   9        0        6           0   \n",
       "\n",
       "   weathersit  temp   atemp   hum  windspeed  casual  registered  cnt  \n",
       "0           1  0.24  0.2879  0.81     0.0000       3          13   16  \n",
       "1           1  0.22  0.2727  0.80     0.0000       8          32   40  \n",
       "2           1  0.22  0.2727  0.80     0.0000       5          27   32  \n",
       "3           1  0.24  0.2879  0.75     0.0000       3          10   13  \n",
       "4           1  0.24  0.2879  0.75     0.0000       0           1    1  \n",
       "5           2  0.24  0.2576  0.75     0.0896       0           1    1  \n",
       "6           1  0.22  0.2727  0.80     0.0000       2           0    2  \n",
       "7           1  0.20  0.2576  0.86     0.0000       1           2    3  \n",
       "8           1  0.24  0.2879  0.75     0.0000       1           7    8  \n",
       "9           1  0.32  0.3485  0.76     0.0000       8           6   14  "
      ]
     },
     "execution_count": 4,
     "metadata": {},
     "output_type": "execute_result"
    }
   ],
   "source": [
    "df_hour.head(10)"
   ]
  },
  {
   "cell_type": "markdown",
   "metadata": {},
   "source": [
    "### Assesing Data"
   ]
  },
  {
   "cell_type": "markdown",
   "metadata": {},
   "source": [
    "- data type day"
   ]
  },
  {
   "cell_type": "code",
   "execution_count": 5,
   "metadata": {},
   "outputs": [
    {
     "name": "stdout",
     "output_type": "stream",
     "text": [
      "Dataframe day:\n",
      "<class 'pandas.core.frame.DataFrame'>\n",
      "RangeIndex: 731 entries, 0 to 730\n",
      "Data columns (total 16 columns):\n",
      " #   Column      Non-Null Count  Dtype  \n",
      "---  ------      --------------  -----  \n",
      " 0   instant     731 non-null    int64  \n",
      " 1   dteday      731 non-null    object \n",
      " 2   season      731 non-null    int64  \n",
      " 3   yr          731 non-null    int64  \n",
      " 4   mnth        731 non-null    int64  \n",
      " 5   holiday     731 non-null    int64  \n",
      " 6   weekday     731 non-null    int64  \n",
      " 7   workingday  731 non-null    int64  \n",
      " 8   weathersit  731 non-null    int64  \n",
      " 9   temp        731 non-null    float64\n",
      " 10  atemp       731 non-null    float64\n",
      " 11  hum         731 non-null    float64\n",
      " 12  windspeed   731 non-null    float64\n",
      " 13  casual      731 non-null    int64  \n",
      " 14  registered  731 non-null    int64  \n",
      " 15  cnt         731 non-null    int64  \n",
      "dtypes: float64(4), int64(11), object(1)\n",
      "memory usage: 91.5+ KB\n",
      "None\n"
     ]
    }
   ],
   "source": [
    "print('Dataframe day:')\n",
    "print(df_day.info())"
   ]
  },
  {
   "cell_type": "markdown",
   "metadata": {},
   "source": [
    "- mising value"
   ]
  },
  {
   "cell_type": "code",
   "execution_count": 6,
   "metadata": {},
   "outputs": [
    {
     "name": "stdout",
     "output_type": "stream",
     "text": [
      "Dataframe day:\n",
      "instant       0\n",
      "dteday        0\n",
      "season        0\n",
      "yr            0\n",
      "mnth          0\n",
      "holiday       0\n",
      "weekday       0\n",
      "workingday    0\n",
      "weathersit    0\n",
      "temp          0\n",
      "atemp         0\n",
      "hum           0\n",
      "windspeed     0\n",
      "casual        0\n",
      "registered    0\n",
      "cnt           0\n",
      "dtype: int64\n"
     ]
    }
   ],
   "source": [
    "print('Dataframe day:')\n",
    "print(df_day.isna().sum())"
   ]
  },
  {
   "cell_type": "markdown",
   "metadata": {},
   "source": [
    "- data type hour"
   ]
  },
  {
   "cell_type": "code",
   "execution_count": 7,
   "metadata": {},
   "outputs": [
    {
     "name": "stdout",
     "output_type": "stream",
     "text": [
      "\n",
      "Dataframe hour:\n",
      "<class 'pandas.core.frame.DataFrame'>\n",
      "RangeIndex: 17379 entries, 0 to 17378\n",
      "Data columns (total 17 columns):\n",
      " #   Column      Non-Null Count  Dtype  \n",
      "---  ------      --------------  -----  \n",
      " 0   instant     17379 non-null  int64  \n",
      " 1   dteday      17379 non-null  object \n",
      " 2   season      17379 non-null  int64  \n",
      " 3   yr          17379 non-null  int64  \n",
      " 4   mnth        17379 non-null  int64  \n",
      " 5   hr          17379 non-null  int64  \n",
      " 6   holiday     17379 non-null  int64  \n",
      " 7   weekday     17379 non-null  int64  \n",
      " 8   workingday  17379 non-null  int64  \n",
      " 9   weathersit  17379 non-null  int64  \n",
      " 10  temp        17379 non-null  float64\n",
      " 11  atemp       17379 non-null  float64\n",
      " 12  hum         17379 non-null  float64\n",
      " 13  windspeed   17379 non-null  float64\n",
      " 14  casual      17379 non-null  int64  \n",
      " 15  registered  17379 non-null  int64  \n",
      " 16  cnt         17379 non-null  int64  \n",
      "dtypes: float64(4), int64(12), object(1)\n",
      "memory usage: 2.3+ MB\n",
      "None\n"
     ]
    }
   ],
   "source": [
    "print('\\nDataframe hour:')\n",
    "print(df_hour.info())"
   ]
  },
  {
   "cell_type": "markdown",
   "metadata": {},
   "source": [
    "- mising value"
   ]
  },
  {
   "cell_type": "code",
   "execution_count": 8,
   "metadata": {},
   "outputs": [
    {
     "name": "stdout",
     "output_type": "stream",
     "text": [
      "Dataframe hour:\n",
      "instant       0\n",
      "dteday        0\n",
      "season        0\n",
      "yr            0\n",
      "mnth          0\n",
      "hr            0\n",
      "holiday       0\n",
      "weekday       0\n",
      "workingday    0\n",
      "weathersit    0\n",
      "temp          0\n",
      "atemp         0\n",
      "hum           0\n",
      "windspeed     0\n",
      "casual        0\n",
      "registered    0\n",
      "cnt           0\n",
      "dtype: int64\n"
     ]
    }
   ],
   "source": [
    "print('Dataframe hour:')\n",
    "print(df_hour.isna().sum())"
   ]
  },
  {
   "cell_type": "markdown",
   "metadata": {},
   "source": [
    "- Ducplicate data"
   ]
  },
  {
   "cell_type": "code",
   "execution_count": 9,
   "metadata": {},
   "outputs": [
    {
     "name": "stdout",
     "output_type": "stream",
     "text": [
      "Dataframe day: 0\n",
      "Dataframe hour: 0\n"
     ]
    }
   ],
   "source": [
    "print('Dataframe day:', df_day.duplicated().sum())\n",
    "print(\"Dataframe hour:\", df_hour.duplicated().sum())"
   ]
  },
  {
   "cell_type": "markdown",
   "metadata": {},
   "source": [
    "(✓) Tidak ada data yang duplicate, dengan melalui proses penilaian keseluruhan data"
   ]
  },
  {
   "cell_type": "markdown",
   "metadata": {},
   "source": [
    "- Descriptive Statictics"
   ]
  },
  {
   "cell_type": "code",
   "execution_count": 10,
   "metadata": {},
   "outputs": [
    {
     "data": {
      "text/html": [
       "<style  type=\"text/css\" >\n",
       "#T_f59e7b78_9be2_11ee_8b25_04d4c47a8988row0_col0,#T_f59e7b78_9be2_11ee_8b25_04d4c47a8988row0_col1,#T_f59e7b78_9be2_11ee_8b25_04d4c47a8988row0_col2,#T_f59e7b78_9be2_11ee_8b25_04d4c47a8988row0_col3,#T_f59e7b78_9be2_11ee_8b25_04d4c47a8988row0_col4,#T_f59e7b78_9be2_11ee_8b25_04d4c47a8988row0_col5,#T_f59e7b78_9be2_11ee_8b25_04d4c47a8988row0_col6,#T_f59e7b78_9be2_11ee_8b25_04d4c47a8988row0_col7,#T_f59e7b78_9be2_11ee_8b25_04d4c47a8988row0_col8,#T_f59e7b78_9be2_11ee_8b25_04d4c47a8988row0_col9,#T_f59e7b78_9be2_11ee_8b25_04d4c47a8988row0_col10,#T_f59e7b78_9be2_11ee_8b25_04d4c47a8988row0_col11,#T_f59e7b78_9be2_11ee_8b25_04d4c47a8988row7_col0,#T_f59e7b78_9be2_11ee_8b25_04d4c47a8988row7_col12,#T_f59e7b78_9be2_11ee_8b25_04d4c47a8988row7_col13,#T_f59e7b78_9be2_11ee_8b25_04d4c47a8988row7_col14{\n",
       "            background-color:  #49006a;\n",
       "            color:  #f1f1f1;\n",
       "        }#T_f59e7b78_9be2_11ee_8b25_04d4c47a8988row0_col12{\n",
       "            background-color:  #fccdc9;\n",
       "            color:  #000000;\n",
       "        }#T_f59e7b78_9be2_11ee_8b25_04d4c47a8988row0_col13{\n",
       "            background-color:  #fde4e1;\n",
       "            color:  #000000;\n",
       "        }#T_f59e7b78_9be2_11ee_8b25_04d4c47a8988row0_col14{\n",
       "            background-color:  #fee9e5;\n",
       "            color:  #000000;\n",
       "        }#T_f59e7b78_9be2_11ee_8b25_04d4c47a8988row1_col0,#T_f59e7b78_9be2_11ee_8b25_04d4c47a8988row5_col0{\n",
       "            background-color:  #f767a1;\n",
       "            color:  #000000;\n",
       "        }#T_f59e7b78_9be2_11ee_8b25_04d4c47a8988row1_col1,#T_f59e7b78_9be2_11ee_8b25_04d4c47a8988row1_col2,#T_f59e7b78_9be2_11ee_8b25_04d4c47a8988row1_col4,#T_f59e7b78_9be2_11ee_8b25_04d4c47a8988row1_col6,#T_f59e7b78_9be2_11ee_8b25_04d4c47a8988row1_col7,#T_f59e7b78_9be2_11ee_8b25_04d4c47a8988row1_col8,#T_f59e7b78_9be2_11ee_8b25_04d4c47a8988row1_col9,#T_f59e7b78_9be2_11ee_8b25_04d4c47a8988row1_col10,#T_f59e7b78_9be2_11ee_8b25_04d4c47a8988row1_col11,#T_f59e7b78_9be2_11ee_8b25_04d4c47a8988row2_col1,#T_f59e7b78_9be2_11ee_8b25_04d4c47a8988row2_col2,#T_f59e7b78_9be2_11ee_8b25_04d4c47a8988row2_col3,#T_f59e7b78_9be2_11ee_8b25_04d4c47a8988row2_col4,#T_f59e7b78_9be2_11ee_8b25_04d4c47a8988row2_col5,#T_f59e7b78_9be2_11ee_8b25_04d4c47a8988row2_col6,#T_f59e7b78_9be2_11ee_8b25_04d4c47a8988row2_col7,#T_f59e7b78_9be2_11ee_8b25_04d4c47a8988row2_col8,#T_f59e7b78_9be2_11ee_8b25_04d4c47a8988row2_col9,#T_f59e7b78_9be2_11ee_8b25_04d4c47a8988row2_col10,#T_f59e7b78_9be2_11ee_8b25_04d4c47a8988row2_col11,#T_f59e7b78_9be2_11ee_8b25_04d4c47a8988row3_col0,#T_f59e7b78_9be2_11ee_8b25_04d4c47a8988row3_col1,#T_f59e7b78_9be2_11ee_8b25_04d4c47a8988row3_col2,#T_f59e7b78_9be2_11ee_8b25_04d4c47a8988row3_col3,#T_f59e7b78_9be2_11ee_8b25_04d4c47a8988row3_col4,#T_f59e7b78_9be2_11ee_8b25_04d4c47a8988row3_col5,#T_f59e7b78_9be2_11ee_8b25_04d4c47a8988row3_col6,#T_f59e7b78_9be2_11ee_8b25_04d4c47a8988row3_col7,#T_f59e7b78_9be2_11ee_8b25_04d4c47a8988row3_col8,#T_f59e7b78_9be2_11ee_8b25_04d4c47a8988row3_col9,#T_f59e7b78_9be2_11ee_8b25_04d4c47a8988row3_col10,#T_f59e7b78_9be2_11ee_8b25_04d4c47a8988row3_col11,#T_f59e7b78_9be2_11ee_8b25_04d4c47a8988row3_col12,#T_f59e7b78_9be2_11ee_8b25_04d4c47a8988row3_col13,#T_f59e7b78_9be2_11ee_8b25_04d4c47a8988row3_col14,#T_f59e7b78_9be2_11ee_8b25_04d4c47a8988row4_col1,#T_f59e7b78_9be2_11ee_8b25_04d4c47a8988row4_col2,#T_f59e7b78_9be2_11ee_8b25_04d4c47a8988row4_col4,#T_f59e7b78_9be2_11ee_8b25_04d4c47a8988row4_col5,#T_f59e7b78_9be2_11ee_8b25_04d4c47a8988row4_col6,#T_f59e7b78_9be2_11ee_8b25_04d4c47a8988row4_col7,#T_f59e7b78_9be2_11ee_8b25_04d4c47a8988row4_col8,#T_f59e7b78_9be2_11ee_8b25_04d4c47a8988row4_col9,#T_f59e7b78_9be2_11ee_8b25_04d4c47a8988row4_col10,#T_f59e7b78_9be2_11ee_8b25_04d4c47a8988row4_col11,#T_f59e7b78_9be2_11ee_8b25_04d4c47a8988row5_col1,#T_f59e7b78_9be2_11ee_8b25_04d4c47a8988row5_col2,#T_f59e7b78_9be2_11ee_8b25_04d4c47a8988row5_col4,#T_f59e7b78_9be2_11ee_8b25_04d4c47a8988row5_col6,#T_f59e7b78_9be2_11ee_8b25_04d4c47a8988row5_col7,#T_f59e7b78_9be2_11ee_8b25_04d4c47a8988row5_col8,#T_f59e7b78_9be2_11ee_8b25_04d4c47a8988row5_col9,#T_f59e7b78_9be2_11ee_8b25_04d4c47a8988row5_col10,#T_f59e7b78_9be2_11ee_8b25_04d4c47a8988row5_col11,#T_f59e7b78_9be2_11ee_8b25_04d4c47a8988row6_col1,#T_f59e7b78_9be2_11ee_8b25_04d4c47a8988row6_col2,#T_f59e7b78_9be2_11ee_8b25_04d4c47a8988row6_col4,#T_f59e7b78_9be2_11ee_8b25_04d4c47a8988row6_col6,#T_f59e7b78_9be2_11ee_8b25_04d4c47a8988row6_col7,#T_f59e7b78_9be2_11ee_8b25_04d4c47a8988row6_col8,#T_f59e7b78_9be2_11ee_8b25_04d4c47a8988row6_col9,#T_f59e7b78_9be2_11ee_8b25_04d4c47a8988row6_col10,#T_f59e7b78_9be2_11ee_8b25_04d4c47a8988row6_col11,#T_f59e7b78_9be2_11ee_8b25_04d4c47a8988row7_col2,#T_f59e7b78_9be2_11ee_8b25_04d4c47a8988row7_col4,#T_f59e7b78_9be2_11ee_8b25_04d4c47a8988row7_col6,#T_f59e7b78_9be2_11ee_8b25_04d4c47a8988row7_col7,#T_f59e7b78_9be2_11ee_8b25_04d4c47a8988row7_col8,#T_f59e7b78_9be2_11ee_8b25_04d4c47a8988row7_col9,#T_f59e7b78_9be2_11ee_8b25_04d4c47a8988row7_col10,#T_f59e7b78_9be2_11ee_8b25_04d4c47a8988row7_col11{\n",
       "            background-color:  #fff7f3;\n",
       "            color:  #000000;\n",
       "        }#T_f59e7b78_9be2_11ee_8b25_04d4c47a8988row1_col3,#T_f59e7b78_9be2_11ee_8b25_04d4c47a8988row1_col5,#T_f59e7b78_9be2_11ee_8b25_04d4c47a8988row4_col3,#T_f59e7b78_9be2_11ee_8b25_04d4c47a8988row5_col3,#T_f59e7b78_9be2_11ee_8b25_04d4c47a8988row5_col5,#T_f59e7b78_9be2_11ee_8b25_04d4c47a8988row6_col5,#T_f59e7b78_9be2_11ee_8b25_04d4c47a8988row7_col1,#T_f59e7b78_9be2_11ee_8b25_04d4c47a8988row7_col5{\n",
       "            background-color:  #fff6f2;\n",
       "            color:  #000000;\n",
       "        }#T_f59e7b78_9be2_11ee_8b25_04d4c47a8988row1_col12{\n",
       "            background-color:  #fcc6c1;\n",
       "            color:  #000000;\n",
       "        }#T_f59e7b78_9be2_11ee_8b25_04d4c47a8988row1_col13,#T_f59e7b78_9be2_11ee_8b25_04d4c47a8988row5_col13{\n",
       "            background-color:  #f25d9f;\n",
       "            color:  #000000;\n",
       "        }#T_f59e7b78_9be2_11ee_8b25_04d4c47a8988row1_col14{\n",
       "            background-color:  #f361a0;\n",
       "            color:  #000000;\n",
       "        }#T_f59e7b78_9be2_11ee_8b25_04d4c47a8988row2_col0{\n",
       "            background-color:  #fbbabd;\n",
       "            color:  #000000;\n",
       "        }#T_f59e7b78_9be2_11ee_8b25_04d4c47a8988row2_col12{\n",
       "            background-color:  #fcd0cc;\n",
       "            color:  #000000;\n",
       "        }#T_f59e7b78_9be2_11ee_8b25_04d4c47a8988row2_col13,#T_f59e7b78_9be2_11ee_8b25_04d4c47a8988row2_col14{\n",
       "            background-color:  #fcccc7;\n",
       "            color:  #000000;\n",
       "        }#T_f59e7b78_9be2_11ee_8b25_04d4c47a8988row4_col0{\n",
       "            background-color:  #fcc5c0;\n",
       "            color:  #000000;\n",
       "        }#T_f59e7b78_9be2_11ee_8b25_04d4c47a8988row4_col12{\n",
       "            background-color:  #fee6e3;\n",
       "            color:  #000000;\n",
       "        }#T_f59e7b78_9be2_11ee_8b25_04d4c47a8988row4_col13{\n",
       "            background-color:  #faa5b7;\n",
       "            color:  #000000;\n",
       "        }#T_f59e7b78_9be2_11ee_8b25_04d4c47a8988row4_col14{\n",
       "            background-color:  #faa3b6;\n",
       "            color:  #000000;\n",
       "        }#T_f59e7b78_9be2_11ee_8b25_04d4c47a8988row5_col12{\n",
       "            background-color:  #fcceca;\n",
       "            color:  #000000;\n",
       "        }#T_f59e7b78_9be2_11ee_8b25_04d4c47a8988row5_col14{\n",
       "            background-color:  #f35f9f;\n",
       "            color:  #000000;\n",
       "        }#T_f59e7b78_9be2_11ee_8b25_04d4c47a8988row6_col0{\n",
       "            background-color:  #ad017e;\n",
       "            color:  #f1f1f1;\n",
       "        }#T_f59e7b78_9be2_11ee_8b25_04d4c47a8988row6_col3,#T_f59e7b78_9be2_11ee_8b25_04d4c47a8988row7_col3{\n",
       "            background-color:  #fff5f1;\n",
       "            color:  #000000;\n",
       "        }#T_f59e7b78_9be2_11ee_8b25_04d4c47a8988row6_col12{\n",
       "            background-color:  #fbafba;\n",
       "            color:  #000000;\n",
       "        }#T_f59e7b78_9be2_11ee_8b25_04d4c47a8988row6_col13{\n",
       "            background-color:  #c61b8b;\n",
       "            color:  #f1f1f1;\n",
       "        }#T_f59e7b78_9be2_11ee_8b25_04d4c47a8988row6_col14{\n",
       "            background-color:  #c71d8c;\n",
       "            color:  #f1f1f1;\n",
       "        }</style><table id=\"T_f59e7b78_9be2_11ee_8b25_04d4c47a8988\" ><thead>    <tr>        <th class=\"blank level0\" ></th>        <th class=\"col_heading level0 col0\" >instant</th>        <th class=\"col_heading level0 col1\" >season</th>        <th class=\"col_heading level0 col2\" >yr</th>        <th class=\"col_heading level0 col3\" >mnth</th>        <th class=\"col_heading level0 col4\" >holiday</th>        <th class=\"col_heading level0 col5\" >weekday</th>        <th class=\"col_heading level0 col6\" >workingday</th>        <th class=\"col_heading level0 col7\" >weathersit</th>        <th class=\"col_heading level0 col8\" >temp</th>        <th class=\"col_heading level0 col9\" >atemp</th>        <th class=\"col_heading level0 col10\" >hum</th>        <th class=\"col_heading level0 col11\" >windspeed</th>        <th class=\"col_heading level0 col12\" >casual</th>        <th class=\"col_heading level0 col13\" >registered</th>        <th class=\"col_heading level0 col14\" >cnt</th>    </tr></thead><tbody>\n",
       "                <tr>\n",
       "                        <th id=\"T_f59e7b78_9be2_11ee_8b25_04d4c47a8988level0_row0\" class=\"row_heading level0 row0\" >count</th>\n",
       "                        <td id=\"T_f59e7b78_9be2_11ee_8b25_04d4c47a8988row0_col0\" class=\"data row0 col0\" >731.000000</td>\n",
       "                        <td id=\"T_f59e7b78_9be2_11ee_8b25_04d4c47a8988row0_col1\" class=\"data row0 col1\" >731.000000</td>\n",
       "                        <td id=\"T_f59e7b78_9be2_11ee_8b25_04d4c47a8988row0_col2\" class=\"data row0 col2\" >731.000000</td>\n",
       "                        <td id=\"T_f59e7b78_9be2_11ee_8b25_04d4c47a8988row0_col3\" class=\"data row0 col3\" >731.000000</td>\n",
       "                        <td id=\"T_f59e7b78_9be2_11ee_8b25_04d4c47a8988row0_col4\" class=\"data row0 col4\" >731.000000</td>\n",
       "                        <td id=\"T_f59e7b78_9be2_11ee_8b25_04d4c47a8988row0_col5\" class=\"data row0 col5\" >731.000000</td>\n",
       "                        <td id=\"T_f59e7b78_9be2_11ee_8b25_04d4c47a8988row0_col6\" class=\"data row0 col6\" >731.000000</td>\n",
       "                        <td id=\"T_f59e7b78_9be2_11ee_8b25_04d4c47a8988row0_col7\" class=\"data row0 col7\" >731.000000</td>\n",
       "                        <td id=\"T_f59e7b78_9be2_11ee_8b25_04d4c47a8988row0_col8\" class=\"data row0 col8\" >731.000000</td>\n",
       "                        <td id=\"T_f59e7b78_9be2_11ee_8b25_04d4c47a8988row0_col9\" class=\"data row0 col9\" >731.000000</td>\n",
       "                        <td id=\"T_f59e7b78_9be2_11ee_8b25_04d4c47a8988row0_col10\" class=\"data row0 col10\" >731.000000</td>\n",
       "                        <td id=\"T_f59e7b78_9be2_11ee_8b25_04d4c47a8988row0_col11\" class=\"data row0 col11\" >731.000000</td>\n",
       "                        <td id=\"T_f59e7b78_9be2_11ee_8b25_04d4c47a8988row0_col12\" class=\"data row0 col12\" >731.000000</td>\n",
       "                        <td id=\"T_f59e7b78_9be2_11ee_8b25_04d4c47a8988row0_col13\" class=\"data row0 col13\" >731.000000</td>\n",
       "                        <td id=\"T_f59e7b78_9be2_11ee_8b25_04d4c47a8988row0_col14\" class=\"data row0 col14\" >731.000000</td>\n",
       "            </tr>\n",
       "            <tr>\n",
       "                        <th id=\"T_f59e7b78_9be2_11ee_8b25_04d4c47a8988level0_row1\" class=\"row_heading level0 row1\" >mean</th>\n",
       "                        <td id=\"T_f59e7b78_9be2_11ee_8b25_04d4c47a8988row1_col0\" class=\"data row1 col0\" >366.000000</td>\n",
       "                        <td id=\"T_f59e7b78_9be2_11ee_8b25_04d4c47a8988row1_col1\" class=\"data row1 col1\" >2.496580</td>\n",
       "                        <td id=\"T_f59e7b78_9be2_11ee_8b25_04d4c47a8988row1_col2\" class=\"data row1 col2\" >0.500684</td>\n",
       "                        <td id=\"T_f59e7b78_9be2_11ee_8b25_04d4c47a8988row1_col3\" class=\"data row1 col3\" >6.519836</td>\n",
       "                        <td id=\"T_f59e7b78_9be2_11ee_8b25_04d4c47a8988row1_col4\" class=\"data row1 col4\" >0.028728</td>\n",
       "                        <td id=\"T_f59e7b78_9be2_11ee_8b25_04d4c47a8988row1_col5\" class=\"data row1 col5\" >2.997264</td>\n",
       "                        <td id=\"T_f59e7b78_9be2_11ee_8b25_04d4c47a8988row1_col6\" class=\"data row1 col6\" >0.683995</td>\n",
       "                        <td id=\"T_f59e7b78_9be2_11ee_8b25_04d4c47a8988row1_col7\" class=\"data row1 col7\" >1.395349</td>\n",
       "                        <td id=\"T_f59e7b78_9be2_11ee_8b25_04d4c47a8988row1_col8\" class=\"data row1 col8\" >0.495385</td>\n",
       "                        <td id=\"T_f59e7b78_9be2_11ee_8b25_04d4c47a8988row1_col9\" class=\"data row1 col9\" >0.474354</td>\n",
       "                        <td id=\"T_f59e7b78_9be2_11ee_8b25_04d4c47a8988row1_col10\" class=\"data row1 col10\" >0.627894</td>\n",
       "                        <td id=\"T_f59e7b78_9be2_11ee_8b25_04d4c47a8988row1_col11\" class=\"data row1 col11\" >0.190486</td>\n",
       "                        <td id=\"T_f59e7b78_9be2_11ee_8b25_04d4c47a8988row1_col12\" class=\"data row1 col12\" >848.176471</td>\n",
       "                        <td id=\"T_f59e7b78_9be2_11ee_8b25_04d4c47a8988row1_col13\" class=\"data row1 col13\" >3656.172367</td>\n",
       "                        <td id=\"T_f59e7b78_9be2_11ee_8b25_04d4c47a8988row1_col14\" class=\"data row1 col14\" >4504.348837</td>\n",
       "            </tr>\n",
       "            <tr>\n",
       "                        <th id=\"T_f59e7b78_9be2_11ee_8b25_04d4c47a8988level0_row2\" class=\"row_heading level0 row2\" >std</th>\n",
       "                        <td id=\"T_f59e7b78_9be2_11ee_8b25_04d4c47a8988row2_col0\" class=\"data row2 col0\" >211.165812</td>\n",
       "                        <td id=\"T_f59e7b78_9be2_11ee_8b25_04d4c47a8988row2_col1\" class=\"data row2 col1\" >1.110807</td>\n",
       "                        <td id=\"T_f59e7b78_9be2_11ee_8b25_04d4c47a8988row2_col2\" class=\"data row2 col2\" >0.500342</td>\n",
       "                        <td id=\"T_f59e7b78_9be2_11ee_8b25_04d4c47a8988row2_col3\" class=\"data row2 col3\" >3.451913</td>\n",
       "                        <td id=\"T_f59e7b78_9be2_11ee_8b25_04d4c47a8988row2_col4\" class=\"data row2 col4\" >0.167155</td>\n",
       "                        <td id=\"T_f59e7b78_9be2_11ee_8b25_04d4c47a8988row2_col5\" class=\"data row2 col5\" >2.004787</td>\n",
       "                        <td id=\"T_f59e7b78_9be2_11ee_8b25_04d4c47a8988row2_col6\" class=\"data row2 col6\" >0.465233</td>\n",
       "                        <td id=\"T_f59e7b78_9be2_11ee_8b25_04d4c47a8988row2_col7\" class=\"data row2 col7\" >0.544894</td>\n",
       "                        <td id=\"T_f59e7b78_9be2_11ee_8b25_04d4c47a8988row2_col8\" class=\"data row2 col8\" >0.183051</td>\n",
       "                        <td id=\"T_f59e7b78_9be2_11ee_8b25_04d4c47a8988row2_col9\" class=\"data row2 col9\" >0.162961</td>\n",
       "                        <td id=\"T_f59e7b78_9be2_11ee_8b25_04d4c47a8988row2_col10\" class=\"data row2 col10\" >0.142429</td>\n",
       "                        <td id=\"T_f59e7b78_9be2_11ee_8b25_04d4c47a8988row2_col11\" class=\"data row2 col11\" >0.077498</td>\n",
       "                        <td id=\"T_f59e7b78_9be2_11ee_8b25_04d4c47a8988row2_col12\" class=\"data row2 col12\" >686.622488</td>\n",
       "                        <td id=\"T_f59e7b78_9be2_11ee_8b25_04d4c47a8988row2_col13\" class=\"data row2 col13\" >1560.256377</td>\n",
       "                        <td id=\"T_f59e7b78_9be2_11ee_8b25_04d4c47a8988row2_col14\" class=\"data row2 col14\" >1937.211452</td>\n",
       "            </tr>\n",
       "            <tr>\n",
       "                        <th id=\"T_f59e7b78_9be2_11ee_8b25_04d4c47a8988level0_row3\" class=\"row_heading level0 row3\" >min</th>\n",
       "                        <td id=\"T_f59e7b78_9be2_11ee_8b25_04d4c47a8988row3_col0\" class=\"data row3 col0\" >1.000000</td>\n",
       "                        <td id=\"T_f59e7b78_9be2_11ee_8b25_04d4c47a8988row3_col1\" class=\"data row3 col1\" >1.000000</td>\n",
       "                        <td id=\"T_f59e7b78_9be2_11ee_8b25_04d4c47a8988row3_col2\" class=\"data row3 col2\" >0.000000</td>\n",
       "                        <td id=\"T_f59e7b78_9be2_11ee_8b25_04d4c47a8988row3_col3\" class=\"data row3 col3\" >1.000000</td>\n",
       "                        <td id=\"T_f59e7b78_9be2_11ee_8b25_04d4c47a8988row3_col4\" class=\"data row3 col4\" >0.000000</td>\n",
       "                        <td id=\"T_f59e7b78_9be2_11ee_8b25_04d4c47a8988row3_col5\" class=\"data row3 col5\" >0.000000</td>\n",
       "                        <td id=\"T_f59e7b78_9be2_11ee_8b25_04d4c47a8988row3_col6\" class=\"data row3 col6\" >0.000000</td>\n",
       "                        <td id=\"T_f59e7b78_9be2_11ee_8b25_04d4c47a8988row3_col7\" class=\"data row3 col7\" >1.000000</td>\n",
       "                        <td id=\"T_f59e7b78_9be2_11ee_8b25_04d4c47a8988row3_col8\" class=\"data row3 col8\" >0.059130</td>\n",
       "                        <td id=\"T_f59e7b78_9be2_11ee_8b25_04d4c47a8988row3_col9\" class=\"data row3 col9\" >0.079070</td>\n",
       "                        <td id=\"T_f59e7b78_9be2_11ee_8b25_04d4c47a8988row3_col10\" class=\"data row3 col10\" >0.000000</td>\n",
       "                        <td id=\"T_f59e7b78_9be2_11ee_8b25_04d4c47a8988row3_col11\" class=\"data row3 col11\" >0.022392</td>\n",
       "                        <td id=\"T_f59e7b78_9be2_11ee_8b25_04d4c47a8988row3_col12\" class=\"data row3 col12\" >2.000000</td>\n",
       "                        <td id=\"T_f59e7b78_9be2_11ee_8b25_04d4c47a8988row3_col13\" class=\"data row3 col13\" >20.000000</td>\n",
       "                        <td id=\"T_f59e7b78_9be2_11ee_8b25_04d4c47a8988row3_col14\" class=\"data row3 col14\" >22.000000</td>\n",
       "            </tr>\n",
       "            <tr>\n",
       "                        <th id=\"T_f59e7b78_9be2_11ee_8b25_04d4c47a8988level0_row4\" class=\"row_heading level0 row4\" >25%</th>\n",
       "                        <td id=\"T_f59e7b78_9be2_11ee_8b25_04d4c47a8988row4_col0\" class=\"data row4 col0\" >183.500000</td>\n",
       "                        <td id=\"T_f59e7b78_9be2_11ee_8b25_04d4c47a8988row4_col1\" class=\"data row4 col1\" >2.000000</td>\n",
       "                        <td id=\"T_f59e7b78_9be2_11ee_8b25_04d4c47a8988row4_col2\" class=\"data row4 col2\" >0.000000</td>\n",
       "                        <td id=\"T_f59e7b78_9be2_11ee_8b25_04d4c47a8988row4_col3\" class=\"data row4 col3\" >4.000000</td>\n",
       "                        <td id=\"T_f59e7b78_9be2_11ee_8b25_04d4c47a8988row4_col4\" class=\"data row4 col4\" >0.000000</td>\n",
       "                        <td id=\"T_f59e7b78_9be2_11ee_8b25_04d4c47a8988row4_col5\" class=\"data row4 col5\" >1.000000</td>\n",
       "                        <td id=\"T_f59e7b78_9be2_11ee_8b25_04d4c47a8988row4_col6\" class=\"data row4 col6\" >0.000000</td>\n",
       "                        <td id=\"T_f59e7b78_9be2_11ee_8b25_04d4c47a8988row4_col7\" class=\"data row4 col7\" >1.000000</td>\n",
       "                        <td id=\"T_f59e7b78_9be2_11ee_8b25_04d4c47a8988row4_col8\" class=\"data row4 col8\" >0.337083</td>\n",
       "                        <td id=\"T_f59e7b78_9be2_11ee_8b25_04d4c47a8988row4_col9\" class=\"data row4 col9\" >0.337842</td>\n",
       "                        <td id=\"T_f59e7b78_9be2_11ee_8b25_04d4c47a8988row4_col10\" class=\"data row4 col10\" >0.520000</td>\n",
       "                        <td id=\"T_f59e7b78_9be2_11ee_8b25_04d4c47a8988row4_col11\" class=\"data row4 col11\" >0.134950</td>\n",
       "                        <td id=\"T_f59e7b78_9be2_11ee_8b25_04d4c47a8988row4_col12\" class=\"data row4 col12\" >315.500000</td>\n",
       "                        <td id=\"T_f59e7b78_9be2_11ee_8b25_04d4c47a8988row4_col13\" class=\"data row4 col13\" >2497.000000</td>\n",
       "                        <td id=\"T_f59e7b78_9be2_11ee_8b25_04d4c47a8988row4_col14\" class=\"data row4 col14\" >3152.000000</td>\n",
       "            </tr>\n",
       "            <tr>\n",
       "                        <th id=\"T_f59e7b78_9be2_11ee_8b25_04d4c47a8988level0_row5\" class=\"row_heading level0 row5\" >50%</th>\n",
       "                        <td id=\"T_f59e7b78_9be2_11ee_8b25_04d4c47a8988row5_col0\" class=\"data row5 col0\" >366.000000</td>\n",
       "                        <td id=\"T_f59e7b78_9be2_11ee_8b25_04d4c47a8988row5_col1\" class=\"data row5 col1\" >3.000000</td>\n",
       "                        <td id=\"T_f59e7b78_9be2_11ee_8b25_04d4c47a8988row5_col2\" class=\"data row5 col2\" >1.000000</td>\n",
       "                        <td id=\"T_f59e7b78_9be2_11ee_8b25_04d4c47a8988row5_col3\" class=\"data row5 col3\" >7.000000</td>\n",
       "                        <td id=\"T_f59e7b78_9be2_11ee_8b25_04d4c47a8988row5_col4\" class=\"data row5 col4\" >0.000000</td>\n",
       "                        <td id=\"T_f59e7b78_9be2_11ee_8b25_04d4c47a8988row5_col5\" class=\"data row5 col5\" >3.000000</td>\n",
       "                        <td id=\"T_f59e7b78_9be2_11ee_8b25_04d4c47a8988row5_col6\" class=\"data row5 col6\" >1.000000</td>\n",
       "                        <td id=\"T_f59e7b78_9be2_11ee_8b25_04d4c47a8988row5_col7\" class=\"data row5 col7\" >1.000000</td>\n",
       "                        <td id=\"T_f59e7b78_9be2_11ee_8b25_04d4c47a8988row5_col8\" class=\"data row5 col8\" >0.498333</td>\n",
       "                        <td id=\"T_f59e7b78_9be2_11ee_8b25_04d4c47a8988row5_col9\" class=\"data row5 col9\" >0.486733</td>\n",
       "                        <td id=\"T_f59e7b78_9be2_11ee_8b25_04d4c47a8988row5_col10\" class=\"data row5 col10\" >0.626667</td>\n",
       "                        <td id=\"T_f59e7b78_9be2_11ee_8b25_04d4c47a8988row5_col11\" class=\"data row5 col11\" >0.180975</td>\n",
       "                        <td id=\"T_f59e7b78_9be2_11ee_8b25_04d4c47a8988row5_col12\" class=\"data row5 col12\" >713.000000</td>\n",
       "                        <td id=\"T_f59e7b78_9be2_11ee_8b25_04d4c47a8988row5_col13\" class=\"data row5 col13\" >3662.000000</td>\n",
       "                        <td id=\"T_f59e7b78_9be2_11ee_8b25_04d4c47a8988row5_col14\" class=\"data row5 col14\" >4548.000000</td>\n",
       "            </tr>\n",
       "            <tr>\n",
       "                        <th id=\"T_f59e7b78_9be2_11ee_8b25_04d4c47a8988level0_row6\" class=\"row_heading level0 row6\" >75%</th>\n",
       "                        <td id=\"T_f59e7b78_9be2_11ee_8b25_04d4c47a8988row6_col0\" class=\"data row6 col0\" >548.500000</td>\n",
       "                        <td id=\"T_f59e7b78_9be2_11ee_8b25_04d4c47a8988row6_col1\" class=\"data row6 col1\" >3.000000</td>\n",
       "                        <td id=\"T_f59e7b78_9be2_11ee_8b25_04d4c47a8988row6_col2\" class=\"data row6 col2\" >1.000000</td>\n",
       "                        <td id=\"T_f59e7b78_9be2_11ee_8b25_04d4c47a8988row6_col3\" class=\"data row6 col3\" >10.000000</td>\n",
       "                        <td id=\"T_f59e7b78_9be2_11ee_8b25_04d4c47a8988row6_col4\" class=\"data row6 col4\" >0.000000</td>\n",
       "                        <td id=\"T_f59e7b78_9be2_11ee_8b25_04d4c47a8988row6_col5\" class=\"data row6 col5\" >5.000000</td>\n",
       "                        <td id=\"T_f59e7b78_9be2_11ee_8b25_04d4c47a8988row6_col6\" class=\"data row6 col6\" >1.000000</td>\n",
       "                        <td id=\"T_f59e7b78_9be2_11ee_8b25_04d4c47a8988row6_col7\" class=\"data row6 col7\" >2.000000</td>\n",
       "                        <td id=\"T_f59e7b78_9be2_11ee_8b25_04d4c47a8988row6_col8\" class=\"data row6 col8\" >0.655417</td>\n",
       "                        <td id=\"T_f59e7b78_9be2_11ee_8b25_04d4c47a8988row6_col9\" class=\"data row6 col9\" >0.608602</td>\n",
       "                        <td id=\"T_f59e7b78_9be2_11ee_8b25_04d4c47a8988row6_col10\" class=\"data row6 col10\" >0.730209</td>\n",
       "                        <td id=\"T_f59e7b78_9be2_11ee_8b25_04d4c47a8988row6_col11\" class=\"data row6 col11\" >0.233214</td>\n",
       "                        <td id=\"T_f59e7b78_9be2_11ee_8b25_04d4c47a8988row6_col12\" class=\"data row6 col12\" >1096.000000</td>\n",
       "                        <td id=\"T_f59e7b78_9be2_11ee_8b25_04d4c47a8988row6_col13\" class=\"data row6 col13\" >4776.500000</td>\n",
       "                        <td id=\"T_f59e7b78_9be2_11ee_8b25_04d4c47a8988row6_col14\" class=\"data row6 col14\" >5956.000000</td>\n",
       "            </tr>\n",
       "            <tr>\n",
       "                        <th id=\"T_f59e7b78_9be2_11ee_8b25_04d4c47a8988level0_row7\" class=\"row_heading level0 row7\" >max</th>\n",
       "                        <td id=\"T_f59e7b78_9be2_11ee_8b25_04d4c47a8988row7_col0\" class=\"data row7 col0\" >731.000000</td>\n",
       "                        <td id=\"T_f59e7b78_9be2_11ee_8b25_04d4c47a8988row7_col1\" class=\"data row7 col1\" >4.000000</td>\n",
       "                        <td id=\"T_f59e7b78_9be2_11ee_8b25_04d4c47a8988row7_col2\" class=\"data row7 col2\" >1.000000</td>\n",
       "                        <td id=\"T_f59e7b78_9be2_11ee_8b25_04d4c47a8988row7_col3\" class=\"data row7 col3\" >12.000000</td>\n",
       "                        <td id=\"T_f59e7b78_9be2_11ee_8b25_04d4c47a8988row7_col4\" class=\"data row7 col4\" >1.000000</td>\n",
       "                        <td id=\"T_f59e7b78_9be2_11ee_8b25_04d4c47a8988row7_col5\" class=\"data row7 col5\" >6.000000</td>\n",
       "                        <td id=\"T_f59e7b78_9be2_11ee_8b25_04d4c47a8988row7_col6\" class=\"data row7 col6\" >1.000000</td>\n",
       "                        <td id=\"T_f59e7b78_9be2_11ee_8b25_04d4c47a8988row7_col7\" class=\"data row7 col7\" >3.000000</td>\n",
       "                        <td id=\"T_f59e7b78_9be2_11ee_8b25_04d4c47a8988row7_col8\" class=\"data row7 col8\" >0.861667</td>\n",
       "                        <td id=\"T_f59e7b78_9be2_11ee_8b25_04d4c47a8988row7_col9\" class=\"data row7 col9\" >0.840896</td>\n",
       "                        <td id=\"T_f59e7b78_9be2_11ee_8b25_04d4c47a8988row7_col10\" class=\"data row7 col10\" >0.972500</td>\n",
       "                        <td id=\"T_f59e7b78_9be2_11ee_8b25_04d4c47a8988row7_col11\" class=\"data row7 col11\" >0.507463</td>\n",
       "                        <td id=\"T_f59e7b78_9be2_11ee_8b25_04d4c47a8988row7_col12\" class=\"data row7 col12\" >3410.000000</td>\n",
       "                        <td id=\"T_f59e7b78_9be2_11ee_8b25_04d4c47a8988row7_col13\" class=\"data row7 col13\" >6946.000000</td>\n",
       "                        <td id=\"T_f59e7b78_9be2_11ee_8b25_04d4c47a8988row7_col14\" class=\"data row7 col14\" >8714.000000</td>\n",
       "            </tr>\n",
       "    </tbody></table>"
      ],
      "text/plain": [
       "<pandas.io.formats.style.Styler at 0x1eeaf3e6d30>"
      ]
     },
     "execution_count": 10,
     "metadata": {},
     "output_type": "execute_result"
    }
   ],
   "source": [
    "df_day.describe().transpose().T.style.background_gradient(cmap=\"RdPu\")"
   ]
  },
  {
   "cell_type": "code",
   "execution_count": 11,
   "metadata": {},
   "outputs": [
    {
     "data": {
      "text/html": [
       "<style  type=\"text/css\" >\n",
       "#T_f5c94dbd_9be2_11ee_93e0_04d4c47a8988row0_col0,#T_f5c94dbd_9be2_11ee_93e0_04d4c47a8988row0_col1,#T_f5c94dbd_9be2_11ee_93e0_04d4c47a8988row0_col2,#T_f5c94dbd_9be2_11ee_93e0_04d4c47a8988row0_col3,#T_f5c94dbd_9be2_11ee_93e0_04d4c47a8988row0_col4,#T_f5c94dbd_9be2_11ee_93e0_04d4c47a8988row0_col5,#T_f5c94dbd_9be2_11ee_93e0_04d4c47a8988row0_col6,#T_f5c94dbd_9be2_11ee_93e0_04d4c47a8988row0_col7,#T_f5c94dbd_9be2_11ee_93e0_04d4c47a8988row0_col8,#T_f5c94dbd_9be2_11ee_93e0_04d4c47a8988row0_col9,#T_f5c94dbd_9be2_11ee_93e0_04d4c47a8988row0_col10,#T_f5c94dbd_9be2_11ee_93e0_04d4c47a8988row0_col11,#T_f5c94dbd_9be2_11ee_93e0_04d4c47a8988row0_col12,#T_f5c94dbd_9be2_11ee_93e0_04d4c47a8988row0_col13,#T_f5c94dbd_9be2_11ee_93e0_04d4c47a8988row0_col14,#T_f5c94dbd_9be2_11ee_93e0_04d4c47a8988row0_col15,#T_f5c94dbd_9be2_11ee_93e0_04d4c47a8988row7_col0{\n",
       "            background-color:  #49006a;\n",
       "            color:  #f1f1f1;\n",
       "        }#T_f5c94dbd_9be2_11ee_93e0_04d4c47a8988row1_col0,#T_f5c94dbd_9be2_11ee_93e0_04d4c47a8988row5_col0{\n",
       "            background-color:  #f767a1;\n",
       "            color:  #000000;\n",
       "        }#T_f5c94dbd_9be2_11ee_93e0_04d4c47a8988row1_col1,#T_f5c94dbd_9be2_11ee_93e0_04d4c47a8988row1_col2,#T_f5c94dbd_9be2_11ee_93e0_04d4c47a8988row1_col3,#T_f5c94dbd_9be2_11ee_93e0_04d4c47a8988row1_col4,#T_f5c94dbd_9be2_11ee_93e0_04d4c47a8988row1_col5,#T_f5c94dbd_9be2_11ee_93e0_04d4c47a8988row1_col6,#T_f5c94dbd_9be2_11ee_93e0_04d4c47a8988row1_col7,#T_f5c94dbd_9be2_11ee_93e0_04d4c47a8988row1_col8,#T_f5c94dbd_9be2_11ee_93e0_04d4c47a8988row1_col9,#T_f5c94dbd_9be2_11ee_93e0_04d4c47a8988row1_col10,#T_f5c94dbd_9be2_11ee_93e0_04d4c47a8988row1_col11,#T_f5c94dbd_9be2_11ee_93e0_04d4c47a8988row1_col12,#T_f5c94dbd_9be2_11ee_93e0_04d4c47a8988row1_col13,#T_f5c94dbd_9be2_11ee_93e0_04d4c47a8988row2_col1,#T_f5c94dbd_9be2_11ee_93e0_04d4c47a8988row2_col2,#T_f5c94dbd_9be2_11ee_93e0_04d4c47a8988row2_col3,#T_f5c94dbd_9be2_11ee_93e0_04d4c47a8988row2_col4,#T_f5c94dbd_9be2_11ee_93e0_04d4c47a8988row2_col5,#T_f5c94dbd_9be2_11ee_93e0_04d4c47a8988row2_col6,#T_f5c94dbd_9be2_11ee_93e0_04d4c47a8988row2_col7,#T_f5c94dbd_9be2_11ee_93e0_04d4c47a8988row2_col8,#T_f5c94dbd_9be2_11ee_93e0_04d4c47a8988row2_col9,#T_f5c94dbd_9be2_11ee_93e0_04d4c47a8988row2_col10,#T_f5c94dbd_9be2_11ee_93e0_04d4c47a8988row2_col11,#T_f5c94dbd_9be2_11ee_93e0_04d4c47a8988row2_col12,#T_f5c94dbd_9be2_11ee_93e0_04d4c47a8988row2_col13,#T_f5c94dbd_9be2_11ee_93e0_04d4c47a8988row3_col0,#T_f5c94dbd_9be2_11ee_93e0_04d4c47a8988row3_col1,#T_f5c94dbd_9be2_11ee_93e0_04d4c47a8988row3_col2,#T_f5c94dbd_9be2_11ee_93e0_04d4c47a8988row3_col3,#T_f5c94dbd_9be2_11ee_93e0_04d4c47a8988row3_col4,#T_f5c94dbd_9be2_11ee_93e0_04d4c47a8988row3_col5,#T_f5c94dbd_9be2_11ee_93e0_04d4c47a8988row3_col6,#T_f5c94dbd_9be2_11ee_93e0_04d4c47a8988row3_col7,#T_f5c94dbd_9be2_11ee_93e0_04d4c47a8988row3_col8,#T_f5c94dbd_9be2_11ee_93e0_04d4c47a8988row3_col9,#T_f5c94dbd_9be2_11ee_93e0_04d4c47a8988row3_col10,#T_f5c94dbd_9be2_11ee_93e0_04d4c47a8988row3_col11,#T_f5c94dbd_9be2_11ee_93e0_04d4c47a8988row3_col12,#T_f5c94dbd_9be2_11ee_93e0_04d4c47a8988row3_col13,#T_f5c94dbd_9be2_11ee_93e0_04d4c47a8988row3_col14,#T_f5c94dbd_9be2_11ee_93e0_04d4c47a8988row3_col15,#T_f5c94dbd_9be2_11ee_93e0_04d4c47a8988row4_col1,#T_f5c94dbd_9be2_11ee_93e0_04d4c47a8988row4_col2,#T_f5c94dbd_9be2_11ee_93e0_04d4c47a8988row4_col3,#T_f5c94dbd_9be2_11ee_93e0_04d4c47a8988row4_col4,#T_f5c94dbd_9be2_11ee_93e0_04d4c47a8988row4_col5,#T_f5c94dbd_9be2_11ee_93e0_04d4c47a8988row4_col6,#T_f5c94dbd_9be2_11ee_93e0_04d4c47a8988row4_col7,#T_f5c94dbd_9be2_11ee_93e0_04d4c47a8988row4_col8,#T_f5c94dbd_9be2_11ee_93e0_04d4c47a8988row4_col9,#T_f5c94dbd_9be2_11ee_93e0_04d4c47a8988row4_col10,#T_f5c94dbd_9be2_11ee_93e0_04d4c47a8988row4_col11,#T_f5c94dbd_9be2_11ee_93e0_04d4c47a8988row4_col12,#T_f5c94dbd_9be2_11ee_93e0_04d4c47a8988row4_col13,#T_f5c94dbd_9be2_11ee_93e0_04d4c47a8988row4_col14,#T_f5c94dbd_9be2_11ee_93e0_04d4c47a8988row4_col15,#T_f5c94dbd_9be2_11ee_93e0_04d4c47a8988row5_col1,#T_f5c94dbd_9be2_11ee_93e0_04d4c47a8988row5_col2,#T_f5c94dbd_9be2_11ee_93e0_04d4c47a8988row5_col3,#T_f5c94dbd_9be2_11ee_93e0_04d4c47a8988row5_col4,#T_f5c94dbd_9be2_11ee_93e0_04d4c47a8988row5_col5,#T_f5c94dbd_9be2_11ee_93e0_04d4c47a8988row5_col6,#T_f5c94dbd_9be2_11ee_93e0_04d4c47a8988row5_col7,#T_f5c94dbd_9be2_11ee_93e0_04d4c47a8988row5_col8,#T_f5c94dbd_9be2_11ee_93e0_04d4c47a8988row5_col9,#T_f5c94dbd_9be2_11ee_93e0_04d4c47a8988row5_col10,#T_f5c94dbd_9be2_11ee_93e0_04d4c47a8988row5_col11,#T_f5c94dbd_9be2_11ee_93e0_04d4c47a8988row5_col12,#T_f5c94dbd_9be2_11ee_93e0_04d4c47a8988row5_col13,#T_f5c94dbd_9be2_11ee_93e0_04d4c47a8988row6_col1,#T_f5c94dbd_9be2_11ee_93e0_04d4c47a8988row6_col2,#T_f5c94dbd_9be2_11ee_93e0_04d4c47a8988row6_col3,#T_f5c94dbd_9be2_11ee_93e0_04d4c47a8988row6_col4,#T_f5c94dbd_9be2_11ee_93e0_04d4c47a8988row6_col5,#T_f5c94dbd_9be2_11ee_93e0_04d4c47a8988row6_col6,#T_f5c94dbd_9be2_11ee_93e0_04d4c47a8988row6_col7,#T_f5c94dbd_9be2_11ee_93e0_04d4c47a8988row6_col8,#T_f5c94dbd_9be2_11ee_93e0_04d4c47a8988row6_col9,#T_f5c94dbd_9be2_11ee_93e0_04d4c47a8988row6_col10,#T_f5c94dbd_9be2_11ee_93e0_04d4c47a8988row6_col11,#T_f5c94dbd_9be2_11ee_93e0_04d4c47a8988row6_col12,#T_f5c94dbd_9be2_11ee_93e0_04d4c47a8988row6_col13,#T_f5c94dbd_9be2_11ee_93e0_04d4c47a8988row7_col1,#T_f5c94dbd_9be2_11ee_93e0_04d4c47a8988row7_col2,#T_f5c94dbd_9be2_11ee_93e0_04d4c47a8988row7_col3,#T_f5c94dbd_9be2_11ee_93e0_04d4c47a8988row7_col4,#T_f5c94dbd_9be2_11ee_93e0_04d4c47a8988row7_col5,#T_f5c94dbd_9be2_11ee_93e0_04d4c47a8988row7_col6,#T_f5c94dbd_9be2_11ee_93e0_04d4c47a8988row7_col7,#T_f5c94dbd_9be2_11ee_93e0_04d4c47a8988row7_col8,#T_f5c94dbd_9be2_11ee_93e0_04d4c47a8988row7_col9,#T_f5c94dbd_9be2_11ee_93e0_04d4c47a8988row7_col10,#T_f5c94dbd_9be2_11ee_93e0_04d4c47a8988row7_col11,#T_f5c94dbd_9be2_11ee_93e0_04d4c47a8988row7_col12{\n",
       "            background-color:  #fff7f3;\n",
       "            color:  #000000;\n",
       "        }#T_f5c94dbd_9be2_11ee_93e0_04d4c47a8988row1_col14,#T_f5c94dbd_9be2_11ee_93e0_04d4c47a8988row1_col15,#T_f5c94dbd_9be2_11ee_93e0_04d4c47a8988row2_col14,#T_f5c94dbd_9be2_11ee_93e0_04d4c47a8988row2_col15,#T_f5c94dbd_9be2_11ee_93e0_04d4c47a8988row5_col14,#T_f5c94dbd_9be2_11ee_93e0_04d4c47a8988row5_col15{\n",
       "            background-color:  #fff6f2;\n",
       "            color:  #000000;\n",
       "        }#T_f5c94dbd_9be2_11ee_93e0_04d4c47a8988row2_col0{\n",
       "            background-color:  #fbbabd;\n",
       "            color:  #000000;\n",
       "        }#T_f5c94dbd_9be2_11ee_93e0_04d4c47a8988row4_col0{\n",
       "            background-color:  #fcc5c0;\n",
       "            color:  #000000;\n",
       "        }#T_f5c94dbd_9be2_11ee_93e0_04d4c47a8988row6_col0{\n",
       "            background-color:  #ad017e;\n",
       "            color:  #f1f1f1;\n",
       "        }#T_f5c94dbd_9be2_11ee_93e0_04d4c47a8988row6_col14{\n",
       "            background-color:  #fff5f1;\n",
       "            color:  #000000;\n",
       "        }#T_f5c94dbd_9be2_11ee_93e0_04d4c47a8988row6_col15{\n",
       "            background-color:  #fff4f0;\n",
       "            color:  #000000;\n",
       "        }#T_f5c94dbd_9be2_11ee_93e0_04d4c47a8988row7_col13{\n",
       "            background-color:  #fff3f0;\n",
       "            color:  #000000;\n",
       "        }#T_f5c94dbd_9be2_11ee_93e0_04d4c47a8988row7_col14{\n",
       "            background-color:  #feeeea;\n",
       "            color:  #000000;\n",
       "        }#T_f5c94dbd_9be2_11ee_93e0_04d4c47a8988row7_col15{\n",
       "            background-color:  #feede9;\n",
       "            color:  #000000;\n",
       "        }</style><table id=\"T_f5c94dbd_9be2_11ee_93e0_04d4c47a8988\" ><thead>    <tr>        <th class=\"blank level0\" ></th>        <th class=\"col_heading level0 col0\" >instant</th>        <th class=\"col_heading level0 col1\" >season</th>        <th class=\"col_heading level0 col2\" >yr</th>        <th class=\"col_heading level0 col3\" >mnth</th>        <th class=\"col_heading level0 col4\" >hr</th>        <th class=\"col_heading level0 col5\" >holiday</th>        <th class=\"col_heading level0 col6\" >weekday</th>        <th class=\"col_heading level0 col7\" >workingday</th>        <th class=\"col_heading level0 col8\" >weathersit</th>        <th class=\"col_heading level0 col9\" >temp</th>        <th class=\"col_heading level0 col10\" >atemp</th>        <th class=\"col_heading level0 col11\" >hum</th>        <th class=\"col_heading level0 col12\" >windspeed</th>        <th class=\"col_heading level0 col13\" >casual</th>        <th class=\"col_heading level0 col14\" >registered</th>        <th class=\"col_heading level0 col15\" >cnt</th>    </tr></thead><tbody>\n",
       "                <tr>\n",
       "                        <th id=\"T_f5c94dbd_9be2_11ee_93e0_04d4c47a8988level0_row0\" class=\"row_heading level0 row0\" >count</th>\n",
       "                        <td id=\"T_f5c94dbd_9be2_11ee_93e0_04d4c47a8988row0_col0\" class=\"data row0 col0\" >17379.000000</td>\n",
       "                        <td id=\"T_f5c94dbd_9be2_11ee_93e0_04d4c47a8988row0_col1\" class=\"data row0 col1\" >17379.000000</td>\n",
       "                        <td id=\"T_f5c94dbd_9be2_11ee_93e0_04d4c47a8988row0_col2\" class=\"data row0 col2\" >17379.000000</td>\n",
       "                        <td id=\"T_f5c94dbd_9be2_11ee_93e0_04d4c47a8988row0_col3\" class=\"data row0 col3\" >17379.000000</td>\n",
       "                        <td id=\"T_f5c94dbd_9be2_11ee_93e0_04d4c47a8988row0_col4\" class=\"data row0 col4\" >17379.000000</td>\n",
       "                        <td id=\"T_f5c94dbd_9be2_11ee_93e0_04d4c47a8988row0_col5\" class=\"data row0 col5\" >17379.000000</td>\n",
       "                        <td id=\"T_f5c94dbd_9be2_11ee_93e0_04d4c47a8988row0_col6\" class=\"data row0 col6\" >17379.000000</td>\n",
       "                        <td id=\"T_f5c94dbd_9be2_11ee_93e0_04d4c47a8988row0_col7\" class=\"data row0 col7\" >17379.000000</td>\n",
       "                        <td id=\"T_f5c94dbd_9be2_11ee_93e0_04d4c47a8988row0_col8\" class=\"data row0 col8\" >17379.000000</td>\n",
       "                        <td id=\"T_f5c94dbd_9be2_11ee_93e0_04d4c47a8988row0_col9\" class=\"data row0 col9\" >17379.000000</td>\n",
       "                        <td id=\"T_f5c94dbd_9be2_11ee_93e0_04d4c47a8988row0_col10\" class=\"data row0 col10\" >17379.000000</td>\n",
       "                        <td id=\"T_f5c94dbd_9be2_11ee_93e0_04d4c47a8988row0_col11\" class=\"data row0 col11\" >17379.000000</td>\n",
       "                        <td id=\"T_f5c94dbd_9be2_11ee_93e0_04d4c47a8988row0_col12\" class=\"data row0 col12\" >17379.000000</td>\n",
       "                        <td id=\"T_f5c94dbd_9be2_11ee_93e0_04d4c47a8988row0_col13\" class=\"data row0 col13\" >17379.000000</td>\n",
       "                        <td id=\"T_f5c94dbd_9be2_11ee_93e0_04d4c47a8988row0_col14\" class=\"data row0 col14\" >17379.000000</td>\n",
       "                        <td id=\"T_f5c94dbd_9be2_11ee_93e0_04d4c47a8988row0_col15\" class=\"data row0 col15\" >17379.000000</td>\n",
       "            </tr>\n",
       "            <tr>\n",
       "                        <th id=\"T_f5c94dbd_9be2_11ee_93e0_04d4c47a8988level0_row1\" class=\"row_heading level0 row1\" >mean</th>\n",
       "                        <td id=\"T_f5c94dbd_9be2_11ee_93e0_04d4c47a8988row1_col0\" class=\"data row1 col0\" >8690.000000</td>\n",
       "                        <td id=\"T_f5c94dbd_9be2_11ee_93e0_04d4c47a8988row1_col1\" class=\"data row1 col1\" >2.501640</td>\n",
       "                        <td id=\"T_f5c94dbd_9be2_11ee_93e0_04d4c47a8988row1_col2\" class=\"data row1 col2\" >0.502561</td>\n",
       "                        <td id=\"T_f5c94dbd_9be2_11ee_93e0_04d4c47a8988row1_col3\" class=\"data row1 col3\" >6.537775</td>\n",
       "                        <td id=\"T_f5c94dbd_9be2_11ee_93e0_04d4c47a8988row1_col4\" class=\"data row1 col4\" >11.546752</td>\n",
       "                        <td id=\"T_f5c94dbd_9be2_11ee_93e0_04d4c47a8988row1_col5\" class=\"data row1 col5\" >0.028770</td>\n",
       "                        <td id=\"T_f5c94dbd_9be2_11ee_93e0_04d4c47a8988row1_col6\" class=\"data row1 col6\" >3.003683</td>\n",
       "                        <td id=\"T_f5c94dbd_9be2_11ee_93e0_04d4c47a8988row1_col7\" class=\"data row1 col7\" >0.682721</td>\n",
       "                        <td id=\"T_f5c94dbd_9be2_11ee_93e0_04d4c47a8988row1_col8\" class=\"data row1 col8\" >1.425283</td>\n",
       "                        <td id=\"T_f5c94dbd_9be2_11ee_93e0_04d4c47a8988row1_col9\" class=\"data row1 col9\" >0.496987</td>\n",
       "                        <td id=\"T_f5c94dbd_9be2_11ee_93e0_04d4c47a8988row1_col10\" class=\"data row1 col10\" >0.475775</td>\n",
       "                        <td id=\"T_f5c94dbd_9be2_11ee_93e0_04d4c47a8988row1_col11\" class=\"data row1 col11\" >0.627229</td>\n",
       "                        <td id=\"T_f5c94dbd_9be2_11ee_93e0_04d4c47a8988row1_col12\" class=\"data row1 col12\" >0.190098</td>\n",
       "                        <td id=\"T_f5c94dbd_9be2_11ee_93e0_04d4c47a8988row1_col13\" class=\"data row1 col13\" >35.676218</td>\n",
       "                        <td id=\"T_f5c94dbd_9be2_11ee_93e0_04d4c47a8988row1_col14\" class=\"data row1 col14\" >153.786869</td>\n",
       "                        <td id=\"T_f5c94dbd_9be2_11ee_93e0_04d4c47a8988row1_col15\" class=\"data row1 col15\" >189.463088</td>\n",
       "            </tr>\n",
       "            <tr>\n",
       "                        <th id=\"T_f5c94dbd_9be2_11ee_93e0_04d4c47a8988level0_row2\" class=\"row_heading level0 row2\" >std</th>\n",
       "                        <td id=\"T_f5c94dbd_9be2_11ee_93e0_04d4c47a8988row2_col0\" class=\"data row2 col0\" >5017.029500</td>\n",
       "                        <td id=\"T_f5c94dbd_9be2_11ee_93e0_04d4c47a8988row2_col1\" class=\"data row2 col1\" >1.106918</td>\n",
       "                        <td id=\"T_f5c94dbd_9be2_11ee_93e0_04d4c47a8988row2_col2\" class=\"data row2 col2\" >0.500008</td>\n",
       "                        <td id=\"T_f5c94dbd_9be2_11ee_93e0_04d4c47a8988row2_col3\" class=\"data row2 col3\" >3.438776</td>\n",
       "                        <td id=\"T_f5c94dbd_9be2_11ee_93e0_04d4c47a8988row2_col4\" class=\"data row2 col4\" >6.914405</td>\n",
       "                        <td id=\"T_f5c94dbd_9be2_11ee_93e0_04d4c47a8988row2_col5\" class=\"data row2 col5\" >0.167165</td>\n",
       "                        <td id=\"T_f5c94dbd_9be2_11ee_93e0_04d4c47a8988row2_col6\" class=\"data row2 col6\" >2.005771</td>\n",
       "                        <td id=\"T_f5c94dbd_9be2_11ee_93e0_04d4c47a8988row2_col7\" class=\"data row2 col7\" >0.465431</td>\n",
       "                        <td id=\"T_f5c94dbd_9be2_11ee_93e0_04d4c47a8988row2_col8\" class=\"data row2 col8\" >0.639357</td>\n",
       "                        <td id=\"T_f5c94dbd_9be2_11ee_93e0_04d4c47a8988row2_col9\" class=\"data row2 col9\" >0.192556</td>\n",
       "                        <td id=\"T_f5c94dbd_9be2_11ee_93e0_04d4c47a8988row2_col10\" class=\"data row2 col10\" >0.171850</td>\n",
       "                        <td id=\"T_f5c94dbd_9be2_11ee_93e0_04d4c47a8988row2_col11\" class=\"data row2 col11\" >0.192930</td>\n",
       "                        <td id=\"T_f5c94dbd_9be2_11ee_93e0_04d4c47a8988row2_col12\" class=\"data row2 col12\" >0.122340</td>\n",
       "                        <td id=\"T_f5c94dbd_9be2_11ee_93e0_04d4c47a8988row2_col13\" class=\"data row2 col13\" >49.305030</td>\n",
       "                        <td id=\"T_f5c94dbd_9be2_11ee_93e0_04d4c47a8988row2_col14\" class=\"data row2 col14\" >151.357286</td>\n",
       "                        <td id=\"T_f5c94dbd_9be2_11ee_93e0_04d4c47a8988row2_col15\" class=\"data row2 col15\" >181.387599</td>\n",
       "            </tr>\n",
       "            <tr>\n",
       "                        <th id=\"T_f5c94dbd_9be2_11ee_93e0_04d4c47a8988level0_row3\" class=\"row_heading level0 row3\" >min</th>\n",
       "                        <td id=\"T_f5c94dbd_9be2_11ee_93e0_04d4c47a8988row3_col0\" class=\"data row3 col0\" >1.000000</td>\n",
       "                        <td id=\"T_f5c94dbd_9be2_11ee_93e0_04d4c47a8988row3_col1\" class=\"data row3 col1\" >1.000000</td>\n",
       "                        <td id=\"T_f5c94dbd_9be2_11ee_93e0_04d4c47a8988row3_col2\" class=\"data row3 col2\" >0.000000</td>\n",
       "                        <td id=\"T_f5c94dbd_9be2_11ee_93e0_04d4c47a8988row3_col3\" class=\"data row3 col3\" >1.000000</td>\n",
       "                        <td id=\"T_f5c94dbd_9be2_11ee_93e0_04d4c47a8988row3_col4\" class=\"data row3 col4\" >0.000000</td>\n",
       "                        <td id=\"T_f5c94dbd_9be2_11ee_93e0_04d4c47a8988row3_col5\" class=\"data row3 col5\" >0.000000</td>\n",
       "                        <td id=\"T_f5c94dbd_9be2_11ee_93e0_04d4c47a8988row3_col6\" class=\"data row3 col6\" >0.000000</td>\n",
       "                        <td id=\"T_f5c94dbd_9be2_11ee_93e0_04d4c47a8988row3_col7\" class=\"data row3 col7\" >0.000000</td>\n",
       "                        <td id=\"T_f5c94dbd_9be2_11ee_93e0_04d4c47a8988row3_col8\" class=\"data row3 col8\" >1.000000</td>\n",
       "                        <td id=\"T_f5c94dbd_9be2_11ee_93e0_04d4c47a8988row3_col9\" class=\"data row3 col9\" >0.020000</td>\n",
       "                        <td id=\"T_f5c94dbd_9be2_11ee_93e0_04d4c47a8988row3_col10\" class=\"data row3 col10\" >0.000000</td>\n",
       "                        <td id=\"T_f5c94dbd_9be2_11ee_93e0_04d4c47a8988row3_col11\" class=\"data row3 col11\" >0.000000</td>\n",
       "                        <td id=\"T_f5c94dbd_9be2_11ee_93e0_04d4c47a8988row3_col12\" class=\"data row3 col12\" >0.000000</td>\n",
       "                        <td id=\"T_f5c94dbd_9be2_11ee_93e0_04d4c47a8988row3_col13\" class=\"data row3 col13\" >0.000000</td>\n",
       "                        <td id=\"T_f5c94dbd_9be2_11ee_93e0_04d4c47a8988row3_col14\" class=\"data row3 col14\" >0.000000</td>\n",
       "                        <td id=\"T_f5c94dbd_9be2_11ee_93e0_04d4c47a8988row3_col15\" class=\"data row3 col15\" >1.000000</td>\n",
       "            </tr>\n",
       "            <tr>\n",
       "                        <th id=\"T_f5c94dbd_9be2_11ee_93e0_04d4c47a8988level0_row4\" class=\"row_heading level0 row4\" >25%</th>\n",
       "                        <td id=\"T_f5c94dbd_9be2_11ee_93e0_04d4c47a8988row4_col0\" class=\"data row4 col0\" >4345.500000</td>\n",
       "                        <td id=\"T_f5c94dbd_9be2_11ee_93e0_04d4c47a8988row4_col1\" class=\"data row4 col1\" >2.000000</td>\n",
       "                        <td id=\"T_f5c94dbd_9be2_11ee_93e0_04d4c47a8988row4_col2\" class=\"data row4 col2\" >0.000000</td>\n",
       "                        <td id=\"T_f5c94dbd_9be2_11ee_93e0_04d4c47a8988row4_col3\" class=\"data row4 col3\" >4.000000</td>\n",
       "                        <td id=\"T_f5c94dbd_9be2_11ee_93e0_04d4c47a8988row4_col4\" class=\"data row4 col4\" >6.000000</td>\n",
       "                        <td id=\"T_f5c94dbd_9be2_11ee_93e0_04d4c47a8988row4_col5\" class=\"data row4 col5\" >0.000000</td>\n",
       "                        <td id=\"T_f5c94dbd_9be2_11ee_93e0_04d4c47a8988row4_col6\" class=\"data row4 col6\" >1.000000</td>\n",
       "                        <td id=\"T_f5c94dbd_9be2_11ee_93e0_04d4c47a8988row4_col7\" class=\"data row4 col7\" >0.000000</td>\n",
       "                        <td id=\"T_f5c94dbd_9be2_11ee_93e0_04d4c47a8988row4_col8\" class=\"data row4 col8\" >1.000000</td>\n",
       "                        <td id=\"T_f5c94dbd_9be2_11ee_93e0_04d4c47a8988row4_col9\" class=\"data row4 col9\" >0.340000</td>\n",
       "                        <td id=\"T_f5c94dbd_9be2_11ee_93e0_04d4c47a8988row4_col10\" class=\"data row4 col10\" >0.333300</td>\n",
       "                        <td id=\"T_f5c94dbd_9be2_11ee_93e0_04d4c47a8988row4_col11\" class=\"data row4 col11\" >0.480000</td>\n",
       "                        <td id=\"T_f5c94dbd_9be2_11ee_93e0_04d4c47a8988row4_col12\" class=\"data row4 col12\" >0.104500</td>\n",
       "                        <td id=\"T_f5c94dbd_9be2_11ee_93e0_04d4c47a8988row4_col13\" class=\"data row4 col13\" >4.000000</td>\n",
       "                        <td id=\"T_f5c94dbd_9be2_11ee_93e0_04d4c47a8988row4_col14\" class=\"data row4 col14\" >34.000000</td>\n",
       "                        <td id=\"T_f5c94dbd_9be2_11ee_93e0_04d4c47a8988row4_col15\" class=\"data row4 col15\" >40.000000</td>\n",
       "            </tr>\n",
       "            <tr>\n",
       "                        <th id=\"T_f5c94dbd_9be2_11ee_93e0_04d4c47a8988level0_row5\" class=\"row_heading level0 row5\" >50%</th>\n",
       "                        <td id=\"T_f5c94dbd_9be2_11ee_93e0_04d4c47a8988row5_col0\" class=\"data row5 col0\" >8690.000000</td>\n",
       "                        <td id=\"T_f5c94dbd_9be2_11ee_93e0_04d4c47a8988row5_col1\" class=\"data row5 col1\" >3.000000</td>\n",
       "                        <td id=\"T_f5c94dbd_9be2_11ee_93e0_04d4c47a8988row5_col2\" class=\"data row5 col2\" >1.000000</td>\n",
       "                        <td id=\"T_f5c94dbd_9be2_11ee_93e0_04d4c47a8988row5_col3\" class=\"data row5 col3\" >7.000000</td>\n",
       "                        <td id=\"T_f5c94dbd_9be2_11ee_93e0_04d4c47a8988row5_col4\" class=\"data row5 col4\" >12.000000</td>\n",
       "                        <td id=\"T_f5c94dbd_9be2_11ee_93e0_04d4c47a8988row5_col5\" class=\"data row5 col5\" >0.000000</td>\n",
       "                        <td id=\"T_f5c94dbd_9be2_11ee_93e0_04d4c47a8988row5_col6\" class=\"data row5 col6\" >3.000000</td>\n",
       "                        <td id=\"T_f5c94dbd_9be2_11ee_93e0_04d4c47a8988row5_col7\" class=\"data row5 col7\" >1.000000</td>\n",
       "                        <td id=\"T_f5c94dbd_9be2_11ee_93e0_04d4c47a8988row5_col8\" class=\"data row5 col8\" >1.000000</td>\n",
       "                        <td id=\"T_f5c94dbd_9be2_11ee_93e0_04d4c47a8988row5_col9\" class=\"data row5 col9\" >0.500000</td>\n",
       "                        <td id=\"T_f5c94dbd_9be2_11ee_93e0_04d4c47a8988row5_col10\" class=\"data row5 col10\" >0.484800</td>\n",
       "                        <td id=\"T_f5c94dbd_9be2_11ee_93e0_04d4c47a8988row5_col11\" class=\"data row5 col11\" >0.630000</td>\n",
       "                        <td id=\"T_f5c94dbd_9be2_11ee_93e0_04d4c47a8988row5_col12\" class=\"data row5 col12\" >0.194000</td>\n",
       "                        <td id=\"T_f5c94dbd_9be2_11ee_93e0_04d4c47a8988row5_col13\" class=\"data row5 col13\" >17.000000</td>\n",
       "                        <td id=\"T_f5c94dbd_9be2_11ee_93e0_04d4c47a8988row5_col14\" class=\"data row5 col14\" >115.000000</td>\n",
       "                        <td id=\"T_f5c94dbd_9be2_11ee_93e0_04d4c47a8988row5_col15\" class=\"data row5 col15\" >142.000000</td>\n",
       "            </tr>\n",
       "            <tr>\n",
       "                        <th id=\"T_f5c94dbd_9be2_11ee_93e0_04d4c47a8988level0_row6\" class=\"row_heading level0 row6\" >75%</th>\n",
       "                        <td id=\"T_f5c94dbd_9be2_11ee_93e0_04d4c47a8988row6_col0\" class=\"data row6 col0\" >13034.500000</td>\n",
       "                        <td id=\"T_f5c94dbd_9be2_11ee_93e0_04d4c47a8988row6_col1\" class=\"data row6 col1\" >3.000000</td>\n",
       "                        <td id=\"T_f5c94dbd_9be2_11ee_93e0_04d4c47a8988row6_col2\" class=\"data row6 col2\" >1.000000</td>\n",
       "                        <td id=\"T_f5c94dbd_9be2_11ee_93e0_04d4c47a8988row6_col3\" class=\"data row6 col3\" >10.000000</td>\n",
       "                        <td id=\"T_f5c94dbd_9be2_11ee_93e0_04d4c47a8988row6_col4\" class=\"data row6 col4\" >18.000000</td>\n",
       "                        <td id=\"T_f5c94dbd_9be2_11ee_93e0_04d4c47a8988row6_col5\" class=\"data row6 col5\" >0.000000</td>\n",
       "                        <td id=\"T_f5c94dbd_9be2_11ee_93e0_04d4c47a8988row6_col6\" class=\"data row6 col6\" >5.000000</td>\n",
       "                        <td id=\"T_f5c94dbd_9be2_11ee_93e0_04d4c47a8988row6_col7\" class=\"data row6 col7\" >1.000000</td>\n",
       "                        <td id=\"T_f5c94dbd_9be2_11ee_93e0_04d4c47a8988row6_col8\" class=\"data row6 col8\" >2.000000</td>\n",
       "                        <td id=\"T_f5c94dbd_9be2_11ee_93e0_04d4c47a8988row6_col9\" class=\"data row6 col9\" >0.660000</td>\n",
       "                        <td id=\"T_f5c94dbd_9be2_11ee_93e0_04d4c47a8988row6_col10\" class=\"data row6 col10\" >0.621200</td>\n",
       "                        <td id=\"T_f5c94dbd_9be2_11ee_93e0_04d4c47a8988row6_col11\" class=\"data row6 col11\" >0.780000</td>\n",
       "                        <td id=\"T_f5c94dbd_9be2_11ee_93e0_04d4c47a8988row6_col12\" class=\"data row6 col12\" >0.253700</td>\n",
       "                        <td id=\"T_f5c94dbd_9be2_11ee_93e0_04d4c47a8988row6_col13\" class=\"data row6 col13\" >48.000000</td>\n",
       "                        <td id=\"T_f5c94dbd_9be2_11ee_93e0_04d4c47a8988row6_col14\" class=\"data row6 col14\" >220.000000</td>\n",
       "                        <td id=\"T_f5c94dbd_9be2_11ee_93e0_04d4c47a8988row6_col15\" class=\"data row6 col15\" >281.000000</td>\n",
       "            </tr>\n",
       "            <tr>\n",
       "                        <th id=\"T_f5c94dbd_9be2_11ee_93e0_04d4c47a8988level0_row7\" class=\"row_heading level0 row7\" >max</th>\n",
       "                        <td id=\"T_f5c94dbd_9be2_11ee_93e0_04d4c47a8988row7_col0\" class=\"data row7 col0\" >17379.000000</td>\n",
       "                        <td id=\"T_f5c94dbd_9be2_11ee_93e0_04d4c47a8988row7_col1\" class=\"data row7 col1\" >4.000000</td>\n",
       "                        <td id=\"T_f5c94dbd_9be2_11ee_93e0_04d4c47a8988row7_col2\" class=\"data row7 col2\" >1.000000</td>\n",
       "                        <td id=\"T_f5c94dbd_9be2_11ee_93e0_04d4c47a8988row7_col3\" class=\"data row7 col3\" >12.000000</td>\n",
       "                        <td id=\"T_f5c94dbd_9be2_11ee_93e0_04d4c47a8988row7_col4\" class=\"data row7 col4\" >23.000000</td>\n",
       "                        <td id=\"T_f5c94dbd_9be2_11ee_93e0_04d4c47a8988row7_col5\" class=\"data row7 col5\" >1.000000</td>\n",
       "                        <td id=\"T_f5c94dbd_9be2_11ee_93e0_04d4c47a8988row7_col6\" class=\"data row7 col6\" >6.000000</td>\n",
       "                        <td id=\"T_f5c94dbd_9be2_11ee_93e0_04d4c47a8988row7_col7\" class=\"data row7 col7\" >1.000000</td>\n",
       "                        <td id=\"T_f5c94dbd_9be2_11ee_93e0_04d4c47a8988row7_col8\" class=\"data row7 col8\" >4.000000</td>\n",
       "                        <td id=\"T_f5c94dbd_9be2_11ee_93e0_04d4c47a8988row7_col9\" class=\"data row7 col9\" >1.000000</td>\n",
       "                        <td id=\"T_f5c94dbd_9be2_11ee_93e0_04d4c47a8988row7_col10\" class=\"data row7 col10\" >1.000000</td>\n",
       "                        <td id=\"T_f5c94dbd_9be2_11ee_93e0_04d4c47a8988row7_col11\" class=\"data row7 col11\" >1.000000</td>\n",
       "                        <td id=\"T_f5c94dbd_9be2_11ee_93e0_04d4c47a8988row7_col12\" class=\"data row7 col12\" >0.850700</td>\n",
       "                        <td id=\"T_f5c94dbd_9be2_11ee_93e0_04d4c47a8988row7_col13\" class=\"data row7 col13\" >367.000000</td>\n",
       "                        <td id=\"T_f5c94dbd_9be2_11ee_93e0_04d4c47a8988row7_col14\" class=\"data row7 col14\" >886.000000</td>\n",
       "                        <td id=\"T_f5c94dbd_9be2_11ee_93e0_04d4c47a8988row7_col15\" class=\"data row7 col15\" >977.000000</td>\n",
       "            </tr>\n",
       "    </tbody></table>"
      ],
      "text/plain": [
       "<pandas.io.formats.style.Styler at 0x1eeb407d6a0>"
      ]
     },
     "execution_count": 11,
     "metadata": {},
     "output_type": "execute_result"
    }
   ],
   "source": [
    "df_hour.describe().transpose().T.style.background_gradient(cmap=\"RdPu\")"
   ]
  },
  {
   "cell_type": "markdown",
   "metadata": {},
   "source": [
    "(✓) descriptive analysis"
   ]
  },
  {
   "cell_type": "markdown",
   "metadata": {},
   "source": [
    "1. Dataset Day\n",
    "- Jumlah Data entri ada 731 entri\n",
    "- Q1 dan Q3 adalah 183.5 dan 548.5\n",
    "- standard deviation 211.1\n",
    "- musim yang rata-rata adalah musim panas ke 2 \n",
    "- hari libur yang hanya ada 2.87% dari total hari\n",
    "- hari kerja yang hanya ada 68.39% dari total hari\n",
    "- cuaca dengan keadaan baik ada 1 weathersit \n",
    "- Suhu Rata-rata: 0.50 (41°C)\n",
    "- Suhu Perasaan Rata-rata: 0.47 (50°C)\n",
    "- Kelembaban rata-rata sekitar 0.47 (47%).\n",
    "- kecepatan angin rata-rata 0.19 dan maksimal 50%\n",
    "- jumlah pengguna casual ada berjumlah 848 orang rata-rata\n",
    "- jumlah pengguna registered ada berjumlah 3656 orang rata-rata\n",
    "- jumlah rental yang disewakan ada berjumlah 4504 "
   ]
  },
  {
   "cell_type": "markdown",
   "metadata": {},
   "source": [
    "2. Dataset Hour\n",
    "- jumlah data entri ada 173 entri\n",
    "- Q1 dan Q3 adalah 4345.5 dan 13034.5\n",
    "- standard deviation 5017.0\n",
    "- musim yang rata-rata adalah musim 2.50, menunjukan rata-rata musim \n",
    "- tahun (yr) 0.50, mengindikasikan perbandingan dari tahun 2011 dan 2012\n",
    "- bulan (mnth) 6.54, menunjukan rata-rata bulan dalam setahun \n",
    "- jam (hr) 11.55 mengindikasikan perbandingan dari jam rata-rata sehari \n",
    "- hari libur (holiday) 0.03, menunjukan presentasi hari libur \n",
    "- Hari dalam seminggu (weekday) 3.00, hari rata-rata dalam seminggu.\n",
    "- Hari kerja (workingday) 0.68, persentase hari kerja.\n",
    "- Kondisi cuaca (weathersit) 1.43, kondisi cuaca rata-rata.\n",
    "- Suhu (temp) 0.50, suhu rata-rata yang normal.\n",
    "- Suhu perasaan (atemp) 0.48, suhu perasaan mendekati suhu sebenarnya.\n",
    "- Kelembaban (hum) 0.48, kelembaban rata-rata.\n",
    "- Kecepatan angin (windspeed) 0.63, kecepatan angin rata-rata.\n",
    "- Pengguna casual (casual) 35.68, rata-rata jumlah pengguna casual.\n",
    "- Pengguna terdaftar (registered) 153.79, rata-rata jumlah pengguna terdaftar.\n",
    "- Total rental sepeda (cnt) 189.46, rata-rata jumlah total rental sepeda."
   ]
  },
  {
   "cell_type": "markdown",
   "metadata": {},
   "source": []
  },
  {
   "cell_type": "markdown",
   "metadata": {},
   "source": [
    "## Cleaning Data"
   ]
  },
  {
   "cell_type": "markdown",
   "metadata": {},
   "source": [
    "- Fixed Type"
   ]
  },
  {
   "cell_type": "code",
   "execution_count": 12,
   "metadata": {},
   "outputs": [],
   "source": [
    "# df_day\n",
    "df_day = df_day.assign(dteday=pd.to_datetime(df_day[\"dteday\"]))\n",
    "\n",
    "# df_hour\n",
    "df_hour = df_hour.assign(dteday=pd.to_datetime(df_hour[\"dteday\"]))"
   ]
  },
  {
   "cell_type": "code",
   "execution_count": 13,
   "metadata": {},
   "outputs": [
    {
     "name": "stdout",
     "output_type": "stream",
     "text": [
      "df_day['dteday']: datetime64[ns] \n",
      "df_hour['dteday']: datetime64[ns]\n"
     ]
    }
   ],
   "source": [
    "# Check data type for df_day and df_hour\n",
    "print(\"df_day['dteday']:\", df_day[\"dteday\"].dtypes, \"\\n\" \"df_hour['dteday']:\", df_hour[\"dteday\"].dtypes)"
   ]
  },
  {
   "cell_type": "markdown",
   "metadata": {},
   "source": [
    "## Exploratory Data Analysis (EDA)"
   ]
  },
  {
   "cell_type": "markdown",
   "metadata": {},
   "source": [
    "- Korelasi antara variabel numerik "
   ]
  },
  {
   "cell_type": "code",
   "execution_count": 14,
   "metadata": {},
   "outputs": [
    {
     "data": {
      "image/png": "[encoded data removed]",
      "text/plain": [
       "<Figure size 864x576 with 2 Axes>"
      ]
     },
     "metadata": {
      "needs_background": "light"
     },
     "output_type": "display_data"
    }
   ],
   "source": [
    "# Matplotlib heatmap\n",
    "plt.figure(figsize=(12, 8))\n",
    "sns.set(style=\"white\")  # Set background style to white for better visibility\n",
    "sns.heatmap(df_day.corr(), annot=True, cmap=\"magma\", fmt=\".2f\")\n",
    "plt.title(\"Korelasi antara Variabel Numerik\")\n",
    "plt.show()"
   ]
  },
  {
   "cell_type": "code",
   "execution_count": 15,
   "metadata": {},
   "outputs": [
    {
     "data": {
      "image/png": "[encoded data removed]",
      "text/plain": [
       "<Figure size 1080x864 with 9 Axes>"
      ]
     },
     "metadata": {},
     "output_type": "display_data"
    }
   ],
   "source": [
    "numeric_cols = ['temp', 'atemp', 'hum', 'windspeed', 'casual', 'registered', 'cnt']\n",
    "\n",
    "# Set up subplots\n",
    "fig, axes = plt.subplots(nrows=3, ncols=3, figsize=(15, 12))\n",
    "fig.suptitle('Distribusi Variabel Numerik', y=1.02, fontsize=16)\n",
    "\n",
    "# Flatten the axes for easy iteration\n",
    "axes = axes.flatten()\n",
    "\n",
    "# Loop through numeric columns and create histograms\n",
    "for i, col in enumerate(numeric_cols):\n",
    "    sns.histplot(df_day[col], kde=True, ax=axes[i], bins=30)\n",
    "    axes[i].set_title(f'Distribusi {col}')\n",
    "\n",
    "# Adjust layout to prevent overlap\n",
    "plt.tight_layout()\n",
    "plt.show()"
   ]
  },
  {
   "cell_type": "code",
   "execution_count": 16,
   "metadata": {},
   "outputs": [
    {
     "data": {
      "image/png": "[encoded data removed]",
      "text/plain": [
       "<Figure size 1080x864 with 8 Axes>"
      ]
     },
     "metadata": {},
     "output_type": "display_data"
    }
   ],
   "source": [
    "categorical_cols = ['season', 'yr', 'mnth', 'holiday', 'weekday', 'workingday', 'weathersit']\n",
    "\n",
    "# Set up subplots\n",
    "fig, axes = plt.subplots(nrows=4, ncols=2, figsize=(15, 12))\n",
    "fig.suptitle('Distribusi Variabel Kategorikal', y=1.02, fontsize=16)\n",
    "\n",
    "# Flatten the axes for easy iteration\n",
    "axes = axes.flatten()\n",
    "\n",
    "# Loop through categorical columns and create bar plots\n",
    "for i, col in enumerate(categorical_cols):\n",
    "    sns.countplot(data=df_day, x=col, palette=\"magma\", ax=axes[i])\n",
    "    axes[i].set_title(f'Distribusi {col}')\n",
    "\n",
    "# Adjust layout to prevent overlap\n",
    "plt.tight_layout()\n",
    "plt.show()"
   ]
  },
  {
   "cell_type": "markdown",
   "metadata": {},
   "source": [
    "## Visualization & Explanatory Analysis"
   ]
  },
  {
   "cell_type": "markdown",
   "metadata": {},
   "source": [
    "- specifict\n",
    "1. Berapakah total untuk sewa sepeda untuk tahun dari 2011 dan 2012 seluruh musim gugur dari musim 3"
   ]
  },
  {
   "cell_type": "code",
   "execution_count": 17,
   "metadata": {},
   "outputs": [
    {
     "name": "stdout",
     "output_type": "stream",
     "text": [
      "Jumlah total sewa sepeda untuk tahun 2011 selama musim gugur (musim 3): 419650\n",
      "\n",
      "Jumlah total sewa sepeda untuk tahun 2012 selama musim gugur (musim 3): 641479\n"
     ]
    }
   ],
   "source": [
    "# Filter tahun 2011 dan musim gugur (season 3)\n",
    "filtered_data_2011_autumn = df_day[(df_day[\"yr\"] == 0) & (df_day[\"season\"] == 3)]\n",
    "\n",
    "# Filter tahun 2012 dan musim gugur (season 3)\n",
    "filtered_data_2012_autumn = df_day[(df_day[\"yr\"] == 1) & (df_day[\"season\"] == 3)]\n",
    "\n",
    "# Hitung jumlah total sewa sepeda (cnt)\n",
    "total_sewa_sepeda_2011_autumn = filtered_data_2011_autumn[\"cnt\"].sum()\n",
    "total_sewa_sepeda_2012_autumn = filtered_data_2012_autumn[\"cnt\"].sum()\n",
    "\n",
    "print(\"Jumlah total sewa sepeda untuk tahun 2011 selama musim gugur (musim 3):\", total_sewa_sepeda_2011_autumn)\n",
    "print(\"\\nJumlah total sewa sepeda untuk tahun 2012 selama musim gugur (musim 3):\", total_sewa_sepeda_2012_autumn)"
   ]
  },
  {
   "cell_type": "markdown",
   "metadata": {},
   "source": [
    "- Measurable\n",
    "2. Berapa banyak sepeda yang disewakan dalam waktu hari libur, (liburan = 1)  selama musim panas pada tahun 2012"
   ]
  },
  {
   "cell_type": "code",
   "execution_count": 18,
   "metadata": {},
   "outputs": [
    {
     "name": "stdout",
     "output_type": "stream",
     "text": [
      "Jumlah total sepeda yang disewakan pada hari libur selama musim panas tahun 2012: 13437\n"
     ]
    }
   ],
   "source": [
    "# Filter tahun 2012, musim panas (season 3), dan hari libur (holiday = 1)\n",
    "filtered_data_2012_summer_holiday = df_day[(df_day[\"yr\"] == 1) & (df_day[\"season\"] == 3) & (df_day[\"holiday\"] == 1)]\n",
    "\n",
    "# Hitung jumlah total sepeda yang disewakan\n",
    "total_sepeda_disewakan_2012_summer_holiday = filtered_data_2012_summer_holiday[\"cnt\"].sum()\n",
    "\n",
    "print(\"Jumlah total sepeda yang disewakan pada hari libur selama musim panas tahun 2012:\", total_sepeda_disewakan_2012_summer_holiday)"
   ]
  },
  {
   "cell_type": "markdown",
   "metadata": {},
   "source": [
    "- Action-Oriented\n",
    "3.  Bagaimana cara meningkatkan jumlah rental sewa sepeda yang digunakan oleh pengguna biasa (casual) pada hari kerja (hari kerja = 1)"
   ]
  },
  {
   "cell_type": "code",
   "execution_count": 34,
   "metadata": {},
   "outputs": [
    {
     "data": {
      "application/vnd.plotly.v1+json": {
       "config": {
        "plotlyServerURL": "https://plot.ly"
       },
       "data": [
        {
         "alignmentgroup": "True",
         "hovertemplate": "Hari Kerja=%{marker.color}<br>Jumlah Sewa Sepeda Casual=%{y}<extra></extra>",
         "legendgroup": "",
         "marker": {
          "color": [
           1,
           2,
           3,
           4,
           5,
           1,
           2,
           3,
           4,
           5,
           2,
           3,
           4,
           5,
           1,
           2,
           3,
           4,
           5,
           1,
           2,
           3,
           4,
           5,
           1,
           2,
           3,
           4,
           5,
           1,
           2,
           3,
           4,
           5,
           2,
           3,
           4,
           5,
           1,
           2,
           3,
           4,
           5,
           1,
           2,
           3,
           4,
           5,
           1,
           2,
           3,
           4,
           5,
           1,
           2,
           3,
           4,
           5,
           1,
           2,
           3,
           4,
           5,
           1,
           2,
           3,
           4,
           5,
           1,
           2,
           3,
           4,
           1,
           2,
           3,
           4,
           5,
           1,
           2,
           3,
           4,
           5,
           1,
           2,
           3,
           4,
           5,
           1,
           2,
           3,
           4,
           5,
           1,
           2,
           3,
           4,
           5,
           1,
           2,
           3,
           4,
           5,
           2,
           3,
           4,
           5,
           1,
           2,
           3,
           4,
           5,
           1,
           2,
           3,
           4,
           5,
           1,
           2,
           3,
           4,
           5,
           1,
           2,
           3,
           4,
           5,
           2,
           3,
           4,
           5,
           1,
           2,
           3,
           4,
           5,
           1,
           2,
           3,
           4,
           5,
           1,
           2,
           3,
           4,
           5,
           1,
           2,
           3,
           4,
           5,
           1,
           2,
           3,
           4,
           5,
           1,
           2,
           3,
           4,
           5,
           1,
           2,
           3,
           4,
           5,
           1,
           2,
           3,
           4,
           5,
           2,
           3,
           4,
           5,
           1,
           2,
           3,
           4,
           5,
           1,
           2,
           3,
           4,
           5,
           1,
           2,
           3,
           4,
           5,
           1,
           2,
           3,
           4,
           5,
           2,
           3,
           4,
           5,
           1,
           2,
           3,
           4,
           5,
           1,
           2,
           3,
           4,
           5,
           1,
           2,
           3,
           4,
           5,
           1,
           2,
           3,
           4,
           1,
           2,
           3,
           4,
           5,
           1,
           2,
           3,
           5,
           1,
           2,
           3,
           4,
           5,
           1,
           2,
           3,
           4,
           5,
           1,
           2,
           3,
           4,
           5,
           1,
           2,
           3,
           4,
           5,
           2,
           3,
           4,
           5,
           2,
           3,
           4,
           5,
           1,
           2,
           3,
           4,
           5,
           2,
           3,
           4,
           5,
           1,
           2,
           3,
           4,
           5,
           1,
           2,
           3,
           4,
           5,
           1,
           2,
           3,
           4,
           5,
           1,
           2,
           3,
           4,
           5,
           2,
           3,
           4,
           5,
           1,
           2,
           3,
           4,
           5,
           1,
           2,
           3,
           4,
           5,
           1,
           2,
           3,
           4,
           5,
           1,
           2,
           3,
           4,
           5,
           1,
           2,
           3,
           4,
           5,
           1,
           2,
           3,
           4,
           5,
           1,
           2,
           3,
           4,
           5,
           2,
           3,
           4,
           5,
           1,
           2,
           3,
           4,
           5,
           1,
           2,
           3,
           4,
           5,
           1,
           2,
           3,
           4,
           5,
           1,
           2,
           3,
           4,
           5,
           1,
           2,
           3,
           4,
           5,
           2,
           3,
           4,
           5,
           1,
           2,
           3,
           4,
           5,
           1,
           2,
           3,
           4,
           5,
           1,
           2,
           3,
           4,
           5,
           1,
           2,
           3,
           4,
           5,
           1,
           2,
           4,
           5,
           1,
           2,
           3,
           4,
           5,
           1,
           2,
           3,
           4,
           5,
           1,
           2,
           3,
           4,
           5,
           1,
           2,
           3,
           4,
           5,
           1,
           2,
           3,
           4,
           5,
           1,
           2,
           3,
           4,
           5,
           1,
           2,
           3,
           4,
           5,
           1,
           2,
           3,
           4,
           5,
           2,
           3,
           4,
           5,
           1,
           2,
           3,
           4,
           5,
           1,
           2,
           3,
           4,
           5,
           1,
           2,
           3,
           4,
           5,
           1,
           2,
           3,
           4,
           5,
           2,
           3,
           4,
           5,
           1,
           2,
           3,
           4,
           5,
           1,
           2,
           3,
           4,
           5,
           1,
           2,
           3,
           4,
           5,
           1,
           2,
           3,
           4,
           5,
           2,
           3,
           4,
           5,
           1,
           2,
           3,
           5,
           1,
           2,
           3,
           4,
           5,
           1,
           2,
           3,
           4,
           5,
           1,
           2,
           3,
           4,
           5,
           1,
           2,
           3,
           4,
           5,
           1,
           3,
           4,
           5,
           1
          ],
          "coloraxis": "coloraxis",
          "pattern": {
           "shape": ""
          }
         },
         "name": "",
         "offsetgroup": "",
         "orientation": "v",
         "showlegend": false,
         "textposition": "auto",
         "type": "bar",
         "x": [
          1,
          2,
          3,
          4,
          5,
          1,
          2,
          3,
          4,
          5,
          2,
          3,
          4,
          5,
          1,
          2,
          3,
          4,
          5,
          1,
          2,
          3,
          4,
          5,
          1,
          2,
          3,
          4,
          5,
          1,
          2,
          3,
          4,
          5,
          2,
          3,
          4,
          5,
          1,
          2,
          3,
          4,
          5,
          1,
          2,
          3,
          4,
          5,
          1,
          2,
          3,
          4,
          5,
          1,
          2,
          3,
          4,
          5,
          1,
          2,
          3,
          4,
          5,
          1,
          2,
          3,
          4,
          5,
          1,
          2,
          3,
          4,
          1,
          2,
          3,
          4,
          5,
          1,
          2,
          3,
          4,
          5,
          1,
          2,
          3,
          4,
          5,
          1,
          2,
          3,
          4,
          5,
          1,
          2,
          3,
          4,
          5,
          1,
          2,
          3,
          4,
          5,
          2,
          3,
          4,
          5,
          1,
          2,
          3,
          4,
          5,
          1,
          2,
          3,
          4,
          5,
          1,
          2,
          3,
          4,
          5,
          1,
          2,
          3,
          4,
          5,
          2,
          3,
          4,
          5,
          1,
          2,
          3,
          4,
          5,
          1,
          2,
          3,
          4,
          5,
          1,
          2,
          3,
          4,
          5,
          1,
          2,
          3,
          4,
          5,
          1,
          2,
          3,
          4,
          5,
          1,
          2,
          3,
          4,
          5,
          1,
          2,
          3,
          4,
          5,
          1,
          2,
          3,
          4,
          5,
          2,
          3,
          4,
          5,
          1,
          2,
          3,
          4,
          5,
          1,
          2,
          3,
          4,
          5,
          1,
          2,
          3,
          4,
          5,
          1,
          2,
          3,
          4,
          5,
          2,
          3,
          4,
          5,
          1,
          2,
          3,
          4,
          5,
          1,
          2,
          3,
          4,
          5,
          1,
          2,
          3,
          4,
          5,
          1,
          2,
          3,
          4,
          1,
          2,
          3,
          4,
          5,
          1,
          2,
          3,
          5,
          1,
          2,
          3,
          4,
          5,
          1,
          2,
          3,
          4,
          5,
          1,
          2,
          3,
          4,
          5,
          1,
          2,
          3,
          4,
          5,
          2,
          3,
          4,
          5,
          2,
          3,
          4,
          5,
          1,
          2,
          3,
          4,
          5,
          2,
          3,
          4,
          5,
          1,
          2,
          3,
          4,
          5,
          1,
          2,
          3,
          4,
          5,
          1,
          2,
          3,
          4,
          5,
          1,
          2,
          3,
          4,
          5,
          2,
          3,
          4,
          5,
          1,
          2,
          3,
          4,
          5,
          1,
          2,
          3,
          4,
          5,
          1,
          2,
          3,
          4,
          5,
          1,
          2,
          3,
          4,
          5,
          1,
          2,
          3,
          4,
          5,
          1,
          2,
          3,
          4,
          5,
          1,
          2,
          3,
          4,
          5,
          2,
          3,
          4,
          5,
          1,
          2,
          3,
          4,
          5,
          1,
          2,
          3,
          4,
          5,
          1,
          2,
          3,
          4,
          5,
          1,
          2,
          3,
          4,
          5,
          1,
          2,
          3,
          4,
          5,
          2,
          3,
          4,
          5,
          1,
          2,
          3,
          4,
          5,
          1,
          2,
          3,
          4,
          5,
          1,
          2,
          3,
          4,
          5,
          1,
          2,
          3,
          4,
          5,
          1,
          2,
          4,
          5,
          1,
          2,
          3,
          4,
          5,
          1,
          2,
          3,
          4,
          5,
          1,
          2,
          3,
          4,
          5,
          1,
          2,
          3,
          4,
          5,
          1,
          2,
          3,
          4,
          5,
          1,
          2,
          3,
          4,
          5,
          1,
          2,
          3,
          4,
          5,
          1,
          2,
          3,
          4,
          5,
          2,
          3,
          4,
          5,
          1,
          2,
          3,
          4,
          5,
          1,
          2,
          3,
          4,
          5,
          1,
          2,
          3,
          4,
          5,
          1,
          2,
          3,
          4,
          5,
          2,
          3,
          4,
          5,
          1,
          2,
          3,
          4,
          5,
          1,
          2,
          3,
          4,
          5,
          1,
          2,
          3,
          4,
          5,
          1,
          2,
          3,
          4,
          5,
          2,
          3,
          4,
          5,
          1,
          2,
          3,
          5,
          1,
          2,
          3,
          4,
          5,
          1,
          2,
          3,
          4,
          5,
          1,
          2,
          3,
          4,
          5,
          1,
          2,
          3,
          4,
          5,
          1,
          3,
          4,
          5,
          1
         ],
         "xaxis": "x",
         "y": [
          120,
          108,
          82,
          88,
          148,
          41,
          43,
          25,
          38,
          54,
          9,
          78,
          83,
          75,
          86,
          186,
          34,
          15,
          38,
          42,
          47,
          72,
          61,
          88,
          120,
          64,
          53,
          47,
          149,
          208,
          140,
          218,
          259,
          579,
          74,
          139,
          100,
          120,
          81,
          137,
          231,
          123,
          214,
          244,
          316,
          191,
          46,
          247,
          359,
          289,
          321,
          424,
          884,
          401,
          460,
          203,
          166,
          300,
          222,
          317,
          168,
          179,
          307,
          734,
          167,
          413,
          571,
          172,
          855,
          257,
          209,
          529,
          669,
          409,
          613,
          745,
          177,
          773,
          678,
          547,
          569,
          878,
          847,
          603,
          255,
          614,
          894,
          664,
          694,
          550,
          695,
          692,
          773,
          678,
          536,
          735,
          909,
          836,
          659,
          740,
          758,
          871,
          673,
          513,
          736,
          898,
          673,
          763,
          676,
          563,
          815,
          863,
          727,
          769,
          545,
          863,
          699,
          774,
          661,
          746,
          969,
          854,
          732,
          848,
          1027,
          1246,
          1031,
          784,
          754,
          692,
          723,
          662,
          748,
          888,
          1318,
          841,
          752,
          644,
          632,
          562,
          568,
          750,
          755,
          606,
          670,
          729,
          801,
          467,
          799,
          1023,
          846,
          907,
          884,
          812,
          1051,
          775,
          721,
          668,
          639,
          797,
          833,
          1281,
          949,
          435,
          768,
          729,
          775,
          688,
          783,
          875,
          204,
          118,
          153,
          417,
          690,
          701,
          647,
          428,
          742,
          691,
          438,
          539,
          555,
          258,
          684,
          477,
          480,
          653,
          830,
          330,
          486,
          559,
          639,
          949,
          667,
          217,
          290,
          529,
          713,
          637,
          254,
          471,
          676,
          699,
          695,
          404,
          240,
          456,
          362,
          410,
          370,
          318,
          470,
          373,
          376,
          305,
          190,
          595,
          449,
          145,
          139,
          245,
          220,
          69,
          112,
          1095,
          253,
          96,
          188,
          182,
          268,
          233,
          126,
          50,
          150,
          261,
          143,
          155,
          178,
          181,
          178,
          260,
          216,
          107,
          227,
          163,
          103,
          255,
          254,
          491,
          89,
          95,
          140,
          307,
          106,
          173,
          92,
          269,
          174,
          127,
          109,
          130,
          115,
          145,
          439,
          467,
          244,
          269,
          126,
          324,
          304,
          190,
          310,
          206,
          199,
          109,
          163,
          227,
          94,
          135,
          141,
          74,
          349,
          163,
          394,
          516,
          246,
          253,
          229,
          65,
          325,
          246,
          203,
          221,
          432,
          486,
          447,
          838,
          762,
          997,
          1005,
          548,
          982,
          1051,
          1122,
          1334,
          2469,
          795,
          531,
          674,
          834,
          796,
          1208,
          1348,
          1058,
          1192,
          1807,
          905,
          819,
          482,
          663,
          1252,
          989,
          347,
          846,
          1340,
          195,
          518,
          655,
          475,
          1014,
          665,
          653,
          667,
          764,
          1069,
          1008,
          738,
          620,
          1026,
          1319,
          342,
          625,
          991,
          1242,
          1521,
          630,
          819,
          766,
          1059,
          1417,
          880,
          745,
          1100,
          533,
          1071,
          968,
          1027,
          1038,
          1488,
          1017,
          477,
          1173,
          1180,
          1563,
          653,
          968,
          872,
          778,
          964,
          1139,
          1077,
          1077,
          921,
          829,
          904,
          1052,
          1405,
          1366,
          998,
          954,
          975,
          1032,
          1511,
          1088,
          921,
          799,
          888,
          747,
          1135,
          1140,
          1383,
          1036,
          1259,
          1040,
          968,
          1074,
          983,
          1328,
          1233,
          1278,
          1263,
          1196,
          1065,
          1207,
          1128,
          1198,
          1338,
          1483,
          1026,
          1081,
          1094,
          1363,
          1325,
          989,
          935,
          1177,
          1172,
          1433,
          867,
          832,
          611,
          1045,
          1118,
          1070,
          1050,
          1054,
          1379,
          1022,
          371,
          788,
          939,
          1250,
          1001,
          845,
          787,
          751,
          1045,
          763,
          315,
          728,
          891,
          1516,
          601,
          780,
          834,
          1060,
          760,
          922,
          979,
          1008,
          753,
          830,
          841,
          795,
          875,
          1182,
          2,
          87,
          419,
          466,
          618,
          378,
          466,
          326,
          340,
          709,
          327,
          373,
          320,
          484,
          449,
          534,
          615,
          1603,
          337,
          123,
          198,
          243,
          362,
          555,
          551,
          331,
          340,
          349,
          329,
          282,
          310,
          425,
          429,
          212,
          433,
          333,
          314,
          221,
          174,
          9,
          247,
          644,
          439
         ],
         "yaxis": "y"
        }
       ],
       "layout": {
        "barmode": "relative",
        "coloraxis": {
         "colorbar": {
          "title": {
           "text": "Hari Kerja"
          }
         },
         "colorscale": [
          [
           0,
           "#0d0887"
          ],
          [
           0.1111111111111111,
           "#46039f"
          ],
          [
           0.2222222222222222,
           "#7201a8"
          ],
          [
           0.3333333333333333,
           "#9c179e"
          ],
          [
           0.4444444444444444,
           "#bd3786"
          ],
          [
           0.5555555555555556,
           "#d8576b"
          ],
          [
           0.6666666666666666,
           "#ed7953"
          ],
          [
           0.7777777777777778,
           "#fb9f3a"
          ],
          [
           0.8888888888888888,
           "#fdca26"
          ],
          [
           1,
           "#f0f921"
          ]
         ]
        },
        "legend": {
         "tracegroupgap": 0
        },
        "template": {
         "data": {
          "bar": [
           {
            "error_x": {
             "color": "#2a3f5f"
            },
            "error_y": {
             "color": "#2a3f5f"
            },
            "marker": {
             "line": {
              "color": "#E5ECF6",
              "width": 0.5
             },
             "pattern": {
              "fillmode": "overlay",
              "size": 10,
              "solidity": 0.2
             }
            },
            "type": "bar"
           }
          ],
          "barpolar": [
           {
            "marker": {
             "line": {
              "color": "#E5ECF6",
              "width": 0.5
             },
             "pattern": {
              "fillmode": "overlay",
              "size": 10,
              "solidity": 0.2
             }
            },
            "type": "barpolar"
           }
          ],
          "carpet": [
           {
            "aaxis": {
             "endlinecolor": "#2a3f5f",
             "gridcolor": "white",
             "linecolor": "white",
             "minorgridcolor": "white",
             "startlinecolor": "#2a3f5f"
            },
            "baxis": {
             "endlinecolor": "#2a3f5f",
             "gridcolor": "white",
             "linecolor": "white",
             "minorgridcolor": "white",
             "startlinecolor": "#2a3f5f"
            },
            "type": "carpet"
           }
          ],
          "choropleth": [
           {
            "colorbar": {
             "outlinewidth": 0,
             "ticks": ""
            },
            "type": "choropleth"
           }
          ],
          "contour": [
           {
            "colorbar": {
             "outlinewidth": 0,
             "ticks": ""
            },
            "colorscale": [
             [
              0,
              "#0d0887"
             ],
             [
              0.1111111111111111,
              "#46039f"
             ],
             [
              0.2222222222222222,
              "#7201a8"
             ],
             [
              0.3333333333333333,
              "#9c179e"
             ],
             [
              0.4444444444444444,
              "#bd3786"
             ],
             [
              0.5555555555555556,
              "#d8576b"
             ],
             [
              0.6666666666666666,
              "#ed7953"
             ],
             [
              0.7777777777777778,
              "#fb9f3a"
             ],
             [
              0.8888888888888888,
              "#fdca26"
             ],
             [
              1,
              "#f0f921"
             ]
            ],
            "type": "contour"
           }
          ],
          "contourcarpet": [
           {
            "colorbar": {
             "outlinewidth": 0,
             "ticks": ""
            },
            "type": "contourcarpet"
           }
          ],
          "heatmap": [
           {
            "colorbar": {
             "outlinewidth": 0,
             "ticks": ""
            },
            "colorscale": [
             [
              0,
              "#0d0887"
             ],
             [
              0.1111111111111111,
              "#46039f"
             ],
             [
              0.2222222222222222,
              "#7201a8"
             ],
             [
              0.3333333333333333,
              "#9c179e"
             ],
             [
              0.4444444444444444,
              "#bd3786"
             ],
             [
              0.5555555555555556,
              "#d8576b"
             ],
             [
              0.6666666666666666,
              "#ed7953"
             ],
             [
              0.7777777777777778,
              "#fb9f3a"
             ],
             [
              0.8888888888888888,
              "#fdca26"
             ],
             [
              1,
              "#f0f921"
             ]
            ],
            "type": "heatmap"
           }
          ],
          "heatmapgl": [
           {
            "colorbar": {
             "outlinewidth": 0,
             "ticks": ""
            },
            "colorscale": [
             [
              0,
              "#0d0887"
             ],
             [
              0.1111111111111111,
              "#46039f"
             ],
             [
              0.2222222222222222,
              "#7201a8"
             ],
             [
              0.3333333333333333,
              "#9c179e"
             ],
             [
              0.4444444444444444,
              "#bd3786"
             ],
             [
              0.5555555555555556,
              "#d8576b"
             ],
             [
              0.6666666666666666,
              "#ed7953"
             ],
             [
              0.7777777777777778,
              "#fb9f3a"
             ],
             [
              0.8888888888888888,
              "#fdca26"
             ],
             [
              1,
              "#f0f921"
             ]
            ],
            "type": "heatmapgl"
           }
          ],
          "histogram": [
           {
            "marker": {
             "pattern": {
              "fillmode": "overlay",
              "size": 10,
              "solidity": 0.2
             }
            },
            "type": "histogram"
           }
          ],
          "histogram2d": [
           {
            "colorbar": {
             "outlinewidth": 0,
             "ticks": ""
            },
            "colorscale": [
             [
              0,
              "#0d0887"
             ],
             [
              0.1111111111111111,
              "#46039f"
             ],
             [
              0.2222222222222222,
              "#7201a8"
             ],
             [
              0.3333333333333333,
              "#9c179e"
             ],
             [
              0.4444444444444444,
              "#bd3786"
             ],
             [
              0.5555555555555556,
              "#d8576b"
             ],
             [
              0.6666666666666666,
              "#ed7953"
             ],
             [
              0.7777777777777778,
              "#fb9f3a"
             ],
             [
              0.8888888888888888,
              "#fdca26"
             ],
             [
              1,
              "#f0f921"
             ]
            ],
            "type": "histogram2d"
           }
          ],
          "histogram2dcontour": [
           {
            "colorbar": {
             "outlinewidth": 0,
             "ticks": ""
            },
            "colorscale": [
             [
              0,
              "#0d0887"
             ],
             [
              0.1111111111111111,
              "#46039f"
             ],
             [
              0.2222222222222222,
              "#7201a8"
             ],
             [
              0.3333333333333333,
              "#9c179e"
             ],
             [
              0.4444444444444444,
              "#bd3786"
             ],
             [
              0.5555555555555556,
              "#d8576b"
             ],
             [
              0.6666666666666666,
              "#ed7953"
             ],
             [
              0.7777777777777778,
              "#fb9f3a"
             ],
             [
              0.8888888888888888,
              "#fdca26"
             ],
             [
              1,
              "#f0f921"
             ]
            ],
            "type": "histogram2dcontour"
           }
          ],
          "mesh3d": [
           {
            "colorbar": {
             "outlinewidth": 0,
             "ticks": ""
            },
            "type": "mesh3d"
           }
          ],
          "parcoords": [
           {
            "line": {
             "colorbar": {
              "outlinewidth": 0,
              "ticks": ""
             }
            },
            "type": "parcoords"
           }
          ],
          "pie": [
           {
            "automargin": true,
            "type": "pie"
           }
          ],
          "scatter": [
           {
            "fillpattern": {
             "fillmode": "overlay",
             "size": 10,
             "solidity": 0.2
            },
            "type": "scatter"
           }
          ],
          "scatter3d": [
           {
            "line": {
             "colorbar": {
              "outlinewidth": 0,
              "ticks": ""
             }
            },
            "marker": {
             "colorbar": {
              "outlinewidth": 0,
              "ticks": ""
             }
            },
            "type": "scatter3d"
           }
          ],
          "scattercarpet": [
           {
            "marker": {
             "colorbar": {
              "outlinewidth": 0,
              "ticks": ""
             }
            },
            "type": "scattercarpet"
           }
          ],
          "scattergeo": [
           {
            "marker": {
             "colorbar": {
              "outlinewidth": 0,
              "ticks": ""
             }
            },
            "type": "scattergeo"
           }
          ],
          "scattergl": [
           {
            "marker": {
             "colorbar": {
              "outlinewidth": 0,
              "ticks": ""
             }
            },
            "type": "scattergl"
           }
          ],
          "scattermapbox": [
           {
            "marker": {
             "colorbar": {
              "outlinewidth": 0,
              "ticks": ""
             }
            },
            "type": "scattermapbox"
           }
          ],
          "scatterpolar": [
           {
            "marker": {
             "colorbar": {
              "outlinewidth": 0,
              "ticks": ""
             }
            },
            "type": "scatterpolar"
           }
          ],
          "scatterpolargl": [
           {
            "marker": {
             "colorbar": {
              "outlinewidth": 0,
              "ticks": ""
             }
            },
            "type": "scatterpolargl"
           }
          ],
          "scatterternary": [
           {
            "marker": {
             "colorbar": {
              "outlinewidth": 0,
              "ticks": ""
             }
            },
            "type": "scatterternary"
           }
          ],
          "surface": [
           {
            "colorbar": {
             "outlinewidth": 0,
             "ticks": ""
            },
            "colorscale": [
             [
              0,
              "#0d0887"
             ],
             [
              0.1111111111111111,
              "#46039f"
             ],
             [
              0.2222222222222222,
              "#7201a8"
             ],
             [
              0.3333333333333333,
              "#9c179e"
             ],
             [
              0.4444444444444444,
              "#bd3786"
             ],
             [
              0.5555555555555556,
              "#d8576b"
             ],
             [
              0.6666666666666666,
              "#ed7953"
             ],
             [
              0.7777777777777778,
              "#fb9f3a"
             ],
             [
              0.8888888888888888,
              "#fdca26"
             ],
             [
              1,
              "#f0f921"
             ]
            ],
            "type": "surface"
           }
          ],
          "table": [
           {
            "cells": {
             "fill": {
              "color": "#EBF0F8"
             },
             "line": {
              "color": "white"
             }
            },
            "header": {
             "fill": {
              "color": "#C8D4E3"
             },
             "line": {
              "color": "white"
             }
            },
            "type": "table"
           }
          ]
         },
         "layout": {
          "annotationdefaults": {
           "arrowcolor": "#2a3f5f",
           "arrowhead": 0,
           "arrowwidth": 1
          },
          "autotypenumbers": "strict",
          "coloraxis": {
           "colorbar": {
            "outlinewidth": 0,
            "ticks": ""
           }
          },
          "colorscale": {
           "diverging": [
            [
             0,
             "#8e0152"
            ],
            [
             0.1,
             "#c51b7d"
            ],
            [
             0.2,
             "#de77ae"
            ],
            [
             0.3,
             "#f1b6da"
            ],
            [
             0.4,
             "#fde0ef"
            ],
            [
             0.5,
             "#f7f7f7"
            ],
            [
             0.6,
             "#e6f5d0"
            ],
            [
             0.7,
             "#b8e186"
            ],
            [
             0.8,
             "#7fbc41"
            ],
            [
             0.9,
             "#4d9221"
            ],
            [
             1,
             "#276419"
            ]
           ],
           "sequential": [
            [
             0,
             "#0d0887"
            ],
            [
             0.1111111111111111,
             "#46039f"
            ],
            [
             0.2222222222222222,
             "#7201a8"
            ],
            [
             0.3333333333333333,
             "#9c179e"
            ],
            [
             0.4444444444444444,
             "#bd3786"
            ],
            [
             0.5555555555555556,
             "#d8576b"
            ],
            [
             0.6666666666666666,
             "#ed7953"
            ],
            [
             0.7777777777777778,
             "#fb9f3a"
            ],
            [
             0.8888888888888888,
             "#fdca26"
            ],
            [
             1,
             "#f0f921"
            ]
           ],
           "sequentialminus": [
            [
             0,
             "#0d0887"
            ],
            [
             0.1111111111111111,
             "#46039f"
            ],
            [
             0.2222222222222222,
             "#7201a8"
            ],
            [
             0.3333333333333333,
             "#9c179e"
            ],
            [
             0.4444444444444444,
             "#bd3786"
            ],
            [
             0.5555555555555556,
             "#d8576b"
            ],
            [
             0.6666666666666666,
             "#ed7953"
            ],
            [
             0.7777777777777778,
             "#fb9f3a"
            ],
            [
             0.8888888888888888,
             "#fdca26"
            ],
            [
             1,
             "#f0f921"
            ]
           ]
          },
          "colorway": [
           "#636efa",
           "#EF553B",
           "#00cc96",
           "#ab63fa",
           "#FFA15A",
           "#19d3f3",
           "#FF6692",
           "#B6E880",
           "#FF97FF",
           "#FECB52"
          ],
          "font": {
           "color": "#2a3f5f"
          },
          "geo": {
           "bgcolor": "white",
           "lakecolor": "white",
           "landcolor": "#E5ECF6",
           "showlakes": true,
           "showland": true,
           "subunitcolor": "white"
          },
          "hoverlabel": {
           "align": "left"
          },
          "hovermode": "closest",
          "mapbox": {
           "style": "light"
          },
          "paper_bgcolor": "white",
          "plot_bgcolor": "#E5ECF6",
          "polar": {
           "angularaxis": {
            "gridcolor": "white",
            "linecolor": "white",
            "ticks": ""
           },
           "bgcolor": "#E5ECF6",
           "radialaxis": {
            "gridcolor": "white",
            "linecolor": "white",
            "ticks": ""
           }
          },
          "scene": {
           "xaxis": {
            "backgroundcolor": "#E5ECF6",
            "gridcolor": "white",
            "gridwidth": 2,
            "linecolor": "white",
            "showbackground": true,
            "ticks": "",
            "zerolinecolor": "white"
           },
           "yaxis": {
            "backgroundcolor": "#E5ECF6",
            "gridcolor": "white",
            "gridwidth": 2,
            "linecolor": "white",
            "showbackground": true,
            "ticks": "",
            "zerolinecolor": "white"
           },
           "zaxis": {
            "backgroundcolor": "#E5ECF6",
            "gridcolor": "white",
            "gridwidth": 2,
            "linecolor": "white",
            "showbackground": true,
            "ticks": "",
            "zerolinecolor": "white"
           }
          },
          "shapedefaults": {
           "line": {
            "color": "#2a3f5f"
           }
          },
          "ternary": {
           "aaxis": {
            "gridcolor": "white",
            "linecolor": "white",
            "ticks": ""
           },
           "baxis": {
            "gridcolor": "white",
            "linecolor": "white",
            "ticks": ""
           },
           "bgcolor": "#E5ECF6",
           "caxis": {
            "gridcolor": "white",
            "linecolor": "white",
            "ticks": ""
           }
          },
          "title": {
           "x": 0.05
          },
          "xaxis": {
           "automargin": true,
           "gridcolor": "white",
           "linecolor": "white",
           "ticks": "",
           "title": {
            "standoff": 15
           },
           "zerolinecolor": "white",
           "zerolinewidth": 2
          },
          "yaxis": {
           "automargin": true,
           "gridcolor": "white",
           "linecolor": "white",
           "ticks": "",
           "title": {
            "standoff": 15
           },
           "zerolinecolor": "white",
           "zerolinewidth": 2
          }
         }
        },
        "title": {
         "text": "Jumlah Sewa Sepeda Casual pada Hari Kerja"
        },
        "xaxis": {
         "anchor": "y",
         "domain": [
          0,
          1
         ],
         "title": {
          "text": "Hari Kerja"
         }
        },
        "yaxis": {
         "anchor": "x",
         "domain": [
          0,
          1
         ],
         "title": {
          "text": "Jumlah Sewa Sepeda Casual"
         }
        }
       }
      }
     },
     "metadata": {},
     "output_type": "display_data"
    }
   ],
   "source": [
    "import plotly.express as px\n",
    "\n",
    "# Filter pengguna casual (casual) pada hari kerja (workingday = 1)\n",
    "filtered_data_casual_workingday = df_day[(df_day[\"workingday\"] == 1) & (df_day[\"casual\"] > 0)]\n",
    "\n",
    "# Visualisasikan jumlah sewa sepeda casual pada hari kerja\n",
    "fig = px.bar(filtered_data_casual_workingday, x=\"weekday\", y=\"casual\", \n",
    "            title=\"Jumlah Sewa Sepeda Casual pada Hari Kerja\",\n",
    "            labels={\"weekday\": \"Hari Kerja\", \"casual\": \"Jumlah Sewa Sepeda Casual\"},\n",
    "            color=\"weekday\", \n",
    "            color_discrete_sequence=px.colors.qualitative.Set3)  # Menambahkan warna berbeda untuk setiap hari\n",
    "fig.show()"
   ]
  },
  {
   "cell_type": "markdown",
   "metadata": {},
   "source": [
    "1. Penawaran Spesial pada Hari Kerja:\n",
    "    Tawarkan penawaran khusus atau diskon untuk pengguna casual pada hari kerja. Hal ini dapat meningkatkan minat mereka untuk menyewa sepeda pada hari kerja.\n",
    "\n",
    "2. Program Keanggotaan:\n",
    "    Kenalkan program keanggotaan khusus untuk pengguna casual yang aktif pada hari kerja. Program ini dapat mencakup keuntungan tambahan atau diskon khusus.\n",
    "\n",
    "3. Promosi Acara Khusus:\n",
    "    Selenggarakan acara-acara khusus atau promosi pada hari kerja yang dapat menarik pengguna casual. Ini bisa berupa event perjalanan bersama, kelas bersepeda, atau promosi khusus lainnya.\n",
    "\n",
    "4. Perluas Jaringan Sepeda:\n",
    "    Pastikan ketersediaan sepeda yang cukup pada stasiun-stasiun sepeda di area yang sering digunakan oleh pengguna casual pada hari kerja.\n",
    "\n",
    "5. Analisis Pemahaman Pelanggan:\n",
    "    Analisis data pengguna casual pada hari kerja untuk memahami pola dan preferensi mereka. Informasi ini dapat membantu menyesuaikan strategi pemasaran dan promosi."
   ]
  },
  {
   "cell_type": "markdown",
   "metadata": {},
   "source": [
    "- Relevant \n",
    "4. Apa hubungan suhu (temp) dengan jumlah pengguna yang terdaftar (registered)?"
   ]
  },
  {
   "cell_type": "code",
   "execution_count": 35,
   "metadata": {},
   "outputs": [
    {
     "data": {
      "application/vnd.plotly.v1+json": {
       "config": {
        "plotlyServerURL": "https://plot.ly"
       },
       "data": [
        {
         "hovertemplate": "<b>%{hovertext}</b><br><br>Suhu=%{x}<br>Jumlah Pengguna Terdaftar=%{y}<br>cnt=%{marker.size}<br>season=%{marker.color}<extra></extra>",
         "hovertext": [
          "2011-01-01T00:00:00",
          "2011-01-02T00:00:00",
          "2011-01-03T00:00:00",
          "2011-01-04T00:00:00",
          "2011-01-05T00:00:00",
          "2011-01-06T00:00:00",
          "2011-01-07T00:00:00",
          "2011-01-08T00:00:00",
          "2011-01-09T00:00:00",
          "2011-01-10T00:00:00",
          "2011-01-11T00:00:00",
          "2011-01-12T00:00:00",
          "2011-01-13T00:00:00",
          "2011-01-14T00:00:00",
          "2011-01-15T00:00:00",
          "2011-01-16T00:00:00",
          "2011-01-17T00:00:00",
          "2011-01-18T00:00:00",
          "2011-01-19T00:00:00",
          "2011-01-20T00:00:00",
          "2011-01-21T00:00:00",
          "2011-01-22T00:00:00",
          "2011-01-23T00:00:00",
          "2011-01-24T00:00:00",
          "2011-01-25T00:00:00",
          "2011-01-26T00:00:00",
          "2011-01-27T00:00:00",
          "2011-01-28T00:00:00",
          "2011-01-29T00:00:00",
          "2011-01-30T00:00:00",
          "2011-01-31T00:00:00",
          "2011-02-01T00:00:00",
          "2011-02-02T00:00:00",
          "2011-02-03T00:00:00",
          "2011-02-04T00:00:00",
          "2011-02-05T00:00:00",
          "2011-02-06T00:00:00",
          "2011-02-07T00:00:00",
          "2011-02-08T00:00:00",
          "2011-02-09T00:00:00",
          "2011-02-10T00:00:00",
          "2011-02-11T00:00:00",
          "2011-02-12T00:00:00",
          "2011-02-13T00:00:00",
          "2011-02-14T00:00:00",
          "2011-02-15T00:00:00",
          "2011-02-16T00:00:00",
          "2011-02-17T00:00:00",
          "2011-02-18T00:00:00",
          "2011-02-19T00:00:00",
          "2011-02-20T00:00:00",
          "2011-02-21T00:00:00",
          "2011-02-22T00:00:00",
          "2011-02-23T00:00:00",
          "2011-02-24T00:00:00",
          "2011-02-25T00:00:00",
          "2011-02-26T00:00:00",
          "2011-02-27T00:00:00",
          "2011-02-28T00:00:00",
          "2011-03-01T00:00:00",
          "2011-03-02T00:00:00",
          "2011-03-03T00:00:00",
          "2011-03-04T00:00:00",
          "2011-03-05T00:00:00",
          "2011-03-06T00:00:00",
          "2011-03-07T00:00:00",
          "2011-03-08T00:00:00",
          "2011-03-09T00:00:00",
          "2011-03-10T00:00:00",
          "2011-03-11T00:00:00",
          "2011-03-12T00:00:00",
          "2011-03-13T00:00:00",
          "2011-03-14T00:00:00",
          "2011-03-15T00:00:00",
          "2011-03-16T00:00:00",
          "2011-03-17T00:00:00",
          "2011-03-18T00:00:00",
          "2011-03-19T00:00:00",
          "2011-03-20T00:00:00",
          "2011-03-21T00:00:00",
          "2011-03-22T00:00:00",
          "2011-03-23T00:00:00",
          "2011-03-24T00:00:00",
          "2011-03-25T00:00:00",
          "2011-03-26T00:00:00",
          "2011-03-27T00:00:00",
          "2011-03-28T00:00:00",
          "2011-03-29T00:00:00",
          "2011-03-30T00:00:00",
          "2011-03-31T00:00:00",
          "2011-04-01T00:00:00",
          "2011-04-02T00:00:00",
          "2011-04-03T00:00:00",
          "2011-04-04T00:00:00",
          "2011-04-05T00:00:00",
          "2011-04-06T00:00:00",
          "2011-04-07T00:00:00",
          "2011-04-08T00:00:00",
          "2011-04-09T00:00:00",
          "2011-04-10T00:00:00",
          "2011-04-11T00:00:00",
          "2011-04-12T00:00:00",
          "2011-04-13T00:00:00",
          "2011-04-14T00:00:00",
          "2011-04-15T00:00:00",
          "2011-04-16T00:00:00",
          "2011-04-17T00:00:00",
          "2011-04-18T00:00:00",
          "2011-04-19T00:00:00",
          "2011-04-20T00:00:00",
          "2011-04-21T00:00:00",
          "2011-04-22T00:00:00",
          "2011-04-23T00:00:00",
          "2011-04-24T00:00:00",
          "2011-04-25T00:00:00",
          "2011-04-26T00:00:00",
          "2011-04-27T00:00:00",
          "2011-04-28T00:00:00",
          "2011-04-29T00:00:00",
          "2011-04-30T00:00:00",
          "2011-05-01T00:00:00",
          "2011-05-02T00:00:00",
          "2011-05-03T00:00:00",
          "2011-05-04T00:00:00",
          "2011-05-05T00:00:00",
          "2011-05-06T00:00:00",
          "2011-05-07T00:00:00",
          "2011-05-08T00:00:00",
          "2011-05-09T00:00:00",
          "2011-05-10T00:00:00",
          "2011-05-11T00:00:00",
          "2011-05-12T00:00:00",
          "2011-05-13T00:00:00",
          "2011-05-14T00:00:00",
          "2011-05-15T00:00:00",
          "2011-05-16T00:00:00",
          "2011-05-17T00:00:00",
          "2011-05-18T00:00:00",
          "2011-05-19T00:00:00",
          "2011-05-20T00:00:00",
          "2011-05-21T00:00:00",
          "2011-05-22T00:00:00",
          "2011-05-23T00:00:00",
          "2011-05-24T00:00:00",
          "2011-05-25T00:00:00",
          "2011-05-26T00:00:00",
          "2011-05-27T00:00:00",
          "2011-05-28T00:00:00",
          "2011-05-29T00:00:00",
          "2011-05-30T00:00:00",
          "2011-05-31T00:00:00",
          "2011-06-01T00:00:00",
          "2011-06-02T00:00:00",
          "2011-06-03T00:00:00",
          "2011-06-04T00:00:00",
          "2011-06-05T00:00:00",
          "2011-06-06T00:00:00",
          "2011-06-07T00:00:00",
          "2011-06-08T00:00:00",
          "2011-06-09T00:00:00",
          "2011-06-10T00:00:00",
          "2011-06-11T00:00:00",
          "2011-06-12T00:00:00",
          "2011-06-13T00:00:00",
          "2011-06-14T00:00:00",
          "2011-06-15T00:00:00",
          "2011-06-16T00:00:00",
          "2011-06-17T00:00:00",
          "2011-06-18T00:00:00",
          "2011-06-19T00:00:00",
          "2011-06-20T00:00:00",
          "2011-06-21T00:00:00",
          "2011-06-22T00:00:00",
          "2011-06-23T00:00:00",
          "2011-06-24T00:00:00",
          "2011-06-25T00:00:00",
          "2011-06-26T00:00:00",
          "2011-06-27T00:00:00",
          "2011-06-28T00:00:00",
          "2011-06-29T00:00:00",
          "2011-06-30T00:00:00",
          "2011-07-01T00:00:00",
          "2011-07-02T00:00:00",
          "2011-07-03T00:00:00",
          "2011-07-04T00:00:00",
          "2011-07-05T00:00:00",
          "2011-07-06T00:00:00",
          "2011-07-07T00:00:00",
          "2011-07-08T00:00:00",
          "2011-07-09T00:00:00",
          "2011-07-10T00:00:00",
          "2011-07-11T00:00:00",
          "2011-07-12T00:00:00",
          "2011-07-13T00:00:00",
          "2011-07-14T00:00:00",
          "2011-07-15T00:00:00",
          "2011-07-16T00:00:00",
          "2011-07-17T00:00:00",
          "2011-07-18T00:00:00",
          "2011-07-19T00:00:00",
          "2011-07-20T00:00:00",
          "2011-07-21T00:00:00",
          "2011-07-22T00:00:00",
          "2011-07-23T00:00:00",
          "2011-07-24T00:00:00",
          "2011-07-25T00:00:00",
          "2011-07-26T00:00:00",
          "2011-07-27T00:00:00",
          "2011-07-28T00:00:00",
          "2011-07-29T00:00:00",
          "2011-07-30T00:00:00",
          "2011-07-31T00:00:00",
          "2011-08-01T00:00:00",
          "2011-08-02T00:00:00",
          "2011-08-03T00:00:00",
          "2011-08-04T00:00:00",
          "2011-08-05T00:00:00",
          "2011-08-06T00:00:00",
          "2011-08-07T00:00:00",
          "2011-08-08T00:00:00",
          "2011-08-09T00:00:00",
          "2011-08-10T00:00:00",
          "2011-08-11T00:00:00",
          "2011-08-12T00:00:00",
          "2011-08-13T00:00:00",
          "2011-08-14T00:00:00",
          "2011-08-15T00:00:00",
          "2011-08-16T00:00:00",
          "2011-08-17T00:00:00",
          "2011-08-18T00:00:00",
          "2011-08-19T00:00:00",
          "2011-08-20T00:00:00",
          "2011-08-21T00:00:00",
          "2011-08-22T00:00:00",
          "2011-08-23T00:00:00",
          "2011-08-24T00:00:00",
          "2011-08-25T00:00:00",
          "2011-08-26T00:00:00",
          "2011-08-27T00:00:00",
          "2011-08-28T00:00:00",
          "2011-08-29T00:00:00",
          "2011-08-30T00:00:00",
          "2011-08-31T00:00:00",
          "2011-09-01T00:00:00",
          "2011-09-02T00:00:00",
          "2011-09-03T00:00:00",
          "2011-09-04T00:00:00",
          "2011-09-05T00:00:00",
          "2011-09-06T00:00:00",
          "2011-09-07T00:00:00",
          "2011-09-08T00:00:00",
          "2011-09-09T00:00:00",
          "2011-09-10T00:00:00",
          "2011-09-11T00:00:00",
          "2011-09-12T00:00:00",
          "2011-09-13T00:00:00",
          "2011-09-14T00:00:00",
          "2011-09-15T00:00:00",
          "2011-09-16T00:00:00",
          "2011-09-17T00:00:00",
          "2011-09-18T00:00:00",
          "2011-09-19T00:00:00",
          "2011-09-20T00:00:00",
          "2011-09-21T00:00:00",
          "2011-09-22T00:00:00",
          "2011-09-23T00:00:00",
          "2011-09-24T00:00:00",
          "2011-09-25T00:00:00",
          "2011-09-26T00:00:00",
          "2011-09-27T00:00:00",
          "2011-09-28T00:00:00",
          "2011-09-29T00:00:00",
          "2011-09-30T00:00:00",
          "2011-10-01T00:00:00",
          "2011-10-02T00:00:00",
          "2011-10-03T00:00:00",
          "2011-10-04T00:00:00",
          "2011-10-05T00:00:00",
          "2011-10-06T00:00:00",
          "2011-10-07T00:00:00",
          "2011-10-08T00:00:00",
          "2011-10-09T00:00:00",
          "2011-10-10T00:00:00",
          "2011-10-11T00:00:00",
          "2011-10-12T00:00:00",
          "2011-10-13T00:00:00",
          "2011-10-14T00:00:00",
          "2011-10-15T00:00:00",
          "2011-10-16T00:00:00",
          "2011-10-17T00:00:00",
          "2011-10-18T00:00:00",
          "2011-10-19T00:00:00",
          "2011-10-20T00:00:00",
          "2011-10-21T00:00:00",
          "2011-10-22T00:00:00",
          "2011-10-23T00:00:00",
          "2011-10-24T00:00:00",
          "2011-10-25T00:00:00",
          "2011-10-26T00:00:00",
          "2011-10-27T00:00:00",
          "2011-10-28T00:00:00",
          "2011-10-29T00:00:00",
          "2011-10-30T00:00:00",
          "2011-10-31T00:00:00",
          "2011-11-01T00:00:00",
          "2011-11-02T00:00:00",
          "2011-11-03T00:00:00",
          "2011-11-04T00:00:00",
          "2011-11-05T00:00:00",
          "2011-11-06T00:00:00",
          "2011-11-07T00:00:00",
          "2011-11-08T00:00:00",
          "2011-11-09T00:00:00",
          "2011-11-10T00:00:00",
          "2011-11-11T00:00:00",
          "2011-11-12T00:00:00",
          "2011-11-13T00:00:00",
          "2011-11-14T00:00:00",
          "2011-11-15T00:00:00",
          "2011-11-16T00:00:00",
          "2011-11-17T00:00:00",
          "2011-11-18T00:00:00",
          "2011-11-19T00:00:00",
          "2011-11-20T00:00:00",
          "2011-11-21T00:00:00",
          "2011-11-22T00:00:00",
          "2011-11-23T00:00:00",
          "2011-11-24T00:00:00",
          "2011-11-25T00:00:00",
          "2011-11-26T00:00:00",
          "2011-11-27T00:00:00",
          "2011-11-28T00:00:00",
          "2011-11-29T00:00:00",
          "2011-11-30T00:00:00",
          "2011-12-01T00:00:00",
          "2011-12-02T00:00:00",
          "2011-12-03T00:00:00",
          "2011-12-04T00:00:00",
          "2011-12-05T00:00:00",
          "2011-12-06T00:00:00",
          "2011-12-07T00:00:00",
          "2011-12-08T00:00:00",
          "2011-12-09T00:00:00",
          "2011-12-10T00:00:00",
          "2011-12-11T00:00:00",
          "2011-12-12T00:00:00",
          "2011-12-13T00:00:00",
          "2011-12-14T00:00:00",
          "2011-12-15T00:00:00",
          "2011-12-16T00:00:00",
          "2011-12-17T00:00:00",
          "2011-12-18T00:00:00",
          "2011-12-19T00:00:00",
          "2011-12-20T00:00:00",
          "2011-12-21T00:00:00",
          "2011-12-22T00:00:00",
          "2011-12-23T00:00:00",
          "2011-12-24T00:00:00",
          "2011-12-25T00:00:00",
          "2011-12-26T00:00:00",
          "2011-12-27T00:00:00",
          "2011-12-28T00:00:00",
          "2011-12-29T00:00:00",
          "2011-12-30T00:00:00",
          "2011-12-31T00:00:00",
          "2012-01-01T00:00:00",
          "2012-01-02T00:00:00",
          "2012-01-03T00:00:00",
          "2012-01-04T00:00:00",
          "2012-01-05T00:00:00",
          "2012-01-06T00:00:00",
          "2012-01-07T00:00:00",
          "2012-01-08T00:00:00",
          "2012-01-09T00:00:00",
          "2012-01-10T00:00:00",
          "2012-01-11T00:00:00",
          "2012-01-12T00:00:00",
          "2012-01-13T00:00:00",
          "2012-01-14T00:00:00",
          "2012-01-15T00:00:00",
          "2012-01-16T00:00:00",
          "2012-01-17T00:00:00",
          "2012-01-18T00:00:00",
          "2012-01-19T00:00:00",
          "2012-01-20T00:00:00",
          "2012-01-21T00:00:00",
          "2012-01-22T00:00:00",
          "2012-01-23T00:00:00",
          "2012-01-24T00:00:00",
          "2012-01-25T00:00:00",
          "2012-01-26T00:00:00",
          "2012-01-27T00:00:00",
          "2012-01-28T00:00:00",
          "2012-01-29T00:00:00",
          "2012-01-30T00:00:00",
          "2012-01-31T00:00:00",
          "2012-02-01T00:00:00",
          "2012-02-02T00:00:00",
          "2012-02-03T00:00:00",
          "2012-02-04T00:00:00",
          "2012-02-05T00:00:00",
          "2012-02-06T00:00:00",
          "2012-02-07T00:00:00",
          "2012-02-08T00:00:00",
          "2012-02-09T00:00:00",
          "2012-02-10T00:00:00",
          "2012-02-11T00:00:00",
          "2012-02-12T00:00:00",
          "2012-02-13T00:00:00",
          "2012-02-14T00:00:00",
          "2012-02-15T00:00:00",
          "2012-02-16T00:00:00",
          "2012-02-17T00:00:00",
          "2012-02-18T00:00:00",
          "2012-02-19T00:00:00",
          "2012-02-20T00:00:00",
          "2012-02-21T00:00:00",
          "2012-02-22T00:00:00",
          "2012-02-23T00:00:00",
          "2012-02-24T00:00:00",
          "2012-02-25T00:00:00",
          "2012-02-26T00:00:00",
          "2012-02-27T00:00:00",
          "2012-02-28T00:00:00",
          "2012-02-29T00:00:00",
          "2012-03-01T00:00:00",
          "2012-03-02T00:00:00",
          "2012-03-03T00:00:00",
          "2012-03-04T00:00:00",
          "2012-03-05T00:00:00",
          "2012-03-06T00:00:00",
          "2012-03-07T00:00:00",
          "2012-03-08T00:00:00",
          "2012-03-09T00:00:00",
          "2012-03-10T00:00:00",
          "2012-03-11T00:00:00",
          "2012-03-12T00:00:00",
          "2012-03-13T00:00:00",
          "2012-03-14T00:00:00",
          "2012-03-15T00:00:00",
          "2012-03-16T00:00:00",
          "2012-03-17T00:00:00",
          "2012-03-18T00:00:00",
          "2012-03-19T00:00:00",
          "2012-03-20T00:00:00",
          "2012-03-21T00:00:00",
          "2012-03-22T00:00:00",
          "2012-03-23T00:00:00",
          "2012-03-24T00:00:00",
          "2012-03-25T00:00:00",
          "2012-03-26T00:00:00",
          "2012-03-27T00:00:00",
          "2012-03-28T00:00:00",
          "2012-03-29T00:00:00",
          "2012-03-30T00:00:00",
          "2012-03-31T00:00:00",
          "2012-04-01T00:00:00",
          "2012-04-02T00:00:00",
          "2012-04-03T00:00:00",
          "2012-04-04T00:00:00",
          "2012-04-05T00:00:00",
          "2012-04-06T00:00:00",
          "2012-04-07T00:00:00",
          "2012-04-08T00:00:00",
          "2012-04-09T00:00:00",
          "2012-04-10T00:00:00",
          "2012-04-11T00:00:00",
          "2012-04-12T00:00:00",
          "2012-04-13T00:00:00",
          "2012-04-14T00:00:00",
          "2012-04-15T00:00:00",
          "2012-04-16T00:00:00",
          "2012-04-17T00:00:00",
          "2012-04-18T00:00:00",
          "2012-04-19T00:00:00",
          "2012-04-20T00:00:00",
          "2012-04-21T00:00:00",
          "2012-04-22T00:00:00",
          "2012-04-23T00:00:00",
          "2012-04-24T00:00:00",
          "2012-04-25T00:00:00",
          "2012-04-26T00:00:00",
          "2012-04-27T00:00:00",
          "2012-04-28T00:00:00",
          "2012-04-29T00:00:00",
          "2012-04-30T00:00:00",
          "2012-05-01T00:00:00",
          "2012-05-02T00:00:00",
          "2012-05-03T00:00:00",
          "2012-05-04T00:00:00",
          "2012-05-05T00:00:00",
          "2012-05-06T00:00:00",
          "2012-05-07T00:00:00",
          "2012-05-08T00:00:00",
          "2012-05-09T00:00:00",
          "2012-05-10T00:00:00",
          "2012-05-11T00:00:00",
          "2012-05-12T00:00:00",
          "2012-05-13T00:00:00",
          "2012-05-14T00:00:00",
          "2012-05-15T00:00:00",
          "2012-05-16T00:00:00",
          "2012-05-17T00:00:00",
          "2012-05-18T00:00:00",
          "2012-05-19T00:00:00",
          "2012-05-20T00:00:00",
          "2012-05-21T00:00:00",
          "2012-05-22T00:00:00",
          "2012-05-23T00:00:00",
          "2012-05-24T00:00:00",
          "2012-05-25T00:00:00",
          "2012-05-26T00:00:00",
          "2012-05-27T00:00:00",
          "2012-05-28T00:00:00",
          "2012-05-29T00:00:00",
          "2012-05-30T00:00:00",
          "2012-05-31T00:00:00",
          "2012-06-01T00:00:00",
          "2012-06-02T00:00:00",
          "2012-06-03T00:00:00",
          "2012-06-04T00:00:00",
          "2012-06-05T00:00:00",
          "2012-06-06T00:00:00",
          "2012-06-07T00:00:00",
          "2012-06-08T00:00:00",
          "2012-06-09T00:00:00",
          "2012-06-10T00:00:00",
          "2012-06-11T00:00:00",
          "2012-06-12T00:00:00",
          "2012-06-13T00:00:00",
          "2012-06-14T00:00:00",
          "2012-06-15T00:00:00",
          "2012-06-16T00:00:00",
          "2012-06-17T00:00:00",
          "2012-06-18T00:00:00",
          "2012-06-19T00:00:00",
          "2012-06-20T00:00:00",
          "2012-06-21T00:00:00",
          "2012-06-22T00:00:00",
          "2012-06-23T00:00:00",
          "2012-06-24T00:00:00",
          "2012-06-25T00:00:00",
          "2012-06-26T00:00:00",
          "2012-06-27T00:00:00",
          "2012-06-28T00:00:00",
          "2012-06-29T00:00:00",
          "2012-06-30T00:00:00",
          "2012-07-01T00:00:00",
          "2012-07-02T00:00:00",
          "2012-07-03T00:00:00",
          "2012-07-04T00:00:00",
          "2012-07-05T00:00:00",
          "2012-07-06T00:00:00",
          "2012-07-07T00:00:00",
          "2012-07-08T00:00:00",
          "2012-07-09T00:00:00",
          "2012-07-10T00:00:00",
          "2012-07-11T00:00:00",
          "2012-07-12T00:00:00",
          "2012-07-13T00:00:00",
          "2012-07-14T00:00:00",
          "2012-07-15T00:00:00",
          "2012-07-16T00:00:00",
          "2012-07-17T00:00:00",
          "2012-07-18T00:00:00",
          "2012-07-19T00:00:00",
          "2012-07-20T00:00:00",
          "2012-07-21T00:00:00",
          "2012-07-22T00:00:00",
          "2012-07-23T00:00:00",
          "2012-07-24T00:00:00",
          "2012-07-25T00:00:00",
          "2012-07-26T00:00:00",
          "2012-07-27T00:00:00",
          "2012-07-28T00:00:00",
          "2012-07-29T00:00:00",
          "2012-07-30T00:00:00",
          "2012-07-31T00:00:00",
          "2012-08-01T00:00:00",
          "2012-08-02T00:00:00",
          "2012-08-03T00:00:00",
          "2012-08-04T00:00:00",
          "2012-08-05T00:00:00",
          "2012-08-06T00:00:00",
          "2012-08-07T00:00:00",
          "2012-08-08T00:00:00",
          "2012-08-09T00:00:00",
          "2012-08-10T00:00:00",
          "2012-08-11T00:00:00",
          "2012-08-12T00:00:00",
          "2012-08-13T00:00:00",
          "2012-08-14T00:00:00",
          "2012-08-15T00:00:00",
          "2012-08-16T00:00:00",
          "2012-08-17T00:00:00",
          "2012-08-18T00:00:00",
          "2012-08-19T00:00:00",
          "2012-08-20T00:00:00",
          "2012-08-21T00:00:00",
          "2012-08-22T00:00:00",
          "2012-08-23T00:00:00",
          "2012-08-24T00:00:00",
          "2012-08-25T00:00:00",
          "2012-08-26T00:00:00",
          "2012-08-27T00:00:00",
          "2012-08-28T00:00:00",
          "2012-08-29T00:00:00",
          "2012-08-30T00:00:00",
          "2012-08-31T00:00:00",
          "2012-09-01T00:00:00",
          "2012-09-02T00:00:00",
          "2012-09-03T00:00:00",
          "2012-09-04T00:00:00",
          "2012-09-05T00:00:00",
          "2012-09-06T00:00:00",
          "2012-09-07T00:00:00",
          "2012-09-08T00:00:00",
          "2012-09-09T00:00:00",
          "2012-09-10T00:00:00",
          "2012-09-11T00:00:00",
          "2012-09-12T00:00:00",
          "2012-09-13T00:00:00",
          "2012-09-14T00:00:00",
          "2012-09-15T00:00:00",
          "2012-09-16T00:00:00",
          "2012-09-17T00:00:00",
          "2012-09-18T00:00:00",
          "2012-09-19T00:00:00",
          "2012-09-20T00:00:00",
          "2012-09-21T00:00:00",
          "2012-09-22T00:00:00",
          "2012-09-23T00:00:00",
          "2012-09-24T00:00:00",
          "2012-09-25T00:00:00",
          "2012-09-26T00:00:00",
          "2012-09-27T00:00:00",
          "2012-09-28T00:00:00",
          "2012-09-29T00:00:00",
          "2012-09-30T00:00:00",
          "2012-10-01T00:00:00",
          "2012-10-02T00:00:00",
          "2012-10-03T00:00:00",
          "2012-10-04T00:00:00",
          "2012-10-05T00:00:00",
          "2012-10-06T00:00:00",
          "2012-10-07T00:00:00",
          "2012-10-08T00:00:00",
          "2012-10-09T00:00:00",
          "2012-10-10T00:00:00",
          "2012-10-11T00:00:00",
          "2012-10-12T00:00:00",
          "2012-10-13T00:00:00",
          "2012-10-14T00:00:00",
          "2012-10-15T00:00:00",
          "2012-10-16T00:00:00",
          "2012-10-17T00:00:00",
          "2012-10-18T00:00:00",
          "2012-10-19T00:00:00",
          "2012-10-20T00:00:00",
          "2012-10-21T00:00:00",
          "2012-10-22T00:00:00",
          "2012-10-23T00:00:00",
          "2012-10-24T00:00:00",
          "2012-10-25T00:00:00",
          "2012-10-26T00:00:00",
          "2012-10-27T00:00:00",
          "2012-10-28T00:00:00",
          "2012-10-29T00:00:00",
          "2012-10-30T00:00:00",
          "2012-10-31T00:00:00",
          "2012-11-01T00:00:00",
          "2012-11-02T00:00:00",
          "2012-11-03T00:00:00",
          "2012-11-04T00:00:00",
          "2012-11-05T00:00:00",
          "2012-11-06T00:00:00",
          "2012-11-07T00:00:00",
          "2012-11-08T00:00:00",
          "2012-11-09T00:00:00",
          "2012-11-10T00:00:00",
          "2012-11-11T00:00:00",
          "2012-11-12T00:00:00",
          "2012-11-13T00:00:00",
          "2012-11-14T00:00:00",
          "2012-11-15T00:00:00",
          "2012-11-16T00:00:00",
          "2012-11-17T00:00:00",
          "2012-11-18T00:00:00",
          "2012-11-19T00:00:00",
          "2012-11-20T00:00:00",
          "2012-11-21T00:00:00",
          "2012-11-22T00:00:00",
          "2012-11-23T00:00:00",
          "2012-11-24T00:00:00",
          "2012-11-25T00:00:00",
          "2012-11-26T00:00:00",
          "2012-11-27T00:00:00",
          "2012-11-28T00:00:00",
          "2012-11-29T00:00:00",
          "2012-11-30T00:00:00",
          "2012-12-01T00:00:00",
          "2012-12-02T00:00:00",
          "2012-12-03T00:00:00",
          "2012-12-04T00:00:00",
          "2012-12-05T00:00:00",
          "2012-12-06T00:00:00",
          "2012-12-07T00:00:00",
          "2012-12-08T00:00:00",
          "2012-12-09T00:00:00",
          "2012-12-10T00:00:00",
          "2012-12-11T00:00:00",
          "2012-12-12T00:00:00",
          "2012-12-13T00:00:00",
          "2012-12-14T00:00:00",
          "2012-12-15T00:00:00",
          "2012-12-16T00:00:00",
          "2012-12-17T00:00:00",
          "2012-12-18T00:00:00",
          "2012-12-19T00:00:00",
          "2012-12-20T00:00:00",
          "2012-12-21T00:00:00",
          "2012-12-22T00:00:00",
          "2012-12-23T00:00:00",
          "2012-12-24T00:00:00",
          "2012-12-25T00:00:00",
          "2012-12-26T00:00:00",
          "2012-12-27T00:00:00",
          "2012-12-28T00:00:00",
          "2012-12-29T00:00:00",
          "2012-12-30T00:00:00",
          "2012-12-31T00:00:00"
         ],
         "legendgroup": "",
         "marker": {
          "color": [
           1,
           1,
           1,
           1,
           1,
           1,
           1,
           1,
           1,
           1,
           1,
           1,
           1,
           1,
           1,
           1,
           1,
           1,
           1,
           1,
           1,
           1,
           1,
           1,
           1,
           1,
           1,
           1,
           1,
           1,
           1,
           1,
           1,
           1,
           1,
           1,
           1,
           1,
           1,
           1,
           1,
           1,
           1,
           1,
           1,
           1,
           1,
           1,
           1,
           1,
           1,
           1,
           1,
           1,
           1,
           1,
           1,
           1,
           1,
           1,
           1,
           1,
           1,
           1,
           1,
           1,
           1,
           1,
           1,
           1,
           1,
           1,
           1,
           1,
           1,
           1,
           1,
           1,
           1,
           2,
           2,
           2,
           2,
           2,
           2,
           2,
           2,
           2,
           2,
           2,
           2,
           2,
           2,
           2,
           2,
           2,
           2,
           2,
           2,
           2,
           2,
           2,
           2,
           2,
           2,
           2,
           2,
           2,
           2,
           2,
           2,
           2,
           2,
           2,
           2,
           2,
           2,
           2,
           2,
           2,
           2,
           2,
           2,
           2,
           2,
           2,
           2,
           2,
           2,
           2,
           2,
           2,
           2,
           2,
           2,
           2,
           2,
           2,
           2,
           2,
           2,
           2,
           2,
           2,
           2,
           2,
           2,
           2,
           2,
           2,
           2,
           2,
           2,
           2,
           2,
           2,
           2,
           2,
           2,
           2,
           2,
           2,
           2,
           2,
           2,
           2,
           2,
           2,
           2,
           2,
           2,
           3,
           3,
           3,
           3,
           3,
           3,
           3,
           3,
           3,
           3,
           3,
           3,
           3,
           3,
           3,
           3,
           3,
           3,
           3,
           3,
           3,
           3,
           3,
           3,
           3,
           3,
           3,
           3,
           3,
           3,
           3,
           3,
           3,
           3,
           3,
           3,
           3,
           3,
           3,
           3,
           3,
           3,
           3,
           3,
           3,
           3,
           3,
           3,
           3,
           3,
           3,
           3,
           3,
           3,
           3,
           3,
           3,
           3,
           3,
           3,
           3,
           3,
           3,
           3,
           3,
           3,
           3,
           3,
           3,
           3,
           3,
           3,
           3,
           3,
           3,
           3,
           3,
           3,
           3,
           3,
           3,
           3,
           3,
           3,
           3,
           3,
           3,
           3,
           3,
           3,
           3,
           3,
           3,
           3,
           4,
           4,
           4,
           4,
           4,
           4,
           4,
           4,
           4,
           4,
           4,
           4,
           4,
           4,
           4,
           4,
           4,
           4,
           4,
           4,
           4,
           4,
           4,
           4,
           4,
           4,
           4,
           4,
           4,
           4,
           4,
           4,
           4,
           4,
           4,
           4,
           4,
           4,
           4,
           4,
           4,
           4,
           4,
           4,
           4,
           4,
           4,
           4,
           4,
           4,
           4,
           4,
           4,
           4,
           4,
           4,
           4,
           4,
           4,
           4,
           4,
           4,
           4,
           4,
           4,
           4,
           4,
           4,
           4,
           4,
           4,
           4,
           4,
           4,
           4,
           4,
           4,
           4,
           4,
           4,
           4,
           4,
           4,
           4,
           4,
           4,
           4,
           4,
           4,
           1,
           1,
           1,
           1,
           1,
           1,
           1,
           1,
           1,
           1,
           1,
           1,
           1,
           1,
           1,
           1,
           1,
           1,
           1,
           1,
           1,
           1,
           1,
           1,
           1,
           1,
           1,
           1,
           1,
           1,
           1,
           1,
           1,
           1,
           1,
           1,
           1,
           1,
           1,
           1,
           1,
           1,
           1,
           1,
           1,
           1,
           1,
           1,
           1,
           1,
           1,
           1,
           1,
           1,
           1,
           1,
           1,
           1,
           1,
           1,
           1,
           1,
           1,
           1,
           1,
           1,
           1,
           1,
           1,
           1,
           1,
           1,
           1,
           1,
           1,
           1,
           1,
           1,
           1,
           1,
           1,
           1,
           1,
           1,
           1,
           1,
           1,
           1,
           1,
           1,
           1,
           2,
           2,
           2,
           2,
           2,
           2,
           2,
           2,
           2,
           2,
           2,
           2,
           2,
           2,
           2,
           2,
           2,
           2,
           2,
           2,
           2,
           2,
           2,
           2,
           2,
           2,
           2,
           2,
           2,
           2,
           2,
           2,
           2,
           2,
           2,
           2,
           2,
           2,
           2,
           2,
           2,
           2,
           2,
           2,
           2,
           2,
           2,
           2,
           2,
           2,
           2,
           2,
           2,
           2,
           2,
           2,
           2,
           2,
           2,
           2,
           2,
           2,
           2,
           2,
           2,
           2,
           2,
           2,
           2,
           2,
           2,
           2,
           2,
           2,
           2,
           2,
           2,
           2,
           2,
           2,
           2,
           2,
           2,
           2,
           2,
           2,
           2,
           2,
           2,
           2,
           2,
           2,
           3,
           3,
           3,
           3,
           3,
           3,
           3,
           3,
           3,
           3,
           3,
           3,
           3,
           3,
           3,
           3,
           3,
           3,
           3,
           3,
           3,
           3,
           3,
           3,
           3,
           3,
           3,
           3,
           3,
           3,
           3,
           3,
           3,
           3,
           3,
           3,
           3,
           3,
           3,
           3,
           3,
           3,
           3,
           3,
           3,
           3,
           3,
           3,
           3,
           3,
           3,
           3,
           3,
           3,
           3,
           3,
           3,
           3,
           3,
           3,
           3,
           3,
           3,
           3,
           3,
           3,
           3,
           3,
           3,
           3,
           3,
           3,
           3,
           3,
           3,
           3,
           3,
           3,
           3,
           3,
           3,
           3,
           3,
           3,
           3,
           3,
           3,
           3,
           3,
           3,
           3,
           3,
           3,
           3,
           4,
           4,
           4,
           4,
           4,
           4,
           4,
           4,
           4,
           4,
           4,
           4,
           4,
           4,
           4,
           4,
           4,
           4,
           4,
           4,
           4,
           4,
           4,
           4,
           4,
           4,
           4,
           4,
           4,
           4,
           4,
           4,
           4,
           4,
           4,
           4,
           4,
           4,
           4,
           4,
           4,
           4,
           4,
           4,
           4,
           4,
           4,
           4,
           4,
           4,
           4,
           4,
           4,
           4,
           4,
           4,
           4,
           4,
           4,
           4,
           4,
           4,
           4,
           4,
           4,
           4,
           4,
           4,
           4,
           4,
           4,
           4,
           4,
           4,
           4,
           4,
           4,
           4,
           4,
           4,
           4,
           4,
           4,
           4,
           4,
           4,
           4,
           4,
           4,
           1,
           1,
           1,
           1,
           1,
           1,
           1,
           1,
           1,
           1,
           1
          ],
          "coloraxis": "coloraxis",
          "opacity": 0.8,
          "size": [
           985,
           801,
           1349,
           1562,
           1600,
           1606,
           1510,
           959,
           822,
           1321,
           1263,
           1162,
           1406,
           1421,
           1248,
           1204,
           1000,
           683,
           1650,
           1927,
           1543,
           981,
           986,
           1416,
           1985,
           506,
           431,
           1167,
           1098,
           1096,
           1501,
           1360,
           1526,
           1550,
           1708,
           1005,
           1623,
           1712,
           1530,
           1605,
           1538,
           1746,
           1472,
           1589,
           1913,
           1815,
           2115,
           2475,
           2927,
           1635,
           1812,
           1107,
           1450,
           1917,
           1807,
           1461,
           1969,
           2402,
           1446,
           1851,
           2134,
           1685,
           1944,
           2077,
           605,
           1872,
           2133,
           1891,
           623,
           1977,
           2132,
           2417,
           2046,
           2056,
           2192,
           2744,
           3239,
           3117,
           2471,
           2077,
           2703,
           2121,
           1865,
           2210,
           2496,
           1693,
           2028,
           2425,
           1536,
           1685,
           2227,
           2252,
           3249,
           3115,
           1795,
           2808,
           3141,
           1471,
           2455,
           2895,
           3348,
           2034,
           2162,
           3267,
           3126,
           795,
           3744,
           3429,
           3204,
           3944,
           4189,
           1683,
           4036,
           4191,
           4073,
           4400,
           3872,
           4058,
           4595,
           5312,
           3351,
           4401,
           4451,
           2633,
           4433,
           4608,
           4714,
           4333,
           4362,
           4803,
           4182,
           4864,
           4105,
           3409,
           4553,
           3958,
           4123,
           3855,
           4575,
           4917,
           5805,
           4660,
           4274,
           4492,
           4978,
           4677,
           4679,
           4758,
           4788,
           4098,
           3982,
           3974,
           4968,
           5312,
           5342,
           4906,
           4548,
           4833,
           4401,
           3915,
           4586,
           4966,
           4460,
           5020,
           4891,
           5180,
           3767,
           4844,
           5119,
           4744,
           4010,
           4835,
           4507,
           4790,
           4991,
           5202,
           5305,
           4708,
           4648,
           5225,
           5515,
           5362,
           5119,
           4649,
           6043,
           4665,
           4629,
           4592,
           4040,
           5336,
           4881,
           4086,
           4258,
           4342,
           5084,
           5538,
           5923,
           5302,
           4458,
           4541,
           4332,
           3784,
           3387,
           3285,
           3606,
           3840,
           4590,
           4656,
           4390,
           3846,
           4475,
           4302,
           4266,
           4845,
           3574,
           4576,
           4866,
           4294,
           3785,
           4326,
           4602,
           4780,
           4792,
           4905,
           4150,
           3820,
           4338,
           4725,
           4694,
           3805,
           4153,
           5191,
           3873,
           4758,
           5895,
           5130,
           3542,
           4661,
           1115,
           4334,
           4634,
           5204,
           5058,
           5115,
           4727,
           4484,
           4940,
           3351,
           2710,
           1996,
           1842,
           3544,
           5345,
           5046,
           4713,
           4763,
           4785,
           3659,
           4760,
           4511,
           4274,
           4539,
           3641,
           4352,
           4795,
           2395,
           5423,
           5010,
           4630,
           4120,
           3907,
           4839,
           5202,
           2429,
           2918,
           3570,
           4456,
           4826,
           4765,
           4985,
           5409,
           5511,
           5117,
           4563,
           2416,
           2913,
           3644,
           5217,
           5041,
           4570,
           4748,
           2424,
           4195,
           4304,
           4308,
           4381,
           4187,
           4687,
           3894,
           2659,
           3747,
           627,
           3331,
           3669,
           4068,
           4186,
           3974,
           4046,
           3926,
           3649,
           4035,
           4205,
           4109,
           2933,
           3368,
           4067,
           3717,
           4486,
           4195,
           1817,
           3053,
           3392,
           3663,
           3520,
           2765,
           1607,
           2566,
           1495,
           2792,
           3068,
           3071,
           3867,
           2914,
           3613,
           3727,
           3940,
           3614,
           3485,
           3811,
           2594,
           705,
           3322,
           3620,
           3190,
           2743,
           3310,
           3523,
           3740,
           3709,
           3577,
           2739,
           2431,
           3403,
           3750,
           2660,
           3068,
           2209,
           1011,
           754,
           1317,
           1162,
           2302,
           2423,
           2999,
           2485,
           2294,
           1951,
           2236,
           2368,
           3272,
           4098,
           4521,
           3425,
           2376,
           3598,
           2177,
           4097,
           3214,
           2493,
           2311,
           2298,
           2935,
           3376,
           3292,
           3163,
           1301,
           1977,
           2432,
           4339,
           4270,
           4075,
           3456,
           4023,
           3243,
           3624,
           4509,
           4579,
           3761,
           4151,
           2832,
           2947,
           3784,
           4375,
           2802,
           3830,
           3831,
           2169,
           1529,
           3422,
           3922,
           4169,
           3005,
           4154,
           4318,
           2689,
           3129,
           3777,
           4773,
           5062,
           3487,
           2732,
           3389,
           4322,
           4363,
           1834,
           4990,
           3194,
           4066,
           3423,
           3333,
           3956,
           4916,
           5382,
           4569,
           4118,
           4911,
           5298,
           5847,
           6312,
           6192,
           4378,
           7836,
           5892,
           6153,
           6093,
           6230,
           6871,
           8362,
           3372,
           4996,
           5558,
           5102,
           5698,
           6133,
           5459,
           6235,
           6041,
           5936,
           6772,
           6436,
           6457,
           6460,
           6857,
           5169,
           5585,
           5918,
           4862,
           5409,
           6398,
           7460,
           7132,
           6370,
           6691,
           4367,
           6565,
           7290,
           6624,
           1027,
           3214,
           5633,
           6196,
           5026,
           6233,
           4220,
           6304,
           5572,
           5740,
           6169,
           6421,
           6296,
           6883,
           6359,
           6273,
           5728,
           4717,
           6572,
           7030,
           7429,
           6118,
           2843,
           5115,
           7424,
           7384,
           7639,
           8294,
           7129,
           4359,
           6073,
           5260,
           6770,
           6734,
           6536,
           6591,
           6043,
           5743,
           6855,
           7338,
           4127,
           8120,
           7641,
           6998,
           7001,
           7055,
           7494,
           7736,
           7498,
           6598,
           6664,
           4972,
           7421,
           7363,
           7665,
           7702,
           6978,
           5099,
           6825,
           6211,
           5905,
           5823,
           7458,
           6891,
           6779,
           7442,
           7335,
           6879,
           5463,
           5687,
           5531,
           6227,
           6660,
           7403,
           6241,
           6207,
           4840,
           4672,
           6569,
           6290,
           7264,
           7446,
           7499,
           6969,
           6031,
           6830,
           6786,
           5713,
           6591,
           5870,
           4459,
           7410,
           6966,
           7592,
           8173,
           6861,
           6904,
           6685,
           6597,
           7105,
           7216,
           7580,
           7261,
           7175,
           6824,
           5464,
           7013,
           7273,
           7534,
           7286,
           5786,
           6299,
           6544,
           6883,
           6784,
           7347,
           7605,
           7148,
           7865,
           4549,
           6530,
           7006,
           7375,
           7765,
           7582,
           6053,
           5255,
           6917,
           7040,
           7697,
           7713,
           7350,
           6140,
           5810,
           6034,
           6864,
           7112,
           6203,
           7504,
           5976,
           8227,
           7525,
           7767,
           7870,
           7804,
           8009,
           8714,
           7333,
           6869,
           4073,
           7591,
           7720,
           8167,
           8395,
           7907,
           7436,
           7538,
           7733,
           7393,
           7415,
           8555,
           6889,
           6778,
           4639,
           7572,
           7328,
           8156,
           7965,
           3510,
           5478,
           6392,
           7691,
           7570,
           7282,
           7109,
           6639,
           5875,
           7534,
           7461,
           7509,
           5424,
           8090,
           6824,
           7058,
           7466,
           7693,
           7359,
           7444,
           7852,
           4459,
           22,
           1096,
           5566,
           5986,
           5847,
           5138,
           5107,
           5259,
           5686,
           5035,
           5315,
           5992,
           6536,
           6852,
           6269,
           4094,
           5495,
           5445,
           5698,
           5629,
           4669,
           5499,
           5634,
           5146,
           2425,
           3910,
           2277,
           2424,
           5087,
           3959,
           5260,
           5323,
           5668,
           5191,
           4649,
           6234,
           6606,
           5729,
           5375,
           5008,
           5582,
           3228,
           5170,
           5501,
           5319,
           5532,
           5611,
           5047,
           3786,
           4585,
           5557,
           5267,
           4128,
           3623,
           1749,
           1787,
           920,
           1013,
           441,
           2114,
           3095,
           1341,
           1796,
           2729
          ],
          "sizemode": "area",
          "sizeref": 21.785,
          "symbol": "circle"
         },
         "mode": "markers",
         "name": "",
         "orientation": "v",
         "showlegend": false,
         "type": "scatter",
         "x": [
          0.344167,
          0.363478,
          0.196364,
          0.2,
          0.226957,
          0.204348,
          0.196522,
          0.165,
          0.138333,
          0.150833,
          0.169091,
          0.172727,
          0.165,
          0.16087,
          0.233333,
          0.231667,
          0.175833,
          0.216667,
          0.292174,
          0.261667,
          0.1775,
          0.0591304,
          0.0965217,
          0.0973913,
          0.223478,
          0.2175,
          0.195,
          0.203478,
          0.196522,
          0.216522,
          0.180833,
          0.192174,
          0.26,
          0.186957,
          0.211304,
          0.233333,
          0.285833,
          0.271667,
          0.220833,
          0.134783,
          0.144348,
          0.189091,
          0.2225,
          0.316522,
          0.415,
          0.266087,
          0.318261,
          0.435833,
          0.521667,
          0.399167,
          0.285217,
          0.303333,
          0.182222,
          0.221739,
          0.295652,
          0.364348,
          0.2825,
          0.343478,
          0.407273,
          0.266667,
          0.335,
          0.198333,
          0.261667,
          0.384167,
          0.376522,
          0.261739,
          0.2925,
          0.295833,
          0.389091,
          0.316522,
          0.329167,
          0.384348,
          0.325217,
          0.317391,
          0.365217,
          0.415,
          0.54,
          0.4725,
          0.3325,
          0.430435,
          0.441667,
          0.346957,
          0.285,
          0.264167,
          0.265833,
          0.253043,
          0.264348,
          0.3025,
          0.3,
          0.268333,
          0.3,
          0.315,
          0.378333,
          0.573333,
          0.414167,
          0.390833,
          0.4375,
          0.335833,
          0.3425,
          0.426667,
          0.595652,
          0.5025,
          0.4125,
          0.4675,
          0.446667,
          0.430833,
          0.456667,
          0.5125,
          0.505833,
          0.595,
          0.459167,
          0.336667,
          0.46,
          0.581667,
          0.606667,
          0.631667,
          0.62,
          0.6175,
          0.51,
          0.4725,
          0.451667,
          0.549167,
          0.616667,
          0.414167,
          0.459167,
          0.479167,
          0.52,
          0.528333,
          0.5325,
          0.5325,
          0.5425,
          0.535,
          0.5125,
          0.520833,
          0.5625,
          0.5775,
          0.561667,
          0.55,
          0.530833,
          0.536667,
          0.6025,
          0.604167,
          0.631667,
          0.66,
          0.660833,
          0.708333,
          0.681667,
          0.655833,
          0.6675,
          0.733333,
          0.775,
          0.764167,
          0.715,
          0.62,
          0.635,
          0.648333,
          0.678333,
          0.7075,
          0.775833,
          0.808333,
          0.755,
          0.725,
          0.6925,
          0.635,
          0.604167,
          0.626667,
          0.628333,
          0.649167,
          0.696667,
          0.699167,
          0.635,
          0.680833,
          0.733333,
          0.728333,
          0.724167,
          0.695,
          0.68,
          0.6825,
          0.744167,
          0.728333,
          0.696667,
          0.7225,
          0.738333,
          0.716667,
          0.726667,
          0.746667,
          0.72,
          0.75,
          0.709167,
          0.733333,
          0.7475,
          0.7625,
          0.794167,
          0.746667,
          0.680833,
          0.663333,
          0.686667,
          0.719167,
          0.746667,
          0.776667,
          0.768333,
          0.815,
          0.848333,
          0.849167,
          0.83,
          0.743333,
          0.771667,
          0.775,
          0.779167,
          0.838333,
          0.804167,
          0.805833,
          0.771667,
          0.783333,
          0.731667,
          0.71,
          0.710833,
          0.716667,
          0.7425,
          0.765,
          0.775,
          0.766667,
          0.7175,
          0.708333,
          0.685833,
          0.676667,
          0.665833,
          0.700833,
          0.723333,
          0.711667,
          0.685,
          0.6975,
          0.710833,
          0.691667,
          0.640833,
          0.673333,
          0.684167,
          0.7,
          0.68,
          0.707059,
          0.636667,
          0.639167,
          0.656667,
          0.655,
          0.643333,
          0.669167,
          0.709167,
          0.673333,
          0.54,
          0.599167,
          0.633913,
          0.65,
          0.66,
          0.653333,
          0.644348,
          0.650833,
          0.673333,
          0.5775,
          0.469167,
          0.491667,
          0.5075,
          0.549167,
          0.561667,
          0.595,
          0.628333,
          0.609167,
          0.606667,
          0.634167,
          0.649167,
          0.636667,
          0.635,
          0.616667,
          0.564167,
          0.41,
          0.356667,
          0.384167,
          0.484167,
          0.538333,
          0.494167,
          0.510833,
          0.521667,
          0.540833,
          0.570833,
          0.566667,
          0.543333,
          0.589167,
          0.550833,
          0.506667,
          0.511667,
          0.534167,
          0.5325,
          0.541739,
          0.475833,
          0.4275,
          0.4225,
          0.421667,
          0.463333,
          0.471667,
          0.484167,
          0.47,
          0.330833,
          0.254167,
          0.319167,
          0.34,
          0.400833,
          0.3775,
          0.408333,
          0.403333,
          0.326667,
          0.348333,
          0.395,
          0.408333,
          0.4,
          0.38,
          0.324167,
          0.356667,
          0.440833,
          0.53,
          0.53,
          0.456667,
          0.341667,
          0.274167,
          0.329167,
          0.463333,
          0.4475,
          0.416667,
          0.440833,
          0.373333,
          0.375,
          0.375833,
          0.459167,
          0.503478,
          0.458333,
          0.325,
          0.3125,
          0.314167,
          0.299167,
          0.330833,
          0.385833,
          0.4625,
          0.41,
          0.265833,
          0.290833,
          0.275,
          0.220833,
          0.238333,
          0.2825,
          0.3175,
          0.4225,
          0.375,
          0.258333,
          0.238333,
          0.276667,
          0.385833,
          0.428333,
          0.423333,
          0.373333,
          0.3025,
          0.274783,
          0.321739,
          0.325,
          0.29913,
          0.248333,
          0.311667,
          0.41,
          0.37,
          0.273043,
          0.15,
          0.1075,
          0.265833,
          0.334167,
          0.393333,
          0.3375,
          0.224167,
          0.308696,
          0.274167,
          0.3825,
          0.274167,
          0.18,
          0.166667,
          0.19,
          0.373043,
          0.303333,
          0.19,
          0.2175,
          0.173333,
          0.1625,
          0.218333,
          0.3425,
          0.294167,
          0.341667,
          0.425,
          0.315833,
          0.2825,
          0.269167,
          0.39,
          0.469167,
          0.399167,
          0.313333,
          0.264167,
          0.265833,
          0.282609,
          0.354167,
          0.256667,
          0.265,
          0.280833,
          0.224167,
          0.1275,
          0.2225,
          0.319167,
          0.348333,
          0.316667,
          0.343333,
          0.346667,
          0.28,
          0.28,
          0.287826,
          0.395833,
          0.454167,
          0.4075,
          0.290833,
          0.279167,
          0.366667,
          0.359167,
          0.344348,
          0.485833,
          0.353333,
          0.414167,
          0.325833,
          0.243333,
          0.258333,
          0.404167,
          0.5275,
          0.410833,
          0.2875,
          0.361739,
          0.466667,
          0.565,
          0.5725,
          0.5575,
          0.435833,
          0.514167,
          0.4725,
          0.545,
          0.560833,
          0.531667,
          0.554167,
          0.601667,
          0.5025,
          0.4375,
          0.445833,
          0.323333,
          0.484167,
          0.494167,
          0.37,
          0.424167,
          0.425833,
          0.433913,
          0.466667,
          0.541667,
          0.435,
          0.403333,
          0.4375,
          0.5,
          0.489167,
          0.446667,
          0.348696,
          0.3975,
          0.4425,
          0.495,
          0.606667,
          0.664167,
          0.608333,
          0.463333,
          0.498333,
          0.526667,
          0.57,
          0.396667,
          0.321667,
          0.413333,
          0.476667,
          0.498333,
          0.4575,
          0.376667,
          0.458333,
          0.464167,
          0.613333,
          0.564167,
          0.56,
          0.6275,
          0.621667,
          0.5625,
          0.5375,
          0.581667,
          0.575,
          0.505833,
          0.533333,
          0.564167,
          0.6125,
          0.573333,
          0.611667,
          0.636667,
          0.593333,
          0.564167,
          0.6,
          0.620833,
          0.598333,
          0.615,
          0.621667,
          0.655,
          0.68,
          0.6925,
          0.69,
          0.7125,
          0.7225,
          0.656667,
          0.68,
          0.654167,
          0.583333,
          0.6025,
          0.5975,
          0.540833,
          0.554167,
          0.6025,
          0.649167,
          0.710833,
          0.726667,
          0.720833,
          0.653333,
          0.655833,
          0.648333,
          0.639167,
          0.631667,
          0.5925,
          0.568333,
          0.688333,
          0.7825,
          0.805833,
          0.7775,
          0.731667,
          0.743333,
          0.715833,
          0.630833,
          0.6975,
          0.749167,
          0.834167,
          0.765,
          0.815833,
          0.781667,
          0.780833,
          0.789167,
          0.8275,
          0.828333,
          0.861667,
          0.8225,
          0.710833,
          0.720833,
          0.716667,
          0.715833,
          0.731667,
          0.703333,
          0.745833,
          0.763333,
          0.818333,
          0.793333,
          0.77,
          0.665833,
          0.595833,
          0.6675,
          0.741667,
          0.750833,
          0.724167,
          0.776667,
          0.781667,
          0.755833,
          0.721667,
          0.730833,
          0.713333,
          0.7175,
          0.7525,
          0.765833,
          0.793333,
          0.769167,
          0.7525,
          0.735833,
          0.75,
          0.755833,
          0.715833,
          0.6925,
          0.700833,
          0.720833,
          0.726667,
          0.706667,
          0.719167,
          0.723333,
          0.678333,
          0.635833,
          0.635833,
          0.649167,
          0.6675,
          0.695833,
          0.7025,
          0.661667,
          0.653333,
          0.703333,
          0.728333,
          0.685,
          0.706667,
          0.764167,
          0.753333,
          0.696667,
          0.7075,
          0.725833,
          0.736667,
          0.696667,
          0.703333,
          0.659167,
          0.61,
          0.583333,
          0.5775,
          0.599167,
          0.6125,
          0.633333,
          0.608333,
          0.58,
          0.580833,
          0.623333,
          0.5525,
          0.546667,
          0.599167,
          0.65,
          0.529167,
          0.514167,
          0.55,
          0.635,
          0.65,
          0.619167,
          0.5425,
          0.526667,
          0.520833,
          0.590833,
          0.6575,
          0.6575,
          0.615,
          0.554167,
          0.415833,
          0.383333,
          0.446667,
          0.514167,
          0.435,
          0.4375,
          0.393333,
          0.521667,
          0.561667,
          0.468333,
          0.455833,
          0.5225,
          0.563333,
          0.484167,
          0.464167,
          0.4875,
          0.544167,
          0.5875,
          0.55,
          0.545833,
          0.53,
          0.4775,
          0.44,
          0.318182,
          0.3575,
          0.365833,
          0.355,
          0.343333,
          0.325833,
          0.319167,
          0.280833,
          0.295833,
          0.352174,
          0.361667,
          0.389167,
          0.420833,
          0.485,
          0.343333,
          0.289167,
          0.321667,
          0.345,
          0.325,
          0.3425,
          0.380833,
          0.374167,
          0.353333,
          0.34,
          0.368333,
          0.278333,
          0.245833,
          0.313333,
          0.291667,
          0.296667,
          0.28087,
          0.298333,
          0.298333,
          0.3475,
          0.4525,
          0.475833,
          0.438333,
          0.255833,
          0.320833,
          0.381667,
          0.384167,
          0.435833,
          0.353333,
          0.2975,
          0.295833,
          0.281667,
          0.324167,
          0.3625,
          0.393333,
          0.410833,
          0.3325,
          0.33,
          0.326667,
          0.265833,
          0.245833,
          0.231304,
          0.291304,
          0.243333,
          0.254167,
          0.253333,
          0.253333,
          0.255833,
          0.215833
         ],
         "xaxis": "x",
         "y": [
          654,
          670,
          1229,
          1454,
          1518,
          1518,
          1362,
          891,
          768,
          1280,
          1220,
          1137,
          1368,
          1367,
          1026,
          953,
          883,
          674,
          1572,
          1844,
          1468,
          888,
          836,
          1330,
          1799,
          472,
          416,
          1129,
          975,
          956,
          1459,
          1313,
          1454,
          1489,
          1620,
          905,
          1269,
          1592,
          1466,
          1552,
          1491,
          1597,
          1184,
          1192,
          1705,
          1675,
          1897,
          2216,
          2348,
          1103,
          1173,
          912,
          1376,
          1778,
          1707,
          1341,
          1545,
          1708,
          1365,
          1714,
          1903,
          1562,
          1730,
          1437,
          491,
          1628,
          1817,
          1700,
          577,
          1730,
          1408,
          1435,
          1687,
          1767,
          1871,
          2320,
          2355,
          1693,
          1424,
          1676,
          2243,
          1918,
          1699,
          1910,
          1515,
          1221,
          1806,
          2108,
          1368,
          1506,
          1920,
          1354,
          1598,
          2381,
          1628,
          2395,
          2570,
          1299,
          1576,
          1707,
          2493,
          1777,
          1953,
          2738,
          2484,
          674,
          2186,
          2760,
          2795,
          3331,
          3444,
          1506,
          2574,
          2481,
          3300,
          3722,
          3325,
          3489,
          3717,
          3347,
          2213,
          3554,
          3848,
          2378,
          3819,
          3714,
          3102,
          2932,
          3698,
          4109,
          3632,
          4169,
          3413,
          2507,
          2971,
          3185,
          3445,
          3319,
          3840,
          4008,
          3547,
          3084,
          3438,
          3833,
          4238,
          3919,
          3808,
          2757,
          2433,
          2549,
          3309,
          3461,
          4232,
          4414,
          3473,
          3221,
          3875,
          4070,
          3725,
          3352,
          3771,
          3237,
          2993,
          4157,
          4164,
          4411,
          3222,
          3981,
          3312,
          3105,
          3311,
          4061,
          3846,
          4044,
          4022,
          3420,
          3385,
          3854,
          3916,
          4377,
          4488,
          4116,
          2915,
          2367,
          2978,
          3634,
          3845,
          3838,
          3348,
          3348,
          3138,
          3363,
          3596,
          3594,
          4196,
          4220,
          3505,
          3296,
          3617,
          3789,
          3688,
          3152,
          2825,
          2298,
          2556,
          3272,
          3840,
          3901,
          3784,
          3176,
          2916,
          2778,
          3537,
          4044,
          3107,
          3777,
          3843,
          2773,
          2487,
          3480,
          3695,
          3896,
          3980,
          3854,
          2646,
          2482,
          3563,
          4004,
          4026,
          3166,
          3356,
          3277,
          2624,
          3925,
          4614,
          4181,
          3107,
          3893,
          889,
          2919,
          3905,
          4429,
          4370,
          4332,
          3852,
          2549,
          2419,
          2115,
          2506,
          1878,
          1689,
          3127,
          3595,
          3413,
          4023,
          4062,
          4138,
          3231,
          4018,
          3077,
          2921,
          3848,
          3203,
          3813,
          4240,
          2137,
          3647,
          3466,
          3946,
          3643,
          3427,
          4186,
          4372,
          1949,
          2302,
          3240,
          3970,
          4267,
          4126,
          4036,
          3174,
          3114,
          3603,
          3896,
          2199,
          2623,
          3115,
          3318,
          3293,
          3857,
          4111,
          2170,
          3724,
          3628,
          2809,
          2762,
          3488,
          3992,
          3490,
          2419,
          3291,
          570,
          2446,
          3307,
          3658,
          3816,
          3656,
          3576,
          2770,
          2697,
          3662,
          3829,
          3804,
          2743,
          2928,
          2792,
          2713,
          3891,
          3746,
          1672,
          2914,
          3147,
          2720,
          2733,
          2545,
          1538,
          2454,
          935,
          1697,
          1819,
          2261,
          3614,
          2818,
          3425,
          3545,
          3672,
          2908,
          2851,
          3578,
          2468,
          655,
          3172,
          3359,
          2688,
          2366,
          3167,
          3368,
          3562,
          3528,
          3399,
          2464,
          2211,
          3143,
          3534,
          2553,
          2841,
          2046,
          856,
          451,
          887,
          1059,
          2047,
          2169,
          2508,
          1820,
          1608,
          1707,
          2147,
          2273,
          3132,
          3791,
          3451,
          2826,
          2270,
          3425,
          2085,
          3828,
          3040,
          2160,
          2027,
          2081,
          2808,
          3267,
          3162,
          3048,
          1234,
          1781,
          2287,
          3900,
          3803,
          3831,
          3187,
          3248,
          2685,
          3498,
          4185,
          4275,
          3571,
          3841,
          2448,
          2629,
          3578,
          4176,
          2693,
          3667,
          3604,
          1977,
          1456,
          3328,
          3787,
          4028,
          2931,
          3805,
          2883,
          2071,
          2627,
          3614,
          4379,
          4546,
          3241,
          2415,
          2874,
          4069,
          4134,
          1769,
          4665,
          2948,
          3110,
          2713,
          3130,
          3735,
          4484,
          4896,
          4122,
          3150,
          3253,
          4460,
          5085,
          5315,
          5187,
          3830,
          4681,
          3685,
          5171,
          5042,
          5108,
          5537,
          5893,
          2339,
          3464,
          4763,
          4571,
          5024,
          5299,
          4663,
          3934,
          3694,
          4728,
          5424,
          5378,
          5265,
          4653,
          3605,
          2939,
          4680,
          5099,
          4380,
          4746,
          5146,
          4665,
          4286,
          5172,
          5702,
          4020,
          5719,
          5950,
          4083,
          907,
          3019,
          5115,
          5541,
          4551,
          5219,
          3100,
          4075,
          4907,
          5087,
          5502,
          5657,
          5227,
          4387,
          4224,
          5265,
          4990,
          4097,
          5546,
          5711,
          4807,
          3946,
          2501,
          4490,
          6433,
          6142,
          6118,
          4884,
          4425,
          3729,
          5254,
          4494,
          5711,
          5317,
          3681,
          3308,
          3486,
          4863,
          6110,
          6238,
          3594,
          5325,
          5147,
          5927,
          6033,
          6028,
          6456,
          6248,
          4790,
          4374,
          5647,
          4495,
          6248,
          6183,
          6102,
          4739,
          4344,
          4446,
          5857,
          5339,
          5127,
          4859,
          4801,
          4340,
          5640,
          6365,
          6258,
          5958,
          4634,
          4232,
          4110,
          5323,
          5608,
          4841,
          4836,
          4841,
          3392,
          3469,
          5571,
          5336,
          6289,
          6414,
          5988,
          4614,
          4111,
          5742,
          5865,
          4914,
          5703,
          5123,
          3195,
          4866,
          5831,
          6452,
          6790,
          5825,
          5645,
          4451,
          4444,
          6065,
          6248,
          6506,
          6278,
          5847,
          4479,
          3757,
          5780,
          5995,
          6271,
          6090,
          4721,
          4052,
          4362,
          5676,
          5656,
          6149,
          6267,
          5665,
          5038,
          3341,
          5504,
          5925,
          6281,
          6402,
          6257,
          4224,
          3772,
          5928,
          6105,
          6520,
          6541,
          5917,
          3788,
          3197,
          4069,
          5997,
          6280,
          5592,
          6459,
          4419,
          5657,
          6407,
          6697,
          6820,
          6750,
          6630,
          5554,
          5167,
          5847,
          3702,
          6803,
          6781,
          6917,
          5883,
          5453,
          6435,
          6693,
          6946,
          6642,
          6370,
          5966,
          4874,
          6015,
          4324,
          6844,
          6437,
          6640,
          4934,
          2729,
          4604,
          5791,
          6911,
          6736,
          6222,
          4857,
          4559,
          5115,
          6612,
          6482,
          6501,
          4671,
          5284,
          4692,
          6228,
          6625,
          6898,
          6484,
          6262,
          5209,
          3461,
          20,
          1009,
          5147,
          5520,
          5229,
          4109,
          3906,
          4881,
          5220,
          4709,
          4975,
          5283,
          4446,
          4562,
          5172,
          3767,
          5122,
          5125,
          5214,
          4316,
          3747,
          5050,
          5100,
          4531,
          1470,
          2307,
          1745,
          2115,
          4750,
          3836,
          5062,
          5080,
          5306,
          4240,
          3757,
          5679,
          6055,
          5398,
          5035,
          4659,
          4429,
          2787,
          4841,
          5219,
          5009,
          5107,
          5182,
          4280,
          3248,
          4373,
          5124,
          4934,
          3814,
          3402,
          1544,
          1379,
          746,
          573,
          432,
          1867,
          2451,
          1182,
          1432,
          2290
         ],
         "yaxis": "y"
        },
        {
         "hovertemplate": "<b>OLS trendline</b><br>registered = 4602.85 * temp + 1375.99<br>R<sup>2</sup>=0.291613<br><br>Suhu=%{x}<br>Jumlah Pengguna Terdaftar=%{y} <b>(trend)</b><extra></extra>",
         "legendgroup": "",
         "marker": {
          "symbol": "circle"
         },
         "mode": "lines",
         "name": "",
         "showlegend": false,
         "type": "scatter",
         "x": [
          0.0591304,
          0.0965217,
          0.0973913,
          0.1075,
          0.1275,
          0.134783,
          0.138333,
          0.144348,
          0.15,
          0.150833,
          0.16087,
          0.1625,
          0.165,
          0.165,
          0.166667,
          0.169091,
          0.172727,
          0.173333,
          0.175833,
          0.1775,
          0.18,
          0.180833,
          0.182222,
          0.186957,
          0.189091,
          0.19,
          0.19,
          0.192174,
          0.195,
          0.196364,
          0.196522,
          0.196522,
          0.198333,
          0.2,
          0.203478,
          0.204348,
          0.211304,
          0.215833,
          0.216522,
          0.216667,
          0.2175,
          0.2175,
          0.218333,
          0.220833,
          0.220833,
          0.221739,
          0.2225,
          0.2225,
          0.223478,
          0.224167,
          0.224167,
          0.226957,
          0.231304,
          0.231667,
          0.233333,
          0.233333,
          0.238333,
          0.238333,
          0.243333,
          0.243333,
          0.245833,
          0.245833,
          0.248333,
          0.253043,
          0.253333,
          0.253333,
          0.254167,
          0.254167,
          0.255833,
          0.255833,
          0.256667,
          0.258333,
          0.258333,
          0.26,
          0.261667,
          0.261667,
          0.261739,
          0.264167,
          0.264167,
          0.264348,
          0.265,
          0.265833,
          0.265833,
          0.265833,
          0.265833,
          0.265833,
          0.266087,
          0.266667,
          0.268333,
          0.269167,
          0.271667,
          0.273043,
          0.274167,
          0.274167,
          0.274167,
          0.274783,
          0.275,
          0.276667,
          0.278333,
          0.279167,
          0.28,
          0.28,
          0.280833,
          0.280833,
          0.28087,
          0.281667,
          0.2825,
          0.2825,
          0.2825,
          0.282609,
          0.285,
          0.285217,
          0.285833,
          0.2875,
          0.287826,
          0.289167,
          0.290833,
          0.290833,
          0.291304,
          0.291667,
          0.292174,
          0.2925,
          0.294167,
          0.295652,
          0.295833,
          0.295833,
          0.295833,
          0.296667,
          0.2975,
          0.298333,
          0.298333,
          0.29913,
          0.299167,
          0.3,
          0.3,
          0.3025,
          0.3025,
          0.303333,
          0.303333,
          0.308696,
          0.311667,
          0.3125,
          0.313333,
          0.313333,
          0.314167,
          0.315,
          0.315833,
          0.316522,
          0.316522,
          0.316667,
          0.317391,
          0.3175,
          0.318182,
          0.318261,
          0.319167,
          0.319167,
          0.319167,
          0.320833,
          0.321667,
          0.321667,
          0.321739,
          0.323333,
          0.324167,
          0.324167,
          0.325,
          0.325,
          0.325,
          0.325217,
          0.325833,
          0.325833,
          0.326667,
          0.326667,
          0.329167,
          0.329167,
          0.33,
          0.330833,
          0.330833,
          0.3325,
          0.3325,
          0.334167,
          0.335,
          0.335833,
          0.336667,
          0.3375,
          0.34,
          0.34,
          0.341667,
          0.341667,
          0.3425,
          0.3425,
          0.3425,
          0.343333,
          0.343333,
          0.343333,
          0.343478,
          0.344167,
          0.344348,
          0.345,
          0.346667,
          0.346957,
          0.3475,
          0.348333,
          0.348333,
          0.348696,
          0.352174,
          0.353333,
          0.353333,
          0.353333,
          0.354167,
          0.355,
          0.356667,
          0.356667,
          0.3575,
          0.359167,
          0.361667,
          0.361739,
          0.3625,
          0.363478,
          0.364348,
          0.365217,
          0.365833,
          0.366667,
          0.368333,
          0.37,
          0.37,
          0.373043,
          0.373333,
          0.373333,
          0.374167,
          0.375,
          0.375,
          0.375833,
          0.376522,
          0.376667,
          0.3775,
          0.378333,
          0.38,
          0.380833,
          0.381667,
          0.3825,
          0.383333,
          0.384167,
          0.384167,
          0.384167,
          0.384348,
          0.385833,
          0.385833,
          0.389091,
          0.389167,
          0.39,
          0.390833,
          0.393333,
          0.393333,
          0.393333,
          0.395,
          0.395833,
          0.396667,
          0.3975,
          0.399167,
          0.399167,
          0.4,
          0.400833,
          0.403333,
          0.403333,
          0.404167,
          0.407273,
          0.4075,
          0.408333,
          0.408333,
          0.41,
          0.41,
          0.41,
          0.410833,
          0.410833,
          0.4125,
          0.413333,
          0.414167,
          0.414167,
          0.414167,
          0.415,
          0.415,
          0.415833,
          0.416667,
          0.420833,
          0.421667,
          0.4225,
          0.4225,
          0.423333,
          0.424167,
          0.425,
          0.425833,
          0.426667,
          0.4275,
          0.428333,
          0.430435,
          0.430833,
          0.433913,
          0.435,
          0.435,
          0.435833,
          0.435833,
          0.435833,
          0.4375,
          0.4375,
          0.4375,
          0.4375,
          0.438333,
          0.44,
          0.440833,
          0.440833,
          0.441667,
          0.4425,
          0.445833,
          0.446667,
          0.446667,
          0.446667,
          0.4475,
          0.451667,
          0.4525,
          0.454167,
          0.455833,
          0.456667,
          0.456667,
          0.4575,
          0.458333,
          0.458333,
          0.459167,
          0.459167,
          0.459167,
          0.46,
          0.4625,
          0.463333,
          0.463333,
          0.463333,
          0.464167,
          0.464167,
          0.466667,
          0.466667,
          0.4675,
          0.468333,
          0.469167,
          0.469167,
          0.47,
          0.471667,
          0.4725,
          0.4725,
          0.4725,
          0.475833,
          0.475833,
          0.476667,
          0.4775,
          0.479167,
          0.484167,
          0.484167,
          0.484167,
          0.484167,
          0.485,
          0.485833,
          0.4875,
          0.489167,
          0.491667,
          0.494167,
          0.494167,
          0.495,
          0.498333,
          0.498333,
          0.5,
          0.5025,
          0.5025,
          0.503478,
          0.505833,
          0.505833,
          0.506667,
          0.5075,
          0.51,
          0.510833,
          0.511667,
          0.5125,
          0.5125,
          0.514167,
          0.514167,
          0.514167,
          0.52,
          0.520833,
          0.520833,
          0.521667,
          0.521667,
          0.521667,
          0.5225,
          0.526667,
          0.526667,
          0.5275,
          0.528333,
          0.529167,
          0.53,
          0.53,
          0.53,
          0.530833,
          0.531667,
          0.5325,
          0.5325,
          0.5325,
          0.533333,
          0.534167,
          0.535,
          0.536667,
          0.5375,
          0.538333,
          0.54,
          0.54,
          0.540833,
          0.540833,
          0.541667,
          0.541739,
          0.5425,
          0.5425,
          0.543333,
          0.544167,
          0.545,
          0.545833,
          0.546667,
          0.549167,
          0.549167,
          0.55,
          0.55,
          0.55,
          0.550833,
          0.5525,
          0.554167,
          0.554167,
          0.554167,
          0.5575,
          0.56,
          0.560833,
          0.561667,
          0.561667,
          0.561667,
          0.5625,
          0.5625,
          0.563333,
          0.564167,
          0.564167,
          0.564167,
          0.564167,
          0.565,
          0.566667,
          0.568333,
          0.57,
          0.570833,
          0.5725,
          0.573333,
          0.573333,
          0.575,
          0.5775,
          0.5775,
          0.5775,
          0.58,
          0.580833,
          0.581667,
          0.581667,
          0.583333,
          0.583333,
          0.5875,
          0.589167,
          0.590833,
          0.5925,
          0.593333,
          0.595,
          0.595,
          0.595652,
          0.595833,
          0.5975,
          0.598333,
          0.599167,
          0.599167,
          0.599167,
          0.6,
          0.601667,
          0.6025,
          0.6025,
          0.6025,
          0.604167,
          0.604167,
          0.606667,
          0.606667,
          0.606667,
          0.608333,
          0.608333,
          0.609167,
          0.61,
          0.611667,
          0.6125,
          0.6125,
          0.613333,
          0.615,
          0.615,
          0.616667,
          0.616667,
          0.6175,
          0.619167,
          0.62,
          0.62,
          0.620833,
          0.621667,
          0.621667,
          0.623333,
          0.626667,
          0.6275,
          0.628333,
          0.628333,
          0.630833,
          0.631667,
          0.631667,
          0.631667,
          0.633333,
          0.633913,
          0.634167,
          0.635,
          0.635,
          0.635,
          0.635,
          0.635,
          0.635833,
          0.635833,
          0.636667,
          0.636667,
          0.636667,
          0.639167,
          0.639167,
          0.640833,
          0.643333,
          0.644348,
          0.648333,
          0.648333,
          0.649167,
          0.649167,
          0.649167,
          0.649167,
          0.65,
          0.65,
          0.65,
          0.650833,
          0.653333,
          0.653333,
          0.653333,
          0.654167,
          0.655,
          0.655,
          0.655833,
          0.655833,
          0.656667,
          0.656667,
          0.6575,
          0.6575,
          0.659167,
          0.66,
          0.66,
          0.660833,
          0.661667,
          0.663333,
          0.664167,
          0.665833,
          0.665833,
          0.6675,
          0.6675,
          0.6675,
          0.669167,
          0.673333,
          0.673333,
          0.673333,
          0.676667,
          0.678333,
          0.678333,
          0.68,
          0.68,
          0.68,
          0.68,
          0.680833,
          0.680833,
          0.681667,
          0.6825,
          0.684167,
          0.685,
          0.685,
          0.685833,
          0.686667,
          0.688333,
          0.69,
          0.691667,
          0.6925,
          0.6925,
          0.6925,
          0.695,
          0.695833,
          0.696667,
          0.696667,
          0.696667,
          0.696667,
          0.6975,
          0.6975,
          0.699167,
          0.7,
          0.700833,
          0.700833,
          0.7025,
          0.703333,
          0.703333,
          0.703333,
          0.706667,
          0.706667,
          0.707059,
          0.7075,
          0.7075,
          0.708333,
          0.708333,
          0.709167,
          0.709167,
          0.71,
          0.710833,
          0.710833,
          0.710833,
          0.710833,
          0.711667,
          0.7125,
          0.713333,
          0.715,
          0.715833,
          0.715833,
          0.715833,
          0.716667,
          0.716667,
          0.716667,
          0.7175,
          0.7175,
          0.719167,
          0.719167,
          0.72,
          0.720833,
          0.720833,
          0.720833,
          0.721667,
          0.7225,
          0.7225,
          0.723333,
          0.723333,
          0.724167,
          0.724167,
          0.725,
          0.725833,
          0.726667,
          0.726667,
          0.726667,
          0.728333,
          0.728333,
          0.728333,
          0.730833,
          0.731667,
          0.731667,
          0.731667,
          0.733333,
          0.733333,
          0.733333,
          0.735833,
          0.736667,
          0.738333,
          0.741667,
          0.7425,
          0.743333,
          0.743333,
          0.744167,
          0.745833,
          0.746667,
          0.746667,
          0.746667,
          0.7475,
          0.749167,
          0.75,
          0.75,
          0.750833,
          0.7525,
          0.7525,
          0.753333,
          0.755,
          0.755833,
          0.755833,
          0.7625,
          0.763333,
          0.764167,
          0.764167,
          0.765,
          0.765,
          0.765833,
          0.766667,
          0.768333,
          0.769167,
          0.77,
          0.771667,
          0.771667,
          0.775,
          0.775,
          0.775,
          0.775833,
          0.776667,
          0.776667,
          0.7775,
          0.779167,
          0.780833,
          0.781667,
          0.781667,
          0.7825,
          0.783333,
          0.789167,
          0.793333,
          0.793333,
          0.794167,
          0.804167,
          0.805833,
          0.805833,
          0.808333,
          0.815,
          0.815833,
          0.818333,
          0.8225,
          0.8275,
          0.828333,
          0.83,
          0.834167,
          0.838333,
          0.848333,
          0.849167,
          0.861667
         ],
         "xaxis": "x",
         "y": [
          1648.1568610860693,
          1820.2635771439652,
          1824.2662194774477,
          1870.7950954623548,
          1962.8521868487978,
          1996.3747766771712,
          2012.7149103982651,
          2040.4010806327378,
          2066.4164146585467,
          2070.250592514792,
          2116.4494438270785,
          2123.9520967750736,
          2135.459233198379,
          2135.459233198379,
          2143.1321917654395,
          2154.2895112414762,
          2171.0254904555313,
          2173.814820324541,
          2185.3219567478463,
          2192.9949153149064,
          2204.502051738212,
          2208.336229594457,
          2214.7295945912456,
          2236.524110976986,
          2246.3466026279193,
          2250.5305974314333,
          2250.5305974314333,
          2260.53720326514,
          2273.544870278044,
          2279.8231639105998,
          2280.5504149325525,
          2280.5504149325525,
          2288.886184557595,
          2296.559143124655,
          2312.567871316757,
          2316.572354792068,
          2348.5898111762726,
          2369.436139520733,
          2372.6075063189955,
          2373.274920231547,
          2377.109098087793,
          2377.109098087793,
          2380.9432759440383,
          2392.4504123673437,
          2392.4504123673437,
          2396.6205986071495,
          2400.1233709344037,
          2400.1233709344037,
          2404.6249627032007,
          2407.796329501464,
          2407.796329501464,
          2420.6382937498724,
          2440.6469025627157,
          2442.31773877138,
          2449.9860944838706,
          2449.9860944838706,
          2473.0003673304814,
          2473.0003673304814,
          2496.0146401770926,
          2496.0146401770926,
          2507.521776600398,
          2507.521776600398,
          2519.0289130237034,
          2540.708358045211,
          2542.043185870314,
          2542.043185870314,
          2545.881966581129,
          2545.881966581129,
          2553.5503222936195,
          2553.5503222936195,
          2557.389103004434,
          2565.057458716925,
          2565.057458716925,
          2572.730417283985,
          2580.403375851045,
          2580.403375851045,
          2580.734781380036,
          2591.9105122743504,
          2591.9105122743504,
          2592.743628951398,
          2595.7446901305957,
          2599.578867986841,
          2599.578867986841,
          2599.578867986841,
          2599.578867986841,
          2599.578867986841,
          2600.747993047449,
          2603.4176486976557,
          2611.0860044101464,
          2614.924785120961,
          2626.4319215442665,
          2632.765449431654,
          2637.939057967572,
          2637.939057967572,
          2637.939057967572,
          2640.7744163822745,
          2641.7732358238172,
          2649.4461943908773,
          2657.114550103368,
          2660.9533308141827,
          2664.787508670428,
          2664.787508670428,
          2668.6216865266733,
          2668.6216865266733,
          2668.7919921457387,
          2672.460467237488,
          2676.2946450937334,
          2676.2946450937334,
          2676.2946450937334,
          2676.79635624179,
          2687.8017815170388,
          2688.8006009585815,
          2691.635959373284,
          2699.308917940344,
          2700.8094485299434,
          2706.981876507404,
          2714.650232219895,
          2714.650232219895,
          2716.818176722046,
          2718.4890129307096,
          2720.822660197356,
          2722.323190786955,
          2729.996149354015,
          2736.831388389459,
          2737.664505066506,
          2737.664505066506,
          2737.664505066506,
          2741.503285777321,
          2745.3374636335657,
          2749.1716414898115,
          2749.1716414898115,
          2752.8401165815612,
          2753.010422200626,
          2756.844600056871,
          2756.844600056871,
          2768.351736480177,
          2768.351736480177,
          2772.1859143364222,
          2772.1859143364222,
          2796.8710233916972,
          2810.5461043171535,
          2814.3802821733984,
          2818.2144600296438,
          2818.2144600296438,
          2822.0532407404585,
          2825.887418596704,
          2829.721596452949,
          2832.8929632512127,
          2832.8929632512127,
          2833.560377163764,
          2836.892843871953,
          2837.3945550200096,
          2840.533701836287,
          2840.897327347264,
          2845.0675135870692,
          2845.0675135870692,
          2845.0675135870692,
          2852.73586929956,
          2856.5746500103746,
          2856.5746500103746,
          2856.906055539366,
          2864.2430057228657,
          2868.08178643368,
          2868.08178643368,
          2871.915964289926,
          2871.915964289926,
          2871.915964289926,
          2872.9147837314686,
          2875.750142146171,
          2875.750142146171,
          2879.588922856986,
          2879.588922856986,
          2891.0960592802912,
          2891.0960592802912,
          2894.9302371365366,
          2898.764414992782,
          2898.764414992782,
          2906.437373559842,
          2906.437373559842,
          2914.110332126902,
          2917.9445099831473,
          2921.7786878393927,
          2925.6174685502074,
          2929.4516464064527,
          2940.958782829758,
          2940.958782829758,
          2948.631741396818,
          2948.631741396818,
          2952.4659192530635,
          2952.4659192530635,
          2952.4659192530635,
          2956.300097109309,
          2956.300097109309,
          2956.300097109309,
          2956.9675110218604,
          2960.1388778201235,
          2960.9719944971707,
          2963.973055676369,
          2971.646014243429,
          2972.980842068532,
          2975.4801920996742,
          2979.3143699559196,
          2979.3143699559196,
          2980.9852061645834,
          2996.9939343566857,
          3002.3286428025303,
          3002.3286428025303,
          3002.3286428025303,
          3006.167423513345,
          3010.0016013695904,
          3017.6745599366504,
          3017.6745599366504,
          3021.5087377928958,
          3029.181696359956,
          3040.688832783261,
          3041.0202383122523,
          3044.5230106395065,
          3049.024602408304,
          3053.0290858836142,
          3057.028966504355,
          3059.8643249190577,
          3063.703105629872,
          3071.371461342363,
          3079.0444199094227,
          3079.0444199094227,
          3093.05090636387,
          3094.385734188974,
          3094.385734188974,
          3098.2245148997886,
          3102.058692756034,
          3102.058692756034,
          3105.892870612279,
          3109.0642374105423,
          3109.7316513230935,
          3113.5658291793393,
          3117.400007035584,
          3125.0729656026447,
          3128.9071434588895,
          3132.7459241697043,
          3136.58010202595,
          3140.4142798821954,
          3144.2530605930096,
          3144.2530605930096,
          3144.2530605930096,
          3145.0861772700573,
          3151.9214163055008,
          3151.9214163055008,
          3166.9175164923527,
          3167.267333439621,
          3171.1015112958667,
          3174.9356891521115,
          3186.442825575417,
          3186.442825575417,
          3186.442825575417,
          3194.1157841424774,
          3197.9499619987223,
          3201.788742709537,
          3205.622920565783,
          3213.295879132843,
          3213.295879132843,
          3217.130056989088,
          3220.9642348453335,
          3232.471371268639,
          3232.471371268639,
          3236.3101519794536,
          3250.6066182717677,
          3251.6514662590043,
          3255.4856441152497,
          3255.4856441152497,
          3263.1586026823097,
          3263.1586026823097,
          3263.1586026823097,
          3266.992780538555,
          3266.992780538555,
          3274.665739105615,
          3278.4999169618604,
          3282.338697672675,
          3282.338697672675,
          3282.338697672675,
          3286.1728755289205,
          3286.1728755289205,
          3290.007053385166,
          3293.8458340959805,
          3313.0213262317766,
          3316.8601069425913,
          3320.6942847988366,
          3320.6942847988366,
          3324.528462655082,
          3328.3672433658967,
          3332.201421222142,
          3336.0355990783873,
          3339.874379789202,
          3343.7085576454474,
          3347.5427355016927,
          3357.217935806408,
          3359.049871924998,
          3373.2266639985105,
          3378.2299669153635,
          3378.2299669153635,
          3382.064144771609,
          3382.064144771609,
          3382.064144771609,
          3389.737103338669,
          3389.737103338669,
          3389.737103338669,
          3389.737103338669,
          3393.5712811949143,
          3401.2442397619743,
          3405.0784176182196,
          3405.0784176182196,
          3408.9171983290344,
          3412.7513761852797,
          3428.0926904648304,
          3431.931471175645,
          3431.931471175645,
          3431.931471175645,
          3435.765649031891,
          3454.9457440222563,
          3458.7799218785017,
          3466.4528804455617,
          3474.1212361580524,
          3477.960016868867,
          3477.960016868867,
          3481.7941947251124,
          3485.628372581358,
          3485.628372581358,
          3489.4671532921725,
          3489.4671532921725,
          3489.4671532921725,
          3493.301331148418,
          3504.808467571723,
          3508.6426454279685,
          3508.6426454279685,
          3508.6426454279685,
          3512.4814261387833,
          3512.4814261387833,
          3523.9885625620886,
          3523.9885625620886,
          3527.822740418334,
          3531.6569182745793,
          3535.495698985394,
          3535.495698985394,
          3539.3298768416394,
          3547.0028354086994,
          3550.8370132649447,
          3550.8370132649447,
          3550.8370132649447,
          3566.1783275444955,
          3566.1783275444955,
          3570.01710825531,
          3573.8512861115555,
          3581.524244678616,
          3604.538517525227,
          3604.538517525227,
          3604.538517525227,
          3604.538517525227,
          3608.3726953814717,
          3612.2068732377174,
          3619.8798318047775,
          3627.5527903718375,
          3639.059926795143,
          3650.5670632184483,
          3650.5670632184483,
          3654.4012410746936,
          3669.7425553542444,
          3669.7425553542444,
          3677.4155139213044,
          3688.92265034461,
          3688.92265034461,
          3693.4242421134068,
          3704.2639646241605,
          3704.2639646241605,
          3708.102745334975,
          3711.9369231912206,
          3723.444059614526,
          3727.2782374707713,
          3731.117018181586,
          3734.9511960378313,
          3734.9511960378313,
          3742.624154604892,
          3742.624154604892,
          3742.624154604892,
          3769.472605307748,
          3773.306783163993,
          3773.306783163993,
          3777.1455638748075,
          3777.1455638748075,
          3777.1455638748075,
          3780.979741731053,
          3800.1598367214187,
          3800.1598367214187,
          3803.9940145776636,
          3807.8281924339094,
          3811.666973144724,
          3815.5011510009695,
          3815.5011510009695,
          3815.5011510009695,
          3819.335328857215,
          3823.1741095680295,
          3827.008287424275,
          3827.008287424275,
          3827.008287424275,
          3830.8424652805197,
          3834.6812459913344,
          3838.51542384758,
          3846.1883824146403,
          3850.0225602708856,
          3853.856738127131,
          3861.529696694191,
          3861.529696694191,
          3865.3638745504363,
          3865.3638745504363,
          3869.202655261251,
          3869.534060790242,
          3873.0368331174964,
          3873.0368331174964,
          3876.8710109737417,
          3880.7097916845564,
          3884.543969540802,
          3888.378147397047,
          3892.216928107862,
          3903.724064531167,
          3903.724064531167,
          3907.558242387413,
          3907.558242387413,
          3907.558242387413,
          3911.3924202436583,
          3919.065378810718,
          3926.738337377778,
          3926.738337377778,
          3926.738337377778,
          3942.0796516573287,
          3953.5867880806345,
          3957.42096593688,
          3961.2597466476946,
          3961.2597466476946,
          3961.2597466476946,
          3965.09392450394,
          3965.09392450394,
          3968.9281023601848,
          3972.7668830709995,
          3972.7668830709995,
          3972.7668830709995,
          3972.7668830709995,
          3976.601060927245,
          3984.2740194943053,
          3991.942375206796,
          3999.6153337738556,
          4003.4495116301014,
          4011.1224701971614,
          4014.9566480534068,
          4014.9566480534068,
          4022.629606620467,
          4034.136743043772,
          4034.136743043772,
          4034.136743043772,
          4045.6438794670776,
          4049.4780573233234,
          4053.316838034138,
          4053.316838034138,
          4060.9851937466283,
          4060.9851937466283,
          4080.1652887369937,
          4087.8382473040538,
          4095.506603016545,
          4103.179561583605,
          4107.01373943985,
          4114.68669800691,
          4114.68669800691,
          4117.687759186108,
          4118.520875863155,
          4126.193834430216,
          4130.028012286461,
          4133.866792997276,
          4133.866792997276,
          4133.866792997276,
          4137.700970853521,
          4145.373929420581,
          4149.208107276827,
          4149.208107276827,
          4149.208107276827,
          4156.881065843887,
          4156.881065843887,
          4168.388202267191,
          4168.388202267191,
          4168.388202267191,
          4176.056557979682,
          4176.056557979682,
          4179.895338690498,
          4183.729516546742,
          4191.402475113802,
          4195.236652970048,
          4195.236652970048,
          4199.070830826293,
          4206.743789393353,
          4206.743789393353,
          4214.416747960413,
          4214.416747960413,
          4218.250925816659,
          4225.923884383719,
          4229.758062239964,
          4229.758062239964,
          4233.59224009621,
          4237.431020807024,
          4237.431020807024,
          4245.099376519515,
          4260.4452936536345,
          4264.279471509881,
          4268.113649366126,
          4268.113649366126,
          4279.6207857894315,
          4283.459566500245,
          4283.459566500245,
          4283.459566500245,
          4291.127922212737,
          4293.797577862943,
          4294.966702923552,
          4298.800880779797,
          4298.800880779797,
          4298.800880779797,
          4298.800880779797,
          4298.800880779797,
          4302.635058636042,
          4302.635058636042,
          4306.473839346856,
          4306.473839346856,
          4306.473839346856,
          4317.980975770162,
          4317.980975770162,
          4325.649331482653,
          4337.156467905958,
          4341.828365293821,
          4360.170740752569,
          4360.170740752569,
          4364.009521463384,
          4364.009521463384,
          4364.009521463384,
          4364.009521463384,
          4367.843699319629,
          4367.843699319629,
          4367.843699319629,
          4371.6778771758745,
          4383.185013599181,
          4383.185013599181,
          4383.185013599181,
          4387.023794309995,
          4390.85797216624,
          4390.85797216624,
          4394.692150022485,
          4394.692150022485,
          4398.5309307333,
          4398.5309307333,
          4402.365108589545,
          4402.365108589545,
          4410.038067156605,
          4413.872245012851,
          4413.872245012851,
          4417.706422869096,
          4421.545203579911,
          4429.213559292401,
          4433.052340003216,
          4440.720695715707,
          4440.720695715707,
          4448.393654282767,
          4448.393654282767,
          4448.393654282767,
          4456.066612849827,
          4475.242104985623,
          4475.242104985623,
          4475.242104985623,
          4490.588022119744,
          4498.256377832234,
          4498.256377832234,
          4505.929336399295,
          4505.929336399295,
          4505.929336399295,
          4505.929336399295,
          4509.763514255539,
          4509.763514255539,
          4513.602294966355,
          4517.436472822599,
          4525.109431389659,
          4528.9436092459055,
          4528.9436092459055,
          4532.77778710215,
          4536.6165678129655,
          4544.284923525456,
          4551.957882092515,
          4559.630840659576,
          4563.465018515821,
          4563.465018515821,
          4563.465018515821,
          4574.972154939127,
          4578.806332795371,
          4582.645113506187,
          4582.645113506187,
          4582.645113506187,
          4582.645113506187,
          4586.4792913624315,
          4586.4792913624315,
          4594.1522499294915,
          4597.986427785738,
          4601.820605641983,
          4601.820605641983,
          4609.493564209042,
          4613.3277420652885,
          4613.3277420652885,
          4613.3277420652885,
          4628.673659199409,
          4628.673659199409,
          4630.477978190583,
          4632.507837055654,
          4632.507837055654,
          4636.342014911899,
          4636.342014911899,
          4640.180795622713,
          4640.180795622713,
          4644.014973478959,
          4647.849151335205,
          4647.849151335205,
          4647.849151335205,
          4647.849151335205,
          4651.687932046019,
          4655.522109902265,
          4659.35628775851,
          4667.02924632557,
          4670.863424181815,
          4670.863424181815,
          4670.863424181815,
          4674.70220489263,
          4674.70220489263,
          4674.70220489263,
          4678.536382748875,
          4678.536382748875,
          4686.2093413159355,
          4686.2093413159355,
          4690.043519172181,
          4693.877697028425,
          4693.877697028425,
          4693.877697028425,
          4697.716477739241,
          4701.550655595486,
          4701.550655595486,
          4705.3848334517315,
          4705.3848334517315,
          4709.223614162546,
          4709.223614162546,
          4713.057792018792,
          4716.891969875036,
          4720.730750585852,
          4720.730750585852,
          4720.730750585852,
          4728.399106298342,
          4728.399106298342,
          4728.399106298342,
          4739.906242721648,
          4743.745023432462,
          4743.745023432462,
          4743.745023432462,
          4751.413379144953,
          4751.413379144953,
          4751.413379144953,
          4762.920515568258,
          4766.759296279073,
          4774.427651991564,
          4789.773569125684,
          4793.60774698193,
          4797.441924838175,
          4797.441924838175,
          4801.28070554899,
          4808.94906126148,
          4812.787841972295,
          4812.787841972295,
          4812.787841972295,
          4816.622019828541,
          4824.294978395601,
          4828.129156251845,
          4828.129156251845,
          4831.963334108091,
          4839.636292675151,
          4839.636292675151,
          4843.470470531396,
          4851.143429098456,
          4854.9776069547015,
          4854.9776069547015,
          4885.664838368372,
          4889.499016224618,
          4893.337796935433,
          4893.337796935433,
          4897.171974791678,
          4897.171974791678,
          4901.006152647924,
          4904.844933358738,
          4912.513289071228,
          4916.352069782044,
          4920.1862476382885,
          4927.8592062053485,
          4927.8592062053485,
          4943.200520484899,
          4943.200520484899,
          4943.200520484899,
          4947.0346983411455,
          4950.873479051959,
          4950.873479051959,
          4954.7076569082055,
          4962.380615475266,
          4970.048971187756,
          4973.88775189857,
          4973.88775189857,
          4977.721929754816,
          4981.556107611061,
          5008.409161168487,
          5027.584653304282,
          5027.584653304282,
          5031.423434015098,
          5077.451979708319,
          5085.12033542081,
          5085.12033542081,
          5096.6274718441155,
          5127.314703257786,
          5131.148881114032,
          5142.656017537337,
          5161.836112527702,
          5184.850385374313,
          5188.6845632305585,
          5196.357521797619,
          5215.537616787984,
          5234.713108923781,
          5280.7416546170025,
          5284.580435327816,
          5342.116117444344
         ],
         "yaxis": "y"
        }
       ],
       "layout": {
        "coloraxis": {
         "colorbar": {
          "title": {
           "text": "season"
          }
         },
         "colorscale": [
          [
           0,
           "#0d0887"
          ],
          [
           0.1111111111111111,
           "#46039f"
          ],
          [
           0.2222222222222222,
           "#7201a8"
          ],
          [
           0.3333333333333333,
           "#9c179e"
          ],
          [
           0.4444444444444444,
           "#bd3786"
          ],
          [
           0.5555555555555556,
           "#d8576b"
          ],
          [
           0.6666666666666666,
           "#ed7953"
          ],
          [
           0.7777777777777778,
           "#fb9f3a"
          ],
          [
           0.8888888888888888,
           "#fdca26"
          ],
          [
           1,
           "#f0f921"
          ]
         ]
        },
        "legend": {
         "itemsizing": "constant",
         "tracegroupgap": 0
        },
        "showlegend": true,
        "template": {
         "data": {
          "bar": [
           {
            "error_x": {
             "color": "#2a3f5f"
            },
            "error_y": {
             "color": "#2a3f5f"
            },
            "marker": {
             "line": {
              "color": "#E5ECF6",
              "width": 0.5
             },
             "pattern": {
              "fillmode": "overlay",
              "size": 10,
              "solidity": 0.2
             }
            },
            "type": "bar"
           }
          ],
          "barpolar": [
           {
            "marker": {
             "line": {
              "color": "#E5ECF6",
              "width": 0.5
             },
             "pattern": {
              "fillmode": "overlay",
              "size": 10,
              "solidity": 0.2
             }
            },
            "type": "barpolar"
           }
          ],
          "carpet": [
           {
            "aaxis": {
             "endlinecolor": "#2a3f5f",
             "gridcolor": "white",
             "linecolor": "white",
             "minorgridcolor": "white",
             "startlinecolor": "#2a3f5f"
            },
            "baxis": {
             "endlinecolor": "#2a3f5f",
             "gridcolor": "white",
             "linecolor": "white",
             "minorgridcolor": "white",
             "startlinecolor": "#2a3f5f"
            },
            "type": "carpet"
           }
          ],
          "choropleth": [
           {
            "colorbar": {
             "outlinewidth": 0,
             "ticks": ""
            },
            "type": "choropleth"
           }
          ],
          "contour": [
           {
            "colorbar": {
             "outlinewidth": 0,
             "ticks": ""
            },
            "colorscale": [
             [
              0,
              "#0d0887"
             ],
             [
              0.1111111111111111,
              "#46039f"
             ],
             [
              0.2222222222222222,
              "#7201a8"
             ],
             [
              0.3333333333333333,
              "#9c179e"
             ],
             [
              0.4444444444444444,
              "#bd3786"
             ],
             [
              0.5555555555555556,
              "#d8576b"
             ],
             [
              0.6666666666666666,
              "#ed7953"
             ],
             [
              0.7777777777777778,
              "#fb9f3a"
             ],
             [
              0.8888888888888888,
              "#fdca26"
             ],
             [
              1,
              "#f0f921"
             ]
            ],
            "type": "contour"
           }
          ],
          "contourcarpet": [
           {
            "colorbar": {
             "outlinewidth": 0,
             "ticks": ""
            },
            "type": "contourcarpet"
           }
          ],
          "heatmap": [
           {
            "colorbar": {
             "outlinewidth": 0,
             "ticks": ""
            },
            "colorscale": [
             [
              0,
              "#0d0887"
             ],
             [
              0.1111111111111111,
              "#46039f"
             ],
             [
              0.2222222222222222,
              "#7201a8"
             ],
             [
              0.3333333333333333,
              "#9c179e"
             ],
             [
              0.4444444444444444,
              "#bd3786"
             ],
             [
              0.5555555555555556,
              "#d8576b"
             ],
             [
              0.6666666666666666,
              "#ed7953"
             ],
             [
              0.7777777777777778,
              "#fb9f3a"
             ],
             [
              0.8888888888888888,
              "#fdca26"
             ],
             [
              1,
              "#f0f921"
             ]
            ],
            "type": "heatmap"
           }
          ],
          "heatmapgl": [
           {
            "colorbar": {
             "outlinewidth": 0,
             "ticks": ""
            },
            "colorscale": [
             [
              0,
              "#0d0887"
             ],
             [
              0.1111111111111111,
              "#46039f"
             ],
             [
              0.2222222222222222,
              "#7201a8"
             ],
             [
              0.3333333333333333,
              "#9c179e"
             ],
             [
              0.4444444444444444,
              "#bd3786"
             ],
             [
              0.5555555555555556,
              "#d8576b"
             ],
             [
              0.6666666666666666,
              "#ed7953"
             ],
             [
              0.7777777777777778,
              "#fb9f3a"
             ],
             [
              0.8888888888888888,
              "#fdca26"
             ],
             [
              1,
              "#f0f921"
             ]
            ],
            "type": "heatmapgl"
           }
          ],
          "histogram": [
           {
            "marker": {
             "pattern": {
              "fillmode": "overlay",
              "size": 10,
              "solidity": 0.2
             }
            },
            "type": "histogram"
           }
          ],
          "histogram2d": [
           {
            "colorbar": {
             "outlinewidth": 0,
             "ticks": ""
            },
            "colorscale": [
             [
              0,
              "#0d0887"
             ],
             [
              0.1111111111111111,
              "#46039f"
             ],
             [
              0.2222222222222222,
              "#7201a8"
             ],
             [
              0.3333333333333333,
              "#9c179e"
             ],
             [
              0.4444444444444444,
              "#bd3786"
             ],
             [
              0.5555555555555556,
              "#d8576b"
             ],
             [
              0.6666666666666666,
              "#ed7953"
             ],
             [
              0.7777777777777778,
              "#fb9f3a"
             ],
             [
              0.8888888888888888,
              "#fdca26"
             ],
             [
              1,
              "#f0f921"
             ]
            ],
            "type": "histogram2d"
           }
          ],
          "histogram2dcontour": [
           {
            "colorbar": {
             "outlinewidth": 0,
             "ticks": ""
            },
            "colorscale": [
             [
              0,
              "#0d0887"
             ],
             [
              0.1111111111111111,
              "#46039f"
             ],
             [
              0.2222222222222222,
              "#7201a8"
             ],
             [
              0.3333333333333333,
              "#9c179e"
             ],
             [
              0.4444444444444444,
              "#bd3786"
             ],
             [
              0.5555555555555556,
              "#d8576b"
             ],
             [
              0.6666666666666666,
              "#ed7953"
             ],
             [
              0.7777777777777778,
              "#fb9f3a"
             ],
             [
              0.8888888888888888,
              "#fdca26"
             ],
             [
              1,
              "#f0f921"
             ]
            ],
            "type": "histogram2dcontour"
           }
          ],
          "mesh3d": [
           {
            "colorbar": {
             "outlinewidth": 0,
             "ticks": ""
            },
            "type": "mesh3d"
           }
          ],
          "parcoords": [
           {
            "line": {
             "colorbar": {
              "outlinewidth": 0,
              "ticks": ""
             }
            },
            "type": "parcoords"
           }
          ],
          "pie": [
           {
            "automargin": true,
            "type": "pie"
           }
          ],
          "scatter": [
           {
            "fillpattern": {
             "fillmode": "overlay",
             "size": 10,
             "solidity": 0.2
            },
            "type": "scatter"
           }
          ],
          "scatter3d": [
           {
            "line": {
             "colorbar": {
              "outlinewidth": 0,
              "ticks": ""
             }
            },
            "marker": {
             "colorbar": {
              "outlinewidth": 0,
              "ticks": ""
             }
            },
            "type": "scatter3d"
           }
          ],
          "scattercarpet": [
           {
            "marker": {
             "colorbar": {
              "outlinewidth": 0,
              "ticks": ""
             }
            },
            "type": "scattercarpet"
           }
          ],
          "scattergeo": [
           {
            "marker": {
             "colorbar": {
              "outlinewidth": 0,
              "ticks": ""
             }
            },
            "type": "scattergeo"
           }
          ],
          "scattergl": [
           {
            "marker": {
             "colorbar": {
              "outlinewidth": 0,
              "ticks": ""
             }
            },
            "type": "scattergl"
           }
          ],
          "scattermapbox": [
           {
            "marker": {
             "colorbar": {
              "outlinewidth": 0,
              "ticks": ""
             }
            },
            "type": "scattermapbox"
           }
          ],
          "scatterpolar": [
           {
            "marker": {
             "colorbar": {
              "outlinewidth": 0,
              "ticks": ""
             }
            },
            "type": "scatterpolar"
           }
          ],
          "scatterpolargl": [
           {
            "marker": {
             "colorbar": {
              "outlinewidth": 0,
              "ticks": ""
             }
            },
            "type": "scatterpolargl"
           }
          ],
          "scatterternary": [
           {
            "marker": {
             "colorbar": {
              "outlinewidth": 0,
              "ticks": ""
             }
            },
            "type": "scatterternary"
           }
          ],
          "surface": [
           {
            "colorbar": {
             "outlinewidth": 0,
             "ticks": ""
            },
            "colorscale": [
             [
              0,
              "#0d0887"
             ],
             [
              0.1111111111111111,
              "#46039f"
             ],
             [
              0.2222222222222222,
              "#7201a8"
             ],
             [
              0.3333333333333333,
              "#9c179e"
             ],
             [
              0.4444444444444444,
              "#bd3786"
             ],
             [
              0.5555555555555556,
              "#d8576b"
             ],
             [
              0.6666666666666666,
              "#ed7953"
             ],
             [
              0.7777777777777778,
              "#fb9f3a"
             ],
             [
              0.8888888888888888,
              "#fdca26"
             ],
             [
              1,
              "#f0f921"
             ]
            ],
            "type": "surface"
           }
          ],
          "table": [
           {
            "cells": {
             "fill": {
              "color": "#EBF0F8"
             },
             "line": {
              "color": "white"
             }
            },
            "header": {
             "fill": {
              "color": "#C8D4E3"
             },
             "line": {
              "color": "white"
             }
            },
            "type": "table"
           }
          ]
         },
         "layout": {
          "annotationdefaults": {
           "arrowcolor": "#2a3f5f",
           "arrowhead": 0,
           "arrowwidth": 1
          },
          "autotypenumbers": "strict",
          "coloraxis": {
           "colorbar": {
            "outlinewidth": 0,
            "ticks": ""
           }
          },
          "colorscale": {
           "diverging": [
            [
             0,
             "#8e0152"
            ],
            [
             0.1,
             "#c51b7d"
            ],
            [
             0.2,
             "#de77ae"
            ],
            [
             0.3,
             "#f1b6da"
            ],
            [
             0.4,
             "#fde0ef"
            ],
            [
             0.5,
             "#f7f7f7"
            ],
            [
             0.6,
             "#e6f5d0"
            ],
            [
             0.7,
             "#b8e186"
            ],
            [
             0.8,
             "#7fbc41"
            ],
            [
             0.9,
             "#4d9221"
            ],
            [
             1,
             "#276419"
            ]
           ],
           "sequential": [
            [
             0,
             "#0d0887"
            ],
            [
             0.1111111111111111,
             "#46039f"
            ],
            [
             0.2222222222222222,
             "#7201a8"
            ],
            [
             0.3333333333333333,
             "#9c179e"
            ],
            [
             0.4444444444444444,
             "#bd3786"
            ],
            [
             0.5555555555555556,
             "#d8576b"
            ],
            [
             0.6666666666666666,
             "#ed7953"
            ],
            [
             0.7777777777777778,
             "#fb9f3a"
            ],
            [
             0.8888888888888888,
             "#fdca26"
            ],
            [
             1,
             "#f0f921"
            ]
           ],
           "sequentialminus": [
            [
             0,
             "#0d0887"
            ],
            [
             0.1111111111111111,
             "#46039f"
            ],
            [
             0.2222222222222222,
             "#7201a8"
            ],
            [
             0.3333333333333333,
             "#9c179e"
            ],
            [
             0.4444444444444444,
             "#bd3786"
            ],
            [
             0.5555555555555556,
             "#d8576b"
            ],
            [
             0.6666666666666666,
             "#ed7953"
            ],
            [
             0.7777777777777778,
             "#fb9f3a"
            ],
            [
             0.8888888888888888,
             "#fdca26"
            ],
            [
             1,
             "#f0f921"
            ]
           ]
          },
          "colorway": [
           "#636efa",
           "#EF553B",
           "#00cc96",
           "#ab63fa",
           "#FFA15A",
           "#19d3f3",
           "#FF6692",
           "#B6E880",
           "#FF97FF",
           "#FECB52"
          ],
          "font": {
           "color": "#2a3f5f"
          },
          "geo": {
           "bgcolor": "white",
           "lakecolor": "white",
           "landcolor": "#E5ECF6",
           "showlakes": true,
           "showland": true,
           "subunitcolor": "white"
          },
          "hoverlabel": {
           "align": "left"
          },
          "hovermode": "closest",
          "mapbox": {
           "style": "light"
          },
          "paper_bgcolor": "white",
          "plot_bgcolor": "#E5ECF6",
          "polar": {
           "angularaxis": {
            "gridcolor": "white",
            "linecolor": "white",
            "ticks": ""
           },
           "bgcolor": "#E5ECF6",
           "radialaxis": {
            "gridcolor": "white",
            "linecolor": "white",
            "ticks": ""
           }
          },
          "scene": {
           "xaxis": {
            "backgroundcolor": "#E5ECF6",
            "gridcolor": "white",
            "gridwidth": 2,
            "linecolor": "white",
            "showbackground": true,
            "ticks": "",
            "zerolinecolor": "white"
           },
           "yaxis": {
            "backgroundcolor": "#E5ECF6",
            "gridcolor": "white",
            "gridwidth": 2,
            "linecolor": "white",
            "showbackground": true,
            "ticks": "",
            "zerolinecolor": "white"
           },
           "zaxis": {
            "backgroundcolor": "#E5ECF6",
            "gridcolor": "white",
            "gridwidth": 2,
            "linecolor": "white",
            "showbackground": true,
            "ticks": "",
            "zerolinecolor": "white"
           }
          },
          "shapedefaults": {
           "line": {
            "color": "#2a3f5f"
           }
          },
          "ternary": {
           "aaxis": {
            "gridcolor": "white",
            "linecolor": "white",
            "ticks": ""
           },
           "baxis": {
            "gridcolor": "white",
            "linecolor": "white",
            "ticks": ""
           },
           "bgcolor": "#E5ECF6",
           "caxis": {
            "gridcolor": "white",
            "linecolor": "white",
            "ticks": ""
           }
          },
          "title": {
           "x": 0.05
          },
          "xaxis": {
           "automargin": true,
           "gridcolor": "white",
           "linecolor": "white",
           "ticks": "",
           "title": {
            "standoff": 15
           },
           "zerolinecolor": "white",
           "zerolinewidth": 2
          },
          "yaxis": {
           "automargin": true,
           "gridcolor": "white",
           "linecolor": "white",
           "ticks": "",
           "title": {
            "standoff": 15
           },
           "zerolinecolor": "white",
           "zerolinewidth": 2
          }
         }
        },
        "title": {
         "text": "Hubungan Suhu dengan Jumlah Pengguna Terdaftar"
        },
        "xaxis": {
         "anchor": "y",
         "domain": [
          0,
          1
         ],
         "title": {
          "text": "Suhu"
         }
        },
        "yaxis": {
         "anchor": "x",
         "domain": [
          0,
          1
         ],
         "title": {
          "text": "Jumlah Pengguna Terdaftar"
         }
        }
       }
      }
     },
     "metadata": {},
     "output_type": "display_data"
    }
   ],
   "source": [
    "# Scatter plot dengan garis tren\n",
    "fig = px.scatter(df_day, x=\"temp\", y=\"registered\", trendline=\"ols\",\n",
    "                title=\"Hubungan Suhu dengan Jumlah Pengguna Terdaftar\",\n",
    "                labels={\"temp\": \"Suhu\", \"registered\": \"Jumlah Pengguna Terdaftar\"},\n",
    "                color=\"season\",  # Menambahkan warna berdasarkan musim untuk lebih kontekstual\n",
    "                size=\"cnt\",  # Menambahkan ukuran marker berdasarkan jumlah total sewa sepeda\n",
    "                hover_name=\"dteday\",  # Menambahkan label hover dengan tanggal\n",
    "                opacity=0.8)  # Menambahkan opacity agar lebih mudah melihat tumpukan marker\n",
    "fig.update_layout(showlegend=True)\n",
    "fig.show()"
   ]
  },
  {
   "cell_type": "markdown",
   "metadata": {},
   "source": [
    "### insight\n",
    "\n",
    "1. Dari garis tren, Anda dapat melihat apakah ada kecenderungan peningkatan atau penurunan jumlah pengguna terdaftar seiring dengan kenaikan suhu.\n",
    "2. Warna berdasarkan musim dapat membantu melihat apakah hubungan tersebut konsisten di setiap musim atau mungkin berbeda.\n",
    "3. Ukuran marker berdasarkan jumlah total sewa sepeda memberikan informasi tentang seberapa besar dampak jumlah sewa sepeda terhadap hubungan suhu dan pengguna terdaftar."
   ]
  },
  {
   "cell_type": "markdown",
   "metadata": {},
   "source": [
    "- Relevant \n",
    "5. Apa pengaruh cuaca (weathersit) terhadap jumlah sewa sepeda (cnt) selama musim gugur ?"
   ]
  },
  {
   "cell_type": "code",
   "execution_count": 36,
   "metadata": {},
   "outputs": [
    {
     "data": {
      "application/vnd.plotly.v1+json": {
       "config": {
        "plotlyServerURL": "https://plot.ly"
       },
       "data": [
        {
         "alignmentgroup": "True",
         "hovertemplate": "Cuaca=%{marker.color}<br>Jumlah Sewa Sepeda=%{y}<extra></extra>",
         "legendgroup": "",
         "marker": {
          "color": [
           2,
           1,
           2,
           1,
           1,
           1,
           2,
           1,
           1,
           1,
           1,
           1,
           2,
           2,
           1,
           1,
           1,
           2,
           1,
           1,
           1,
           1,
           1,
           1,
           1,
           1,
           1,
           1,
           1,
           1,
           2,
           1,
           1,
           1,
           1,
           1,
           1,
           1,
           1,
           1,
           1,
           1,
           1,
           2,
           2,
           1,
           2,
           1,
           1,
           1,
           1,
           1,
           1,
           2,
           2,
           1,
           1,
           1,
           1,
           2,
           1,
           1,
           1,
           1,
           1,
           2,
           1,
           2,
           1,
           1,
           1,
           1,
           1,
           2,
           1,
           1,
           2,
           3,
           3,
           3,
           2,
           1,
           1,
           1,
           1,
           1,
           2,
           2,
           2,
           1,
           2,
           2,
           2,
           2,
           1,
           1,
           1,
           1,
           1,
           1,
           1,
           1,
           1,
           1,
           1,
           1,
           1,
           1,
           1,
           1,
           1,
           1,
           2,
           2,
           1,
           1,
           2,
           2,
           1,
           1,
           1,
           1,
           1,
           2,
           3,
           2,
           1,
           1,
           1,
           1,
           1,
           1,
           1,
           1,
           1,
           1,
           1,
           2,
           1,
           1,
           2,
           2,
           2,
           1,
           2,
           2,
           1,
           1,
           1,
           1,
           1,
           1,
           1,
           2,
           2,
           1,
           1,
           1,
           2,
           2,
           2,
           1,
           1,
           1,
           1,
           1,
           2,
           2,
           1,
           1,
           1,
           2,
           1,
           2,
           1,
           1,
           1,
           1,
           1,
           1,
           1,
           1,
           2,
           2,
           1,
           1,
           1,
           1
          ],
          "coloraxis": "coloraxis",
          "opacity": 0.8,
          "pattern": {
           "shape": ""
          }
         },
         "name": "",
         "offsetgroup": "",
         "orientation": "v",
         "showlegend": false,
         "textposition": "auto",
         "type": "bar",
         "x": [
          2,
          1,
          2,
          1,
          1,
          1,
          2,
          1,
          1,
          1,
          1,
          1,
          2,
          2,
          1,
          1,
          1,
          2,
          1,
          1,
          1,
          1,
          1,
          1,
          1,
          1,
          1,
          1,
          1,
          1,
          2,
          1,
          1,
          1,
          1,
          1,
          1,
          1,
          1,
          1,
          1,
          1,
          1,
          2,
          2,
          1,
          2,
          1,
          1,
          1,
          1,
          1,
          1,
          2,
          2,
          1,
          1,
          1,
          1,
          2,
          1,
          1,
          1,
          1,
          1,
          2,
          1,
          2,
          1,
          1,
          1,
          1,
          1,
          2,
          1,
          1,
          2,
          3,
          3,
          3,
          2,
          1,
          1,
          1,
          1,
          1,
          2,
          2,
          2,
          1,
          2,
          2,
          2,
          2,
          1,
          1,
          1,
          1,
          1,
          1,
          1,
          1,
          1,
          1,
          1,
          1,
          1,
          1,
          1,
          1,
          1,
          1,
          2,
          2,
          1,
          1,
          2,
          2,
          1,
          1,
          1,
          1,
          1,
          2,
          3,
          2,
          1,
          1,
          1,
          1,
          1,
          1,
          1,
          1,
          1,
          1,
          1,
          2,
          1,
          1,
          2,
          2,
          2,
          1,
          2,
          2,
          1,
          1,
          1,
          1,
          1,
          1,
          1,
          2,
          2,
          1,
          1,
          1,
          2,
          2,
          2,
          1,
          1,
          1,
          1,
          1,
          2,
          2,
          1,
          1,
          1,
          2,
          1,
          2,
          1,
          1,
          1,
          1,
          1,
          1,
          1,
          1,
          2,
          2,
          1,
          1,
          1,
          1
         ],
         "xaxis": "x",
         "y": [
          4835,
          4507,
          4790,
          4991,
          5202,
          5305,
          4708,
          4648,
          5225,
          5515,
          5362,
          5119,
          4649,
          6043,
          4665,
          4629,
          4592,
          4040,
          5336,
          4881,
          4086,
          4258,
          4342,
          5084,
          5538,
          5923,
          5302,
          4458,
          4541,
          4332,
          3784,
          3387,
          3285,
          3606,
          3840,
          4590,
          4656,
          4390,
          3846,
          4475,
          4302,
          4266,
          4845,
          3574,
          4576,
          4866,
          4294,
          3785,
          4326,
          4602,
          4780,
          4792,
          4905,
          4150,
          3820,
          4338,
          4725,
          4694,
          3805,
          4153,
          5191,
          3873,
          4758,
          5895,
          5130,
          3542,
          4661,
          1115,
          4334,
          4634,
          5204,
          5058,
          5115,
          4727,
          4484,
          4940,
          3351,
          2710,
          1996,
          1842,
          3544,
          5345,
          5046,
          4713,
          4763,
          4785,
          3659,
          4760,
          4511,
          4274,
          4539,
          3641,
          4352,
          4795,
          5905,
          5823,
          7458,
          6891,
          6779,
          7442,
          7335,
          6879,
          5463,
          5687,
          5531,
          6227,
          6660,
          7403,
          6241,
          6207,
          4840,
          4672,
          6569,
          6290,
          7264,
          7446,
          7499,
          6969,
          6031,
          6830,
          6786,
          5713,
          6591,
          5870,
          4459,
          7410,
          6966,
          7592,
          8173,
          6861,
          6904,
          6685,
          6597,
          7105,
          7216,
          7580,
          7261,
          7175,
          6824,
          5464,
          7013,
          7273,
          7534,
          7286,
          5786,
          6299,
          6544,
          6883,
          6784,
          7347,
          7605,
          7148,
          7865,
          4549,
          6530,
          7006,
          7375,
          7765,
          7582,
          6053,
          5255,
          6917,
          7040,
          7697,
          7713,
          7350,
          6140,
          5810,
          6034,
          6864,
          7112,
          6203,
          7504,
          5976,
          8227,
          7525,
          7767,
          7870,
          7804,
          8009,
          8714,
          7333,
          6869,
          4073,
          7591,
          7720,
          8167,
          8395
         ],
         "yaxis": "y"
        }
       ],
       "layout": {
        "barmode": "relative",
        "coloraxis": {
         "colorbar": {
          "title": {
           "text": "Cuaca"
          }
         },
         "colorscale": [
          [
           0,
           "#0d0887"
          ],
          [
           0.1111111111111111,
           "#46039f"
          ],
          [
           0.2222222222222222,
           "#7201a8"
          ],
          [
           0.3333333333333333,
           "#9c179e"
          ],
          [
           0.4444444444444444,
           "#bd3786"
          ],
          [
           0.5555555555555556,
           "#d8576b"
          ],
          [
           0.6666666666666666,
           "#ed7953"
          ],
          [
           0.7777777777777778,
           "#fb9f3a"
          ],
          [
           0.8888888888888888,
           "#fdca26"
          ],
          [
           1,
           "#f0f921"
          ]
         ]
        },
        "legend": {
         "tracegroupgap": 0
        },
        "showlegend": true,
        "template": {
         "data": {
          "bar": [
           {
            "error_x": {
             "color": "#2a3f5f"
            },
            "error_y": {
             "color": "#2a3f5f"
            },
            "marker": {
             "line": {
              "color": "#E5ECF6",
              "width": 0.5
             },
             "pattern": {
              "fillmode": "overlay",
              "size": 10,
              "solidity": 0.2
             }
            },
            "type": "bar"
           }
          ],
          "barpolar": [
           {
            "marker": {
             "line": {
              "color": "#E5ECF6",
              "width": 0.5
             },
             "pattern": {
              "fillmode": "overlay",
              "size": 10,
              "solidity": 0.2
             }
            },
            "type": "barpolar"
           }
          ],
          "carpet": [
           {
            "aaxis": {
             "endlinecolor": "#2a3f5f",
             "gridcolor": "white",
             "linecolor": "white",
             "minorgridcolor": "white",
             "startlinecolor": "#2a3f5f"
            },
            "baxis": {
             "endlinecolor": "#2a3f5f",
             "gridcolor": "white",
             "linecolor": "white",
             "minorgridcolor": "white",
             "startlinecolor": "#2a3f5f"
            },
            "type": "carpet"
           }
          ],
          "choropleth": [
           {
            "colorbar": {
             "outlinewidth": 0,
             "ticks": ""
            },
            "type": "choropleth"
           }
          ],
          "contour": [
           {
            "colorbar": {
             "outlinewidth": 0,
             "ticks": ""
            },
            "colorscale": [
             [
              0,
              "#0d0887"
             ],
             [
              0.1111111111111111,
              "#46039f"
             ],
             [
              0.2222222222222222,
              "#7201a8"
             ],
             [
              0.3333333333333333,
              "#9c179e"
             ],
             [
              0.4444444444444444,
              "#bd3786"
             ],
             [
              0.5555555555555556,
              "#d8576b"
             ],
             [
              0.6666666666666666,
              "#ed7953"
             ],
             [
              0.7777777777777778,
              "#fb9f3a"
             ],
             [
              0.8888888888888888,
              "#fdca26"
             ],
             [
              1,
              "#f0f921"
             ]
            ],
            "type": "contour"
           }
          ],
          "contourcarpet": [
           {
            "colorbar": {
             "outlinewidth": 0,
             "ticks": ""
            },
            "type": "contourcarpet"
           }
          ],
          "heatmap": [
           {
            "colorbar": {
             "outlinewidth": 0,
             "ticks": ""
            },
            "colorscale": [
             [
              0,
              "#0d0887"
             ],
             [
              0.1111111111111111,
              "#46039f"
             ],
             [
              0.2222222222222222,
              "#7201a8"
             ],
             [
              0.3333333333333333,
              "#9c179e"
             ],
             [
              0.4444444444444444,
              "#bd3786"
             ],
             [
              0.5555555555555556,
              "#d8576b"
             ],
             [
              0.6666666666666666,
              "#ed7953"
             ],
             [
              0.7777777777777778,
              "#fb9f3a"
             ],
             [
              0.8888888888888888,
              "#fdca26"
             ],
             [
              1,
              "#f0f921"
             ]
            ],
            "type": "heatmap"
           }
          ],
          "heatmapgl": [
           {
            "colorbar": {
             "outlinewidth": 0,
             "ticks": ""
            },
            "colorscale": [
             [
              0,
              "#0d0887"
             ],
             [
              0.1111111111111111,
              "#46039f"
             ],
             [
              0.2222222222222222,
              "#7201a8"
             ],
             [
              0.3333333333333333,
              "#9c179e"
             ],
             [
              0.4444444444444444,
              "#bd3786"
             ],
             [
              0.5555555555555556,
              "#d8576b"
             ],
             [
              0.6666666666666666,
              "#ed7953"
             ],
             [
              0.7777777777777778,
              "#fb9f3a"
             ],
             [
              0.8888888888888888,
              "#fdca26"
             ],
             [
              1,
              "#f0f921"
             ]
            ],
            "type": "heatmapgl"
           }
          ],
          "histogram": [
           {
            "marker": {
             "pattern": {
              "fillmode": "overlay",
              "size": 10,
              "solidity": 0.2
             }
            },
            "type": "histogram"
           }
          ],
          "histogram2d": [
           {
            "colorbar": {
             "outlinewidth": 0,
             "ticks": ""
            },
            "colorscale": [
             [
              0,
              "#0d0887"
             ],
             [
              0.1111111111111111,
              "#46039f"
             ],
             [
              0.2222222222222222,
              "#7201a8"
             ],
             [
              0.3333333333333333,
              "#9c179e"
             ],
             [
              0.4444444444444444,
              "#bd3786"
             ],
             [
              0.5555555555555556,
              "#d8576b"
             ],
             [
              0.6666666666666666,
              "#ed7953"
             ],
             [
              0.7777777777777778,
              "#fb9f3a"
             ],
             [
              0.8888888888888888,
              "#fdca26"
             ],
             [
              1,
              "#f0f921"
             ]
            ],
            "type": "histogram2d"
           }
          ],
          "histogram2dcontour": [
           {
            "colorbar": {
             "outlinewidth": 0,
             "ticks": ""
            },
            "colorscale": [
             [
              0,
              "#0d0887"
             ],
             [
              0.1111111111111111,
              "#46039f"
             ],
             [
              0.2222222222222222,
              "#7201a8"
             ],
             [
              0.3333333333333333,
              "#9c179e"
             ],
             [
              0.4444444444444444,
              "#bd3786"
             ],
             [
              0.5555555555555556,
              "#d8576b"
             ],
             [
              0.6666666666666666,
              "#ed7953"
             ],
             [
              0.7777777777777778,
              "#fb9f3a"
             ],
             [
              0.8888888888888888,
              "#fdca26"
             ],
             [
              1,
              "#f0f921"
             ]
            ],
            "type": "histogram2dcontour"
           }
          ],
          "mesh3d": [
           {
            "colorbar": {
             "outlinewidth": 0,
             "ticks": ""
            },
            "type": "mesh3d"
           }
          ],
          "parcoords": [
           {
            "line": {
             "colorbar": {
              "outlinewidth": 0,
              "ticks": ""
             }
            },
            "type": "parcoords"
           }
          ],
          "pie": [
           {
            "automargin": true,
            "type": "pie"
           }
          ],
          "scatter": [
           {
            "fillpattern": {
             "fillmode": "overlay",
             "size": 10,
             "solidity": 0.2
            },
            "type": "scatter"
           }
          ],
          "scatter3d": [
           {
            "line": {
             "colorbar": {
              "outlinewidth": 0,
              "ticks": ""
             }
            },
            "marker": {
             "colorbar": {
              "outlinewidth": 0,
              "ticks": ""
             }
            },
            "type": "scatter3d"
           }
          ],
          "scattercarpet": [
           {
            "marker": {
             "colorbar": {
              "outlinewidth": 0,
              "ticks": ""
             }
            },
            "type": "scattercarpet"
           }
          ],
          "scattergeo": [
           {
            "marker": {
             "colorbar": {
              "outlinewidth": 0,
              "ticks": ""
             }
            },
            "type": "scattergeo"
           }
          ],
          "scattergl": [
           {
            "marker": {
             "colorbar": {
              "outlinewidth": 0,
              "ticks": ""
             }
            },
            "type": "scattergl"
           }
          ],
          "scattermapbox": [
           {
            "marker": {
             "colorbar": {
              "outlinewidth": 0,
              "ticks": ""
             }
            },
            "type": "scattermapbox"
           }
          ],
          "scatterpolar": [
           {
            "marker": {
             "colorbar": {
              "outlinewidth": 0,
              "ticks": ""
             }
            },
            "type": "scatterpolar"
           }
          ],
          "scatterpolargl": [
           {
            "marker": {
             "colorbar": {
              "outlinewidth": 0,
              "ticks": ""
             }
            },
            "type": "scatterpolargl"
           }
          ],
          "scatterternary": [
           {
            "marker": {
             "colorbar": {
              "outlinewidth": 0,
              "ticks": ""
             }
            },
            "type": "scatterternary"
           }
          ],
          "surface": [
           {
            "colorbar": {
             "outlinewidth": 0,
             "ticks": ""
            },
            "colorscale": [
             [
              0,
              "#0d0887"
             ],
             [
              0.1111111111111111,
              "#46039f"
             ],
             [
              0.2222222222222222,
              "#7201a8"
             ],
             [
              0.3333333333333333,
              "#9c179e"
             ],
             [
              0.4444444444444444,
              "#bd3786"
             ],
             [
              0.5555555555555556,
              "#d8576b"
             ],
             [
              0.6666666666666666,
              "#ed7953"
             ],
             [
              0.7777777777777778,
              "#fb9f3a"
             ],
             [
              0.8888888888888888,
              "#fdca26"
             ],
             [
              1,
              "#f0f921"
             ]
            ],
            "type": "surface"
           }
          ],
          "table": [
           {
            "cells": {
             "fill": {
              "color": "#EBF0F8"
             },
             "line": {
              "color": "white"
             }
            },
            "header": {
             "fill": {
              "color": "#C8D4E3"
             },
             "line": {
              "color": "white"
             }
            },
            "type": "table"
           }
          ]
         },
         "layout": {
          "annotationdefaults": {
           "arrowcolor": "#2a3f5f",
           "arrowhead": 0,
           "arrowwidth": 1
          },
          "autotypenumbers": "strict",
          "coloraxis": {
           "colorbar": {
            "outlinewidth": 0,
            "ticks": ""
           }
          },
          "colorscale": {
           "diverging": [
            [
             0,
             "#8e0152"
            ],
            [
             0.1,
             "#c51b7d"
            ],
            [
             0.2,
             "#de77ae"
            ],
            [
             0.3,
             "#f1b6da"
            ],
            [
             0.4,
             "#fde0ef"
            ],
            [
             0.5,
             "#f7f7f7"
            ],
            [
             0.6,
             "#e6f5d0"
            ],
            [
             0.7,
             "#b8e186"
            ],
            [
             0.8,
             "#7fbc41"
            ],
            [
             0.9,
             "#4d9221"
            ],
            [
             1,
             "#276419"
            ]
           ],
           "sequential": [
            [
             0,
             "#0d0887"
            ],
            [
             0.1111111111111111,
             "#46039f"
            ],
            [
             0.2222222222222222,
             "#7201a8"
            ],
            [
             0.3333333333333333,
             "#9c179e"
            ],
            [
             0.4444444444444444,
             "#bd3786"
            ],
            [
             0.5555555555555556,
             "#d8576b"
            ],
            [
             0.6666666666666666,
             "#ed7953"
            ],
            [
             0.7777777777777778,
             "#fb9f3a"
            ],
            [
             0.8888888888888888,
             "#fdca26"
            ],
            [
             1,
             "#f0f921"
            ]
           ],
           "sequentialminus": [
            [
             0,
             "#0d0887"
            ],
            [
             0.1111111111111111,
             "#46039f"
            ],
            [
             0.2222222222222222,
             "#7201a8"
            ],
            [
             0.3333333333333333,
             "#9c179e"
            ],
            [
             0.4444444444444444,
             "#bd3786"
            ],
            [
             0.5555555555555556,
             "#d8576b"
            ],
            [
             0.6666666666666666,
             "#ed7953"
            ],
            [
             0.7777777777777778,
             "#fb9f3a"
            ],
            [
             0.8888888888888888,
             "#fdca26"
            ],
            [
             1,
             "#f0f921"
            ]
           ]
          },
          "colorway": [
           "#636efa",
           "#EF553B",
           "#00cc96",
           "#ab63fa",
           "#FFA15A",
           "#19d3f3",
           "#FF6692",
           "#B6E880",
           "#FF97FF",
           "#FECB52"
          ],
          "font": {
           "color": "#2a3f5f"
          },
          "geo": {
           "bgcolor": "white",
           "lakecolor": "white",
           "landcolor": "#E5ECF6",
           "showlakes": true,
           "showland": true,
           "subunitcolor": "white"
          },
          "hoverlabel": {
           "align": "left"
          },
          "hovermode": "closest",
          "mapbox": {
           "style": "light"
          },
          "paper_bgcolor": "white",
          "plot_bgcolor": "#E5ECF6",
          "polar": {
           "angularaxis": {
            "gridcolor": "white",
            "linecolor": "white",
            "ticks": ""
           },
           "bgcolor": "#E5ECF6",
           "radialaxis": {
            "gridcolor": "white",
            "linecolor": "white",
            "ticks": ""
           }
          },
          "scene": {
           "xaxis": {
            "backgroundcolor": "#E5ECF6",
            "gridcolor": "white",
            "gridwidth": 2,
            "linecolor": "white",
            "showbackground": true,
            "ticks": "",
            "zerolinecolor": "white"
           },
           "yaxis": {
            "backgroundcolor": "#E5ECF6",
            "gridcolor": "white",
            "gridwidth": 2,
            "linecolor": "white",
            "showbackground": true,
            "ticks": "",
            "zerolinecolor": "white"
           },
           "zaxis": {
            "backgroundcolor": "#E5ECF6",
            "gridcolor": "white",
            "gridwidth": 2,
            "linecolor": "white",
            "showbackground": true,
            "ticks": "",
            "zerolinecolor": "white"
           }
          },
          "shapedefaults": {
           "line": {
            "color": "#2a3f5f"
           }
          },
          "ternary": {
           "aaxis": {
            "gridcolor": "white",
            "linecolor": "white",
            "ticks": ""
           },
           "baxis": {
            "gridcolor": "white",
            "linecolor": "white",
            "ticks": ""
           },
           "bgcolor": "#E5ECF6",
           "caxis": {
            "gridcolor": "white",
            "linecolor": "white",
            "ticks": ""
           }
          },
          "title": {
           "x": 0.05
          },
          "xaxis": {
           "automargin": true,
           "gridcolor": "white",
           "linecolor": "white",
           "ticks": "",
           "title": {
            "standoff": 15
           },
           "zerolinecolor": "white",
           "zerolinewidth": 2
          },
          "yaxis": {
           "automargin": true,
           "gridcolor": "white",
           "linecolor": "white",
           "ticks": "",
           "title": {
            "standoff": 15
           },
           "zerolinecolor": "white",
           "zerolinewidth": 2
          }
         }
        },
        "title": {
         "text": "Pengaruh Cuaca terhadap Jumlah Sewa Sepeda (Musim Gugur)"
        },
        "xaxis": {
         "anchor": "y",
         "categoryarray": [
          "Clear",
          "Mist",
          "Light Rain",
          "Heavy Rain"
         ],
         "categoryorder": "array",
         "domain": [
          0,
          1
         ],
         "title": {
          "text": "Cuaca"
         }
        },
        "yaxis": {
         "anchor": "x",
         "domain": [
          0,
          1
         ],
         "title": {
          "text": "Jumlah Sewa Sepeda (cnt)"
         }
        }
       }
      }
     },
     "metadata": {},
     "output_type": "display_data"
    }
   ],
   "source": [
    "# Filter musim gugur (season 3)\n",
    "filtered_data_autumn = df_day[df_day[\"season\"] == 3]\n",
    "\n",
    "# Buat plot untuk menganalisis pengaruh cuaca terhadap jumlah sewa sepeda\n",
    "fig = px.bar(filtered_data_autumn, x=\"weathersit\", y=\"cnt\", color=\"weathersit\",\n",
    "            title=\"Pengaruh Cuaca terhadap Jumlah Sewa Sepeda (Musim Gugur)\",\n",
    "            labels={\"weathersit\": \"Cuaca\", \"cnt\": \"Jumlah Sewa Sepeda\"},\n",
    "            category_orders={\"weathersit\": [\"Clear\", \"Mist\", \"Light Rain\", \"Heavy Rain\"]},\n",
    "            opacity=0.8)\n",
    "\n",
    "# Tampilkan plot dengan menyesuaikan layout\n",
    "fig.update_layout(xaxis_title=\"Cuaca\", yaxis_title=\"Jumlah Sewa Sepeda (cnt)\", showlegend=True)\n",
    "fig.show()\n"
   ]
  },
  {
   "cell_type": "markdown",
   "metadata": {},
   "source": [
    "weathersit :\n",
    "\n",
    "1: Clear, Few clouds, Partly cloudy, Partly cloudy\n",
    "\n",
    "2: Mist + Cloudy, Mist + Broken clouds, Mist + Few clouds, Mist\n",
    "\n",
    "3: Light Snow, Light Rain + Thunderstorm + Scattered clouds, Light Rain + Scattered clouds\n",
    "\n",
    "4: Heavy Rain + Ice Pallets + Thunderstorm + Mist, Snow + Fog\n"
   ]
  },
  {
   "cell_type": "markdown",
   "metadata": {},
   "source": [
    "Insight:\n",
    "\n",
    "- Cuaca yang cerah (Clear) cenderung memiliki jumlah sewa sepeda yang lebih tinggi.\n",
    "- Cuaca kabut (Mist) dan cuaca salju ringan (Light Snow) mungkin memiliki dampak negatif pada jumlah sewa sepeda.\n",
    "- Pengguna cenderung mengurangi penggunaan sepeda saat cuaca sangat buruk (Heavy Rain)."
   ]
  },
  {
   "cell_type": "markdown",
   "metadata": {},
   "source": [
    "- time-Bound\n",
    "6. Berapa distribusi per jam sewa sepeda (cnt) pada Hari libur dan hari kerja pada tahun 2012 (tahun = 1)?"
   ]
  },
  {
   "cell_type": "code",
   "execution_count": 37,
   "metadata": {},
   "outputs": [
    {
     "data": {
      "application/vnd.plotly.v1+json": {
       "config": {
        "plotlyServerURL": "https://plot.ly"
       },
       "data": [
        {
         "hovertemplate": "Jam=%{x}<br>Jumlah Sewa Sepeda=%{y}<extra></extra>",
         "legendgroup": "",
         "line": {
          "color": "#636efa",
          "dash": "solid"
         },
         "marker": {
          "symbol": "circle"
         },
         "mode": "lines",
         "name": "",
         "orientation": "v",
         "showlegend": false,
         "type": "scatter",
         "x": [
          0,
          1,
          2,
          3,
          4,
          5,
          6,
          7,
          8,
          9,
          10,
          11,
          12,
          13,
          14,
          15,
          16,
          17,
          18,
          19,
          20,
          21,
          22,
          23
         ],
         "xaxis": "x",
         "y": [
          633,
          434,
          299,
          117,
          66,
          140,
          391,
          1142,
          2328,
          2232,
          2587,
          3226,
          3637,
          3815,
          3617,
          3374,
          3441,
          3880,
          3640,
          2936,
          2431,
          1885,
          1420,
          742
         ],
         "yaxis": "y"
        }
       ],
       "layout": {
        "legend": {
         "tracegroupgap": 0
        },
        "template": {
         "data": {
          "bar": [
           {
            "error_x": {
             "color": "#2a3f5f"
            },
            "error_y": {
             "color": "#2a3f5f"
            },
            "marker": {
             "line": {
              "color": "#E5ECF6",
              "width": 0.5
             },
             "pattern": {
              "fillmode": "overlay",
              "size": 10,
              "solidity": 0.2
             }
            },
            "type": "bar"
           }
          ],
          "barpolar": [
           {
            "marker": {
             "line": {
              "color": "#E5ECF6",
              "width": 0.5
             },
             "pattern": {
              "fillmode": "overlay",
              "size": 10,
              "solidity": 0.2
             }
            },
            "type": "barpolar"
           }
          ],
          "carpet": [
           {
            "aaxis": {
             "endlinecolor": "#2a3f5f",
             "gridcolor": "white",
             "linecolor": "white",
             "minorgridcolor": "white",
             "startlinecolor": "#2a3f5f"
            },
            "baxis": {
             "endlinecolor": "#2a3f5f",
             "gridcolor": "white",
             "linecolor": "white",
             "minorgridcolor": "white",
             "startlinecolor": "#2a3f5f"
            },
            "type": "carpet"
           }
          ],
          "choropleth": [
           {
            "colorbar": {
             "outlinewidth": 0,
             "ticks": ""
            },
            "type": "choropleth"
           }
          ],
          "contour": [
           {
            "colorbar": {
             "outlinewidth": 0,
             "ticks": ""
            },
            "colorscale": [
             [
              0,
              "#0d0887"
             ],
             [
              0.1111111111111111,
              "#46039f"
             ],
             [
              0.2222222222222222,
              "#7201a8"
             ],
             [
              0.3333333333333333,
              "#9c179e"
             ],
             [
              0.4444444444444444,
              "#bd3786"
             ],
             [
              0.5555555555555556,
              "#d8576b"
             ],
             [
              0.6666666666666666,
              "#ed7953"
             ],
             [
              0.7777777777777778,
              "#fb9f3a"
             ],
             [
              0.8888888888888888,
              "#fdca26"
             ],
             [
              1,
              "#f0f921"
             ]
            ],
            "type": "contour"
           }
          ],
          "contourcarpet": [
           {
            "colorbar": {
             "outlinewidth": 0,
             "ticks": ""
            },
            "type": "contourcarpet"
           }
          ],
          "heatmap": [
           {
            "colorbar": {
             "outlinewidth": 0,
             "ticks": ""
            },
            "colorscale": [
             [
              0,
              "#0d0887"
             ],
             [
              0.1111111111111111,
              "#46039f"
             ],
             [
              0.2222222222222222,
              "#7201a8"
             ],
             [
              0.3333333333333333,
              "#9c179e"
             ],
             [
              0.4444444444444444,
              "#bd3786"
             ],
             [
              0.5555555555555556,
              "#d8576b"
             ],
             [
              0.6666666666666666,
              "#ed7953"
             ],
             [
              0.7777777777777778,
              "#fb9f3a"
             ],
             [
              0.8888888888888888,
              "#fdca26"
             ],
             [
              1,
              "#f0f921"
             ]
            ],
            "type": "heatmap"
           }
          ],
          "heatmapgl": [
           {
            "colorbar": {
             "outlinewidth": 0,
             "ticks": ""
            },
            "colorscale": [
             [
              0,
              "#0d0887"
             ],
             [
              0.1111111111111111,
              "#46039f"
             ],
             [
              0.2222222222222222,
              "#7201a8"
             ],
             [
              0.3333333333333333,
              "#9c179e"
             ],
             [
              0.4444444444444444,
              "#bd3786"
             ],
             [
              0.5555555555555556,
              "#d8576b"
             ],
             [
              0.6666666666666666,
              "#ed7953"
             ],
             [
              0.7777777777777778,
              "#fb9f3a"
             ],
             [
              0.8888888888888888,
              "#fdca26"
             ],
             [
              1,
              "#f0f921"
             ]
            ],
            "type": "heatmapgl"
           }
          ],
          "histogram": [
           {
            "marker": {
             "pattern": {
              "fillmode": "overlay",
              "size": 10,
              "solidity": 0.2
             }
            },
            "type": "histogram"
           }
          ],
          "histogram2d": [
           {
            "colorbar": {
             "outlinewidth": 0,
             "ticks": ""
            },
            "colorscale": [
             [
              0,
              "#0d0887"
             ],
             [
              0.1111111111111111,
              "#46039f"
             ],
             [
              0.2222222222222222,
              "#7201a8"
             ],
             [
              0.3333333333333333,
              "#9c179e"
             ],
             [
              0.4444444444444444,
              "#bd3786"
             ],
             [
              0.5555555555555556,
              "#d8576b"
             ],
             [
              0.6666666666666666,
              "#ed7953"
             ],
             [
              0.7777777777777778,
              "#fb9f3a"
             ],
             [
              0.8888888888888888,
              "#fdca26"
             ],
             [
              1,
              "#f0f921"
             ]
            ],
            "type": "histogram2d"
           }
          ],
          "histogram2dcontour": [
           {
            "colorbar": {
             "outlinewidth": 0,
             "ticks": ""
            },
            "colorscale": [
             [
              0,
              "#0d0887"
             ],
             [
              0.1111111111111111,
              "#46039f"
             ],
             [
              0.2222222222222222,
              "#7201a8"
             ],
             [
              0.3333333333333333,
              "#9c179e"
             ],
             [
              0.4444444444444444,
              "#bd3786"
             ],
             [
              0.5555555555555556,
              "#d8576b"
             ],
             [
              0.6666666666666666,
              "#ed7953"
             ],
             [
              0.7777777777777778,
              "#fb9f3a"
             ],
             [
              0.8888888888888888,
              "#fdca26"
             ],
             [
              1,
              "#f0f921"
             ]
            ],
            "type": "histogram2dcontour"
           }
          ],
          "mesh3d": [
           {
            "colorbar": {
             "outlinewidth": 0,
             "ticks": ""
            },
            "type": "mesh3d"
           }
          ],
          "parcoords": [
           {
            "line": {
             "colorbar": {
              "outlinewidth": 0,
              "ticks": ""
             }
            },
            "type": "parcoords"
           }
          ],
          "pie": [
           {
            "automargin": true,
            "type": "pie"
           }
          ],
          "scatter": [
           {
            "fillpattern": {
             "fillmode": "overlay",
             "size": 10,
             "solidity": 0.2
            },
            "type": "scatter"
           }
          ],
          "scatter3d": [
           {
            "line": {
             "colorbar": {
              "outlinewidth": 0,
              "ticks": ""
             }
            },
            "marker": {
             "colorbar": {
              "outlinewidth": 0,
              "ticks": ""
             }
            },
            "type": "scatter3d"
           }
          ],
          "scattercarpet": [
           {
            "marker": {
             "colorbar": {
              "outlinewidth": 0,
              "ticks": ""
             }
            },
            "type": "scattercarpet"
           }
          ],
          "scattergeo": [
           {
            "marker": {
             "colorbar": {
              "outlinewidth": 0,
              "ticks": ""
             }
            },
            "type": "scattergeo"
           }
          ],
          "scattergl": [
           {
            "marker": {
             "colorbar": {
              "outlinewidth": 0,
              "ticks": ""
             }
            },
            "type": "scattergl"
           }
          ],
          "scattermapbox": [
           {
            "marker": {
             "colorbar": {
              "outlinewidth": 0,
              "ticks": ""
             }
            },
            "type": "scattermapbox"
           }
          ],
          "scatterpolar": [
           {
            "marker": {
             "colorbar": {
              "outlinewidth": 0,
              "ticks": ""
             }
            },
            "type": "scatterpolar"
           }
          ],
          "scatterpolargl": [
           {
            "marker": {
             "colorbar": {
              "outlinewidth": 0,
              "ticks": ""
             }
            },
            "type": "scatterpolargl"
           }
          ],
          "scatterternary": [
           {
            "marker": {
             "colorbar": {
              "outlinewidth": 0,
              "ticks": ""
             }
            },
            "type": "scatterternary"
           }
          ],
          "surface": [
           {
            "colorbar": {
             "outlinewidth": 0,
             "ticks": ""
            },
            "colorscale": [
             [
              0,
              "#0d0887"
             ],
             [
              0.1111111111111111,
              "#46039f"
             ],
             [
              0.2222222222222222,
              "#7201a8"
             ],
             [
              0.3333333333333333,
              "#9c179e"
             ],
             [
              0.4444444444444444,
              "#bd3786"
             ],
             [
              0.5555555555555556,
              "#d8576b"
             ],
             [
              0.6666666666666666,
              "#ed7953"
             ],
             [
              0.7777777777777778,
              "#fb9f3a"
             ],
             [
              0.8888888888888888,
              "#fdca26"
             ],
             [
              1,
              "#f0f921"
             ]
            ],
            "type": "surface"
           }
          ],
          "table": [
           {
            "cells": {
             "fill": {
              "color": "#EBF0F8"
             },
             "line": {
              "color": "white"
             }
            },
            "header": {
             "fill": {
              "color": "#C8D4E3"
             },
             "line": {
              "color": "white"
             }
            },
            "type": "table"
           }
          ]
         },
         "layout": {
          "annotationdefaults": {
           "arrowcolor": "#2a3f5f",
           "arrowhead": 0,
           "arrowwidth": 1
          },
          "autotypenumbers": "strict",
          "coloraxis": {
           "colorbar": {
            "outlinewidth": 0,
            "ticks": ""
           }
          },
          "colorscale": {
           "diverging": [
            [
             0,
             "#8e0152"
            ],
            [
             0.1,
             "#c51b7d"
            ],
            [
             0.2,
             "#de77ae"
            ],
            [
             0.3,
             "#f1b6da"
            ],
            [
             0.4,
             "#fde0ef"
            ],
            [
             0.5,
             "#f7f7f7"
            ],
            [
             0.6,
             "#e6f5d0"
            ],
            [
             0.7,
             "#b8e186"
            ],
            [
             0.8,
             "#7fbc41"
            ],
            [
             0.9,
             "#4d9221"
            ],
            [
             1,
             "#276419"
            ]
           ],
           "sequential": [
            [
             0,
             "#0d0887"
            ],
            [
             0.1111111111111111,
             "#46039f"
            ],
            [
             0.2222222222222222,
             "#7201a8"
            ],
            [
             0.3333333333333333,
             "#9c179e"
            ],
            [
             0.4444444444444444,
             "#bd3786"
            ],
            [
             0.5555555555555556,
             "#d8576b"
            ],
            [
             0.6666666666666666,
             "#ed7953"
            ],
            [
             0.7777777777777778,
             "#fb9f3a"
            ],
            [
             0.8888888888888888,
             "#fdca26"
            ],
            [
             1,
             "#f0f921"
            ]
           ],
           "sequentialminus": [
            [
             0,
             "#0d0887"
            ],
            [
             0.1111111111111111,
             "#46039f"
            ],
            [
             0.2222222222222222,
             "#7201a8"
            ],
            [
             0.3333333333333333,
             "#9c179e"
            ],
            [
             0.4444444444444444,
             "#bd3786"
            ],
            [
             0.5555555555555556,
             "#d8576b"
            ],
            [
             0.6666666666666666,
             "#ed7953"
            ],
            [
             0.7777777777777778,
             "#fb9f3a"
            ],
            [
             0.8888888888888888,
             "#fdca26"
            ],
            [
             1,
             "#f0f921"
            ]
           ]
          },
          "colorway": [
           "#636efa",
           "#EF553B",
           "#00cc96",
           "#ab63fa",
           "#FFA15A",
           "#19d3f3",
           "#FF6692",
           "#B6E880",
           "#FF97FF",
           "#FECB52"
          ],
          "font": {
           "color": "#2a3f5f"
          },
          "geo": {
           "bgcolor": "white",
           "lakecolor": "white",
           "landcolor": "#E5ECF6",
           "showlakes": true,
           "showland": true,
           "subunitcolor": "white"
          },
          "hoverlabel": {
           "align": "left"
          },
          "hovermode": "closest",
          "mapbox": {
           "style": "light"
          },
          "paper_bgcolor": "white",
          "plot_bgcolor": "#E5ECF6",
          "polar": {
           "angularaxis": {
            "gridcolor": "white",
            "linecolor": "white",
            "ticks": ""
           },
           "bgcolor": "#E5ECF6",
           "radialaxis": {
            "gridcolor": "white",
            "linecolor": "white",
            "ticks": ""
           }
          },
          "scene": {
           "xaxis": {
            "backgroundcolor": "#E5ECF6",
            "gridcolor": "white",
            "gridwidth": 2,
            "linecolor": "white",
            "showbackground": true,
            "ticks": "",
            "zerolinecolor": "white"
           },
           "yaxis": {
            "backgroundcolor": "#E5ECF6",
            "gridcolor": "white",
            "gridwidth": 2,
            "linecolor": "white",
            "showbackground": true,
            "ticks": "",
            "zerolinecolor": "white"
           },
           "zaxis": {
            "backgroundcolor": "#E5ECF6",
            "gridcolor": "white",
            "gridwidth": 2,
            "linecolor": "white",
            "showbackground": true,
            "ticks": "",
            "zerolinecolor": "white"
           }
          },
          "shapedefaults": {
           "line": {
            "color": "#2a3f5f"
           }
          },
          "ternary": {
           "aaxis": {
            "gridcolor": "white",
            "linecolor": "white",
            "ticks": ""
           },
           "baxis": {
            "gridcolor": "white",
            "linecolor": "white",
            "ticks": ""
           },
           "bgcolor": "#E5ECF6",
           "caxis": {
            "gridcolor": "white",
            "linecolor": "white",
            "ticks": ""
           }
          },
          "title": {
           "x": 0.05
          },
          "xaxis": {
           "automargin": true,
           "gridcolor": "white",
           "linecolor": "white",
           "ticks": "",
           "title": {
            "standoff": 15
           },
           "zerolinecolor": "white",
           "zerolinewidth": 2
          },
          "yaxis": {
           "automargin": true,
           "gridcolor": "white",
           "linecolor": "white",
           "ticks": "",
           "title": {
            "standoff": 15
           },
           "zerolinecolor": "white",
           "zerolinewidth": 2
          }
         }
        },
        "title": {
         "text": "Distribusi Per Jam Sewa Sepeda pada Hari Libur (2012)"
        },
        "xaxis": {
         "anchor": "y",
         "domain": [
          0,
          1
         ],
         "tickmode": "linear",
         "title": {
          "text": "Jam"
         }
        },
        "yaxis": {
         "anchor": "x",
         "domain": [
          0,
          1
         ],
         "title": {
          "text": "Jumlah Sewa Sepeda"
         }
        }
       }
      }
     },
     "metadata": {},
     "output_type": "display_data"
    },
    {
     "data": {
      "application/vnd.plotly.v1+json": {
       "config": {
        "plotlyServerURL": "https://plot.ly"
       },
       "data": [
        {
         "hovertemplate": "Jam=%{x}<br>Jumlah Sewa Sepeda=%{y}<extra></extra>",
         "legendgroup": "",
         "line": {
          "color": "#636efa",
          "dash": "solid"
         },
         "marker": {
          "symbol": "circle"
         },
         "mode": "lines",
         "name": "",
         "orientation": "v",
         "showlegend": false,
         "type": "scatter",
         "x": [
          0,
          1,
          2,
          3,
          4,
          5,
          6,
          7,
          8,
          9,
          10,
          11,
          12,
          13,
          14,
          15,
          16,
          17,
          18,
          19,
          20,
          21,
          22,
          23
         ],
         "xaxis": "x",
         "y": [
          11003,
          4801,
          2433,
          1323,
          1478,
          7936,
          31622,
          90904,
          149918,
          74993,
          41989,
          49284,
          62896,
          62346,
          57214,
          63742,
          92514,
          163391,
          153633,
          109003,
          77581,
          57009,
          42031,
          27102
         ],
         "yaxis": "y"
        }
       ],
       "layout": {
        "legend": {
         "tracegroupgap": 0
        },
        "template": {
         "data": {
          "bar": [
           {
            "error_x": {
             "color": "#2a3f5f"
            },
            "error_y": {
             "color": "#2a3f5f"
            },
            "marker": {
             "line": {
              "color": "#E5ECF6",
              "width": 0.5
             },
             "pattern": {
              "fillmode": "overlay",
              "size": 10,
              "solidity": 0.2
             }
            },
            "type": "bar"
           }
          ],
          "barpolar": [
           {
            "marker": {
             "line": {
              "color": "#E5ECF6",
              "width": 0.5
             },
             "pattern": {
              "fillmode": "overlay",
              "size": 10,
              "solidity": 0.2
             }
            },
            "type": "barpolar"
           }
          ],
          "carpet": [
           {
            "aaxis": {
             "endlinecolor": "#2a3f5f",
             "gridcolor": "white",
             "linecolor": "white",
             "minorgridcolor": "white",
             "startlinecolor": "#2a3f5f"
            },
            "baxis": {
             "endlinecolor": "#2a3f5f",
             "gridcolor": "white",
             "linecolor": "white",
             "minorgridcolor": "white",
             "startlinecolor": "#2a3f5f"
            },
            "type": "carpet"
           }
          ],
          "choropleth": [
           {
            "colorbar": {
             "outlinewidth": 0,
             "ticks": ""
            },
            "type": "choropleth"
           }
          ],
          "contour": [
           {
            "colorbar": {
             "outlinewidth": 0,
             "ticks": ""
            },
            "colorscale": [
             [
              0,
              "#0d0887"
             ],
             [
              0.1111111111111111,
              "#46039f"
             ],
             [
              0.2222222222222222,
              "#7201a8"
             ],
             [
              0.3333333333333333,
              "#9c179e"
             ],
             [
              0.4444444444444444,
              "#bd3786"
             ],
             [
              0.5555555555555556,
              "#d8576b"
             ],
             [
              0.6666666666666666,
              "#ed7953"
             ],
             [
              0.7777777777777778,
              "#fb9f3a"
             ],
             [
              0.8888888888888888,
              "#fdca26"
             ],
             [
              1,
              "#f0f921"
             ]
            ],
            "type": "contour"
           }
          ],
          "contourcarpet": [
           {
            "colorbar": {
             "outlinewidth": 0,
             "ticks": ""
            },
            "type": "contourcarpet"
           }
          ],
          "heatmap": [
           {
            "colorbar": {
             "outlinewidth": 0,
             "ticks": ""
            },
            "colorscale": [
             [
              0,
              "#0d0887"
             ],
             [
              0.1111111111111111,
              "#46039f"
             ],
             [
              0.2222222222222222,
              "#7201a8"
             ],
             [
              0.3333333333333333,
              "#9c179e"
             ],
             [
              0.4444444444444444,
              "#bd3786"
             ],
             [
              0.5555555555555556,
              "#d8576b"
             ],
             [
              0.6666666666666666,
              "#ed7953"
             ],
             [
              0.7777777777777778,
              "#fb9f3a"
             ],
             [
              0.8888888888888888,
              "#fdca26"
             ],
             [
              1,
              "#f0f921"
             ]
            ],
            "type": "heatmap"
           }
          ],
          "heatmapgl": [
           {
            "colorbar": {
             "outlinewidth": 0,
             "ticks": ""
            },
            "colorscale": [
             [
              0,
              "#0d0887"
             ],
             [
              0.1111111111111111,
              "#46039f"
             ],
             [
              0.2222222222222222,
              "#7201a8"
             ],
             [
              0.3333333333333333,
              "#9c179e"
             ],
             [
              0.4444444444444444,
              "#bd3786"
             ],
             [
              0.5555555555555556,
              "#d8576b"
             ],
             [
              0.6666666666666666,
              "#ed7953"
             ],
             [
              0.7777777777777778,
              "#fb9f3a"
             ],
             [
              0.8888888888888888,
              "#fdca26"
             ],
             [
              1,
              "#f0f921"
             ]
            ],
            "type": "heatmapgl"
           }
          ],
          "histogram": [
           {
            "marker": {
             "pattern": {
              "fillmode": "overlay",
              "size": 10,
              "solidity": 0.2
             }
            },
            "type": "histogram"
           }
          ],
          "histogram2d": [
           {
            "colorbar": {
             "outlinewidth": 0,
             "ticks": ""
            },
            "colorscale": [
             [
              0,
              "#0d0887"
             ],
             [
              0.1111111111111111,
              "#46039f"
             ],
             [
              0.2222222222222222,
              "#7201a8"
             ],
             [
              0.3333333333333333,
              "#9c179e"
             ],
             [
              0.4444444444444444,
              "#bd3786"
             ],
             [
              0.5555555555555556,
              "#d8576b"
             ],
             [
              0.6666666666666666,
              "#ed7953"
             ],
             [
              0.7777777777777778,
              "#fb9f3a"
             ],
             [
              0.8888888888888888,
              "#fdca26"
             ],
             [
              1,
              "#f0f921"
             ]
            ],
            "type": "histogram2d"
           }
          ],
          "histogram2dcontour": [
           {
            "colorbar": {
             "outlinewidth": 0,
             "ticks": ""
            },
            "colorscale": [
             [
              0,
              "#0d0887"
             ],
             [
              0.1111111111111111,
              "#46039f"
             ],
             [
              0.2222222222222222,
              "#7201a8"
             ],
             [
              0.3333333333333333,
              "#9c179e"
             ],
             [
              0.4444444444444444,
              "#bd3786"
             ],
             [
              0.5555555555555556,
              "#d8576b"
             ],
             [
              0.6666666666666666,
              "#ed7953"
             ],
             [
              0.7777777777777778,
              "#fb9f3a"
             ],
             [
              0.8888888888888888,
              "#fdca26"
             ],
             [
              1,
              "#f0f921"
             ]
            ],
            "type": "histogram2dcontour"
           }
          ],
          "mesh3d": [
           {
            "colorbar": {
             "outlinewidth": 0,
             "ticks": ""
            },
            "type": "mesh3d"
           }
          ],
          "parcoords": [
           {
            "line": {
             "colorbar": {
              "outlinewidth": 0,
              "ticks": ""
             }
            },
            "type": "parcoords"
           }
          ],
          "pie": [
           {
            "automargin": true,
            "type": "pie"
           }
          ],
          "scatter": [
           {
            "fillpattern": {
             "fillmode": "overlay",
             "size": 10,
             "solidity": 0.2
            },
            "type": "scatter"
           }
          ],
          "scatter3d": [
           {
            "line": {
             "colorbar": {
              "outlinewidth": 0,
              "ticks": ""
             }
            },
            "marker": {
             "colorbar": {
              "outlinewidth": 0,
              "ticks": ""
             }
            },
            "type": "scatter3d"
           }
          ],
          "scattercarpet": [
           {
            "marker": {
             "colorbar": {
              "outlinewidth": 0,
              "ticks": ""
             }
            },
            "type": "scattercarpet"
           }
          ],
          "scattergeo": [
           {
            "marker": {
             "colorbar": {
              "outlinewidth": 0,
              "ticks": ""
             }
            },
            "type": "scattergeo"
           }
          ],
          "scattergl": [
           {
            "marker": {
             "colorbar": {
              "outlinewidth": 0,
              "ticks": ""
             }
            },
            "type": "scattergl"
           }
          ],
          "scattermapbox": [
           {
            "marker": {
             "colorbar": {
              "outlinewidth": 0,
              "ticks": ""
             }
            },
            "type": "scattermapbox"
           }
          ],
          "scatterpolar": [
           {
            "marker": {
             "colorbar": {
              "outlinewidth": 0,
              "ticks": ""
             }
            },
            "type": "scatterpolar"
           }
          ],
          "scatterpolargl": [
           {
            "marker": {
             "colorbar": {
              "outlinewidth": 0,
              "ticks": ""
             }
            },
            "type": "scatterpolargl"
           }
          ],
          "scatterternary": [
           {
            "marker": {
             "colorbar": {
              "outlinewidth": 0,
              "ticks": ""
             }
            },
            "type": "scatterternary"
           }
          ],
          "surface": [
           {
            "colorbar": {
             "outlinewidth": 0,
             "ticks": ""
            },
            "colorscale": [
             [
              0,
              "#0d0887"
             ],
             [
              0.1111111111111111,
              "#46039f"
             ],
             [
              0.2222222222222222,
              "#7201a8"
             ],
             [
              0.3333333333333333,
              "#9c179e"
             ],
             [
              0.4444444444444444,
              "#bd3786"
             ],
             [
              0.5555555555555556,
              "#d8576b"
             ],
             [
              0.6666666666666666,
              "#ed7953"
             ],
             [
              0.7777777777777778,
              "#fb9f3a"
             ],
             [
              0.8888888888888888,
              "#fdca26"
             ],
             [
              1,
              "#f0f921"
             ]
            ],
            "type": "surface"
           }
          ],
          "table": [
           {
            "cells": {
             "fill": {
              "color": "#EBF0F8"
             },
             "line": {
              "color": "white"
             }
            },
            "header": {
             "fill": {
              "color": "#C8D4E3"
             },
             "line": {
              "color": "white"
             }
            },
            "type": "table"
           }
          ]
         },
         "layout": {
          "annotationdefaults": {
           "arrowcolor": "#2a3f5f",
           "arrowhead": 0,
           "arrowwidth": 1
          },
          "autotypenumbers": "strict",
          "coloraxis": {
           "colorbar": {
            "outlinewidth": 0,
            "ticks": ""
           }
          },
          "colorscale": {
           "diverging": [
            [
             0,
             "#8e0152"
            ],
            [
             0.1,
             "#c51b7d"
            ],
            [
             0.2,
             "#de77ae"
            ],
            [
             0.3,
             "#f1b6da"
            ],
            [
             0.4,
             "#fde0ef"
            ],
            [
             0.5,
             "#f7f7f7"
            ],
            [
             0.6,
             "#e6f5d0"
            ],
            [
             0.7,
             "#b8e186"
            ],
            [
             0.8,
             "#7fbc41"
            ],
            [
             0.9,
             "#4d9221"
            ],
            [
             1,
             "#276419"
            ]
           ],
           "sequential": [
            [
             0,
             "#0d0887"
            ],
            [
             0.1111111111111111,
             "#46039f"
            ],
            [
             0.2222222222222222,
             "#7201a8"
            ],
            [
             0.3333333333333333,
             "#9c179e"
            ],
            [
             0.4444444444444444,
             "#bd3786"
            ],
            [
             0.5555555555555556,
             "#d8576b"
            ],
            [
             0.6666666666666666,
             "#ed7953"
            ],
            [
             0.7777777777777778,
             "#fb9f3a"
            ],
            [
             0.8888888888888888,
             "#fdca26"
            ],
            [
             1,
             "#f0f921"
            ]
           ],
           "sequentialminus": [
            [
             0,
             "#0d0887"
            ],
            [
             0.1111111111111111,
             "#46039f"
            ],
            [
             0.2222222222222222,
             "#7201a8"
            ],
            [
             0.3333333333333333,
             "#9c179e"
            ],
            [
             0.4444444444444444,
             "#bd3786"
            ],
            [
             0.5555555555555556,
             "#d8576b"
            ],
            [
             0.6666666666666666,
             "#ed7953"
            ],
            [
             0.7777777777777778,
             "#fb9f3a"
            ],
            [
             0.8888888888888888,
             "#fdca26"
            ],
            [
             1,
             "#f0f921"
            ]
           ]
          },
          "colorway": [
           "#636efa",
           "#EF553B",
           "#00cc96",
           "#ab63fa",
           "#FFA15A",
           "#19d3f3",
           "#FF6692",
           "#B6E880",
           "#FF97FF",
           "#FECB52"
          ],
          "font": {
           "color": "#2a3f5f"
          },
          "geo": {
           "bgcolor": "white",
           "lakecolor": "white",
           "landcolor": "#E5ECF6",
           "showlakes": true,
           "showland": true,
           "subunitcolor": "white"
          },
          "hoverlabel": {
           "align": "left"
          },
          "hovermode": "closest",
          "mapbox": {
           "style": "light"
          },
          "paper_bgcolor": "white",
          "plot_bgcolor": "#E5ECF6",
          "polar": {
           "angularaxis": {
            "gridcolor": "white",
            "linecolor": "white",
            "ticks": ""
           },
           "bgcolor": "#E5ECF6",
           "radialaxis": {
            "gridcolor": "white",
            "linecolor": "white",
            "ticks": ""
           }
          },
          "scene": {
           "xaxis": {
            "backgroundcolor": "#E5ECF6",
            "gridcolor": "white",
            "gridwidth": 2,
            "linecolor": "white",
            "showbackground": true,
            "ticks": "",
            "zerolinecolor": "white"
           },
           "yaxis": {
            "backgroundcolor": "#E5ECF6",
            "gridcolor": "white",
            "gridwidth": 2,
            "linecolor": "white",
            "showbackground": true,
            "ticks": "",
            "zerolinecolor": "white"
           },
           "zaxis": {
            "backgroundcolor": "#E5ECF6",
            "gridcolor": "white",
            "gridwidth": 2,
            "linecolor": "white",
            "showbackground": true,
            "ticks": "",
            "zerolinecolor": "white"
           }
          },
          "shapedefaults": {
           "line": {
            "color": "#2a3f5f"
           }
          },
          "ternary": {
           "aaxis": {
            "gridcolor": "white",
            "linecolor": "white",
            "ticks": ""
           },
           "baxis": {
            "gridcolor": "white",
            "linecolor": "white",
            "ticks": ""
           },
           "bgcolor": "#E5ECF6",
           "caxis": {
            "gridcolor": "white",
            "linecolor": "white",
            "ticks": ""
           }
          },
          "title": {
           "x": 0.05
          },
          "xaxis": {
           "automargin": true,
           "gridcolor": "white",
           "linecolor": "white",
           "ticks": "",
           "title": {
            "standoff": 15
           },
           "zerolinecolor": "white",
           "zerolinewidth": 2
          },
          "yaxis": {
           "automargin": true,
           "gridcolor": "white",
           "linecolor": "white",
           "ticks": "",
           "title": {
            "standoff": 15
           },
           "zerolinecolor": "white",
           "zerolinewidth": 2
          }
         }
        },
        "title": {
         "text": "Distribusi Per Jam Sewa Sepeda pada Hari Kerja (2012)"
        },
        "xaxis": {
         "anchor": "y",
         "domain": [
          0,
          1
         ],
         "tickmode": "linear",
         "title": {
          "text": "Jam"
         }
        },
        "yaxis": {
         "anchor": "x",
         "domain": [
          0,
          1
         ],
         "title": {
          "text": "Jumlah Sewa Sepeda"
         }
        }
       }
      }
     },
     "metadata": {},
     "output_type": "display_data"
    }
   ],
   "source": [
    "# Filter data tahun 2012 (yr = 1), Hari Libur (holiday = 1), dan Hari Kerja (workingday = 1)\n",
    "filtered_data_2012_holiday = df_hour[(df_hour[\"yr\"] == 1) & (df_hour[\"holiday\"] == 1)]\n",
    "filtered_data_2012_workingday = df_hour[(df_hour[\"yr\"] == 1) & (df_hour[\"workingday\"] == 1)]\n",
    "\n",
    "# Hitung distribusi per jam sewa sepeda (cnt) untuk Hari Libur dan Hari Kerja\n",
    "distribusi_per_jam_holiday = filtered_data_2012_holiday.groupby(\"hr\")[\"cnt\"].sum()\n",
    "distribusi_per_jam_workingday = filtered_data_2012_workingday.groupby(\"hr\")[\"cnt\"].sum()\n",
    "\n",
    "# Visualisasikan distribusi per jam\n",
    "fig = px.line(x=distribusi_per_jam_holiday.index, y=distribusi_per_jam_holiday.values,\n",
    "            labels={\"x\": \"Jam\", \"y\": \"Jumlah Sewa Sepeda\"},\n",
    "            title=\"Distribusi Per Jam Sewa Sepeda pada Hari Libur (2012)\")\n",
    "fig.update_xaxes(tickmode=\"linear\")\n",
    "fig.show()\n",
    "\n",
    "fig = px.line(x=distribusi_per_jam_workingday.index, y=distribusi_per_jam_workingday.values,\n",
    "            labels={\"x\": \"Jam\", \"y\": \"Jumlah Sewa Sepeda\"},\n",
    "            title=\"Distribusi Per Jam Sewa Sepeda pada Hari Kerja (2012)\")\n",
    "fig.update_xaxes(tickmode=\"linear\")\n",
    "fig.show()"
   ]
  },
  {
   "cell_type": "markdown",
   "metadata": {},
   "source": [
    "insight : \n",
    "- Anda dapat melihat tren distribusi per jam sewa sepeda pada Hari Libur dan Hari Kerja pada tahun 2012.\n",
    "- Mungkin ada perbedaan pola konsumsi sepeda antara Hari Libur dan Hari Kerja yang dapat membantu dalam perencanaan sumber daya"
   ]
  },
  {
   "cell_type": "markdown",
   "metadata": {},
   "source": [
    "Conclusion :\n",
    "\n",
    "1. terdapat faktor utama yang signifikan disini yaitu faktor cuaca mempengaruhi jumlah sewa sepeda.\n",
    "\n",
    "2. perbedaan dalam total jumlah sewa sepeda dari tahun 2011 dan 2012 selama musim gugur (musim 3) yang berjumlah yaitu : \n",
    "- tahun 2011 berjumlah 419.650.\n",
    "- tahun 2012 berjumlah 651.479.\n",
    "\n",
    "3. pada jumlah sewa sepeda  yang disewakan hari libur selama musim panas tahun 2012 total jumlah 13437, disini terjadi peningkatan yang sangat dratis secara popuralitas dalam bersepeda saat liburan. mengalami jumlah nilai tinggi untuk nilai inventaris secara infrastruktur, minat orang-orang terhadap sepeda untuk hidup sehat saat memiliki waktu yang banyak di hari libur.\n",
    "\n",
    "4. pada jumlah sewa sepeda casual pada hari kerja, dihari ke-5 yaitu jumat memiliki perbandingan yang mencolok yaitu peningkatan dalam minat sewa sepeda bahwa menunjukan yang signifikan menjelang akhir pekan.\n",
    "\n",
    "5. hubungan suhu (temp) dan dengan jumlah pengguna yang terdaftar (registered) disini menunjukan bahwa cuaca dapat mempengaruhi minat dalam bersepeda, secara peningkatan suhu cuaca juga meningkatkan jumlah pengguna bersepeda.\n",
    "\n",
    "6. pada distribusi perjam sewa pada hari libur tahun 2012 memiliki peningkatan signifikan pada pukul 17.00 yang total berjumlah sewa sepeda 3.880 orang, sedangkan pada distribusi perjam sewa pada hari kerja tahun 2012 memiliki peningkatan signifikan pada pukul 17.00 yang total berjumlah sewa sepeda 163.391 orang."
   ]
  }
 ],
 "metadata": {
  "kernelspec": {
   "display_name": "Python 3",
   "language": "python",
   "name": "python3"
  },
  "language_info": {
   "codemirror_mode": {
    "name": "ipython",
    "version": 3
   },
   "file_extension": ".py",
   "mimetype": "text/x-python",
   "name": "python",
   "nbconvert_exporter": "python",
   "pygments_lexer": "ipython3",
   "version": "3.8.5"
  }
 },
 "nbformat": 4,
 "nbformat_minor": 4
}
